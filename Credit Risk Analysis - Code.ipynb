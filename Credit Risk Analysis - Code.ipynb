{
 "cells": [
  {
   "cell_type": "code",
   "execution_count": 1,
   "id": "395ab589",
   "metadata": {},
   "outputs": [
    {
     "name": "stderr",
     "output_type": "stream",
     "text": [
      "/Users/dehilinesma/opt/anaconda3/lib/python3.9/site-packages/tpot/builtins/__init__.py:36: UserWarning: Warning: optional dependency `torch` is not available. - skipping import of NN models.\n",
      "  warnings.warn(\"Warning: optional dependency `torch` is not available. - skipping import of NN models.\")\n"
     ]
    }
   ],
   "source": [
    "%matplotlib inline\n",
    "import seaborn as sns\n",
    "import matplotlib.pyplot as plt\n",
    "import numpy as np\n",
    "import pandas as pd\n",
    "\n",
    "from sklearn.metrics import classification_report\n",
    "from sklearn.metrics import confusion_matrix\n",
    "from sklearn.ensemble import RandomForestClassifier\n",
    "from sklearn.preprocessing import LabelEncoder\n",
    "from sklearn.linear_model import LogisticRegression\n",
    "from sklearn import metrics\n",
    "from sklearn.metrics import roc_auc_score\n",
    "from sklearn.metrics import confusion_matrix\n",
    "from sklearn.metrics import classification_report\n",
    "from sklearn.model_selection import train_test_split\n",
    "from sklearn.feature_selection import SelectFromModel\n",
    "from sklearn.model_selection import cross_val_score\n",
    "from sklearn.model_selection import RandomizedSearchCV, GridSearchCV\n",
    "import xgboost as xgb\n",
    "from sklearn.utils import resample\n",
    "import tpot\n",
    "from tpot import TPOTClassifier\n",
    "import warnings\n",
    "warnings.filterwarnings('ignore')"
   ]
  },
  {
   "cell_type": "code",
   "execution_count": 2,
   "id": "b77d052b",
   "metadata": {},
   "outputs": [],
   "source": [
    "test=pd.read_csv('/Users/dehilinesma/Downloads/Final Project- Risk Analysis/credit_test.csv')"
   ]
  },
  {
   "cell_type": "code",
   "execution_count": 3,
   "id": "23178670",
   "metadata": {},
   "outputs": [],
   "source": [
    "train=pd.read_csv('/Users/dehilinesma/Downloads/Final Project- Risk Analysis/credit_train.csv')"
   ]
  },
  {
   "cell_type": "code",
   "execution_count": 4,
   "id": "24b7f8a5",
   "metadata": {},
   "outputs": [],
   "source": [
    "frames = [train, test]\n",
    "\n",
    "df = pd.concat(frames)"
   ]
  },
  {
   "cell_type": "markdown",
   "id": "d085d88d",
   "metadata": {},
   "source": [
    "## Data Description "
   ]
  },
  {
   "cell_type": "code",
   "execution_count": 5,
   "id": "fbffb898",
   "metadata": {},
   "outputs": [
    {
     "data": {
      "text/plain": [
       "(110867, 19)"
      ]
     },
     "execution_count": 5,
     "metadata": {},
     "output_type": "execute_result"
    }
   ],
   "source": [
    "df.shape"
   ]
  },
  {
   "cell_type": "code",
   "execution_count": 6,
   "id": "78ea7f00",
   "metadata": {},
   "outputs": [
    {
     "data": {
      "text/html": [
       "<div>\n",
       "<style scoped>\n",
       "    .dataframe tbody tr th:only-of-type {\n",
       "        vertical-align: middle;\n",
       "    }\n",
       "\n",
       "    .dataframe tbody tr th {\n",
       "        vertical-align: top;\n",
       "    }\n",
       "\n",
       "    .dataframe thead th {\n",
       "        text-align: right;\n",
       "    }\n",
       "</style>\n",
       "<table border=\"1\" class=\"dataframe\">\n",
       "  <thead>\n",
       "    <tr style=\"text-align: right;\">\n",
       "      <th></th>\n",
       "      <th>Loan ID</th>\n",
       "      <th>Customer ID</th>\n",
       "      <th>Loan Status</th>\n",
       "      <th>Current Loan Amount</th>\n",
       "      <th>Term</th>\n",
       "      <th>Credit Score</th>\n",
       "      <th>Annual Income</th>\n",
       "      <th>Years in current job</th>\n",
       "      <th>Home Ownership</th>\n",
       "      <th>Purpose</th>\n",
       "      <th>Monthly Debt</th>\n",
       "      <th>Years of Credit History</th>\n",
       "      <th>Months since last delinquent</th>\n",
       "      <th>Number of Open Accounts</th>\n",
       "      <th>Number of Credit Problems</th>\n",
       "      <th>Current Credit Balance</th>\n",
       "      <th>Maximum Open Credit</th>\n",
       "      <th>Bankruptcies</th>\n",
       "      <th>Tax Liens</th>\n",
       "    </tr>\n",
       "  </thead>\n",
       "  <tbody>\n",
       "    <tr>\n",
       "      <th>0</th>\n",
       "      <td>14dd8831-6af5-400b-83ec-68e61888a048</td>\n",
       "      <td>981165ec-3274-42f5-a3b4-d104041a9ca9</td>\n",
       "      <td>Fully Paid</td>\n",
       "      <td>445412.0</td>\n",
       "      <td>Short Term</td>\n",
       "      <td>709.0</td>\n",
       "      <td>1167493.0</td>\n",
       "      <td>8 years</td>\n",
       "      <td>Home Mortgage</td>\n",
       "      <td>Home Improvements</td>\n",
       "      <td>5214.74</td>\n",
       "      <td>17.2</td>\n",
       "      <td>NaN</td>\n",
       "      <td>6.0</td>\n",
       "      <td>1.0</td>\n",
       "      <td>228190.0</td>\n",
       "      <td>416746.0</td>\n",
       "      <td>1.0</td>\n",
       "      <td>0.0</td>\n",
       "    </tr>\n",
       "    <tr>\n",
       "      <th>1</th>\n",
       "      <td>4771cc26-131a-45db-b5aa-537ea4ba5342</td>\n",
       "      <td>2de017a3-2e01-49cb-a581-08169e83be29</td>\n",
       "      <td>Fully Paid</td>\n",
       "      <td>262328.0</td>\n",
       "      <td>Short Term</td>\n",
       "      <td>NaN</td>\n",
       "      <td>NaN</td>\n",
       "      <td>10+ years</td>\n",
       "      <td>Home Mortgage</td>\n",
       "      <td>Debt Consolidation</td>\n",
       "      <td>33295.98</td>\n",
       "      <td>21.1</td>\n",
       "      <td>8.0</td>\n",
       "      <td>35.0</td>\n",
       "      <td>0.0</td>\n",
       "      <td>229976.0</td>\n",
       "      <td>850784.0</td>\n",
       "      <td>0.0</td>\n",
       "      <td>0.0</td>\n",
       "    </tr>\n",
       "    <tr>\n",
       "      <th>2</th>\n",
       "      <td>4eed4e6a-aa2f-4c91-8651-ce984ee8fb26</td>\n",
       "      <td>5efb2b2b-bf11-4dfd-a572-3761a2694725</td>\n",
       "      <td>Fully Paid</td>\n",
       "      <td>99999999.0</td>\n",
       "      <td>Short Term</td>\n",
       "      <td>741.0</td>\n",
       "      <td>2231892.0</td>\n",
       "      <td>8 years</td>\n",
       "      <td>Own Home</td>\n",
       "      <td>Debt Consolidation</td>\n",
       "      <td>29200.53</td>\n",
       "      <td>14.9</td>\n",
       "      <td>29.0</td>\n",
       "      <td>18.0</td>\n",
       "      <td>1.0</td>\n",
       "      <td>297996.0</td>\n",
       "      <td>750090.0</td>\n",
       "      <td>0.0</td>\n",
       "      <td>0.0</td>\n",
       "    </tr>\n",
       "    <tr>\n",
       "      <th>3</th>\n",
       "      <td>77598f7b-32e7-4e3b-a6e5-06ba0d98fe8a</td>\n",
       "      <td>e777faab-98ae-45af-9a86-7ce5b33b1011</td>\n",
       "      <td>Fully Paid</td>\n",
       "      <td>347666.0</td>\n",
       "      <td>Long Term</td>\n",
       "      <td>721.0</td>\n",
       "      <td>806949.0</td>\n",
       "      <td>3 years</td>\n",
       "      <td>Own Home</td>\n",
       "      <td>Debt Consolidation</td>\n",
       "      <td>8741.90</td>\n",
       "      <td>12.0</td>\n",
       "      <td>NaN</td>\n",
       "      <td>9.0</td>\n",
       "      <td>0.0</td>\n",
       "      <td>256329.0</td>\n",
       "      <td>386958.0</td>\n",
       "      <td>0.0</td>\n",
       "      <td>0.0</td>\n",
       "    </tr>\n",
       "    <tr>\n",
       "      <th>4</th>\n",
       "      <td>d4062e70-befa-4995-8643-a0de73938182</td>\n",
       "      <td>81536ad9-5ccf-4eb8-befb-47a4d608658e</td>\n",
       "      <td>Fully Paid</td>\n",
       "      <td>176220.0</td>\n",
       "      <td>Short Term</td>\n",
       "      <td>NaN</td>\n",
       "      <td>NaN</td>\n",
       "      <td>5 years</td>\n",
       "      <td>Rent</td>\n",
       "      <td>Debt Consolidation</td>\n",
       "      <td>20639.70</td>\n",
       "      <td>6.1</td>\n",
       "      <td>NaN</td>\n",
       "      <td>15.0</td>\n",
       "      <td>0.0</td>\n",
       "      <td>253460.0</td>\n",
       "      <td>427174.0</td>\n",
       "      <td>0.0</td>\n",
       "      <td>0.0</td>\n",
       "    </tr>\n",
       "  </tbody>\n",
       "</table>\n",
       "</div>"
      ],
      "text/plain": [
       "                                Loan ID                           Customer ID  \\\n",
       "0  14dd8831-6af5-400b-83ec-68e61888a048  981165ec-3274-42f5-a3b4-d104041a9ca9   \n",
       "1  4771cc26-131a-45db-b5aa-537ea4ba5342  2de017a3-2e01-49cb-a581-08169e83be29   \n",
       "2  4eed4e6a-aa2f-4c91-8651-ce984ee8fb26  5efb2b2b-bf11-4dfd-a572-3761a2694725   \n",
       "3  77598f7b-32e7-4e3b-a6e5-06ba0d98fe8a  e777faab-98ae-45af-9a86-7ce5b33b1011   \n",
       "4  d4062e70-befa-4995-8643-a0de73938182  81536ad9-5ccf-4eb8-befb-47a4d608658e   \n",
       "\n",
       "  Loan Status  Current Loan Amount        Term  Credit Score  Annual Income  \\\n",
       "0  Fully Paid             445412.0  Short Term         709.0      1167493.0   \n",
       "1  Fully Paid             262328.0  Short Term           NaN            NaN   \n",
       "2  Fully Paid           99999999.0  Short Term         741.0      2231892.0   \n",
       "3  Fully Paid             347666.0   Long Term         721.0       806949.0   \n",
       "4  Fully Paid             176220.0  Short Term           NaN            NaN   \n",
       "\n",
       "  Years in current job Home Ownership             Purpose  Monthly Debt  \\\n",
       "0              8 years  Home Mortgage   Home Improvements       5214.74   \n",
       "1            10+ years  Home Mortgage  Debt Consolidation      33295.98   \n",
       "2              8 years       Own Home  Debt Consolidation      29200.53   \n",
       "3              3 years       Own Home  Debt Consolidation       8741.90   \n",
       "4              5 years           Rent  Debt Consolidation      20639.70   \n",
       "\n",
       "   Years of Credit History  Months since last delinquent  \\\n",
       "0                     17.2                           NaN   \n",
       "1                     21.1                           8.0   \n",
       "2                     14.9                          29.0   \n",
       "3                     12.0                           NaN   \n",
       "4                      6.1                           NaN   \n",
       "\n",
       "   Number of Open Accounts  Number of Credit Problems  Current Credit Balance  \\\n",
       "0                      6.0                        1.0                228190.0   \n",
       "1                     35.0                        0.0                229976.0   \n",
       "2                     18.0                        1.0                297996.0   \n",
       "3                      9.0                        0.0                256329.0   \n",
       "4                     15.0                        0.0                253460.0   \n",
       "\n",
       "   Maximum Open Credit  Bankruptcies  Tax Liens  \n",
       "0             416746.0           1.0        0.0  \n",
       "1             850784.0           0.0        0.0  \n",
       "2             750090.0           0.0        0.0  \n",
       "3             386958.0           0.0        0.0  \n",
       "4             427174.0           0.0        0.0  "
      ]
     },
     "execution_count": 6,
     "metadata": {},
     "output_type": "execute_result"
    }
   ],
   "source": [
    "df.head()"
   ]
  },
  {
   "cell_type": "code",
   "execution_count": 7,
   "id": "9596bcbc",
   "metadata": {},
   "outputs": [
    {
     "data": {
      "text/plain": [
       "Index(['Loan ID', 'Customer ID', 'Loan Status', 'Current Loan Amount', 'Term',\n",
       "       'Credit Score', 'Annual Income', 'Years in current job',\n",
       "       'Home Ownership', 'Purpose', 'Monthly Debt', 'Years of Credit History',\n",
       "       'Months since last delinquent', 'Number of Open Accounts',\n",
       "       'Number of Credit Problems', 'Current Credit Balance',\n",
       "       'Maximum Open Credit', 'Bankruptcies', 'Tax Liens'],\n",
       "      dtype='object')"
      ]
     },
     "execution_count": 7,
     "metadata": {},
     "output_type": "execute_result"
    }
   ],
   "source": [
    "df.columns"
   ]
  },
  {
   "cell_type": "code",
   "execution_count": 8,
   "id": "b488b4d8",
   "metadata": {},
   "outputs": [
    {
     "data": {
      "text/html": [
       "<div>\n",
       "<style scoped>\n",
       "    .dataframe tbody tr th:only-of-type {\n",
       "        vertical-align: middle;\n",
       "    }\n",
       "\n",
       "    .dataframe tbody tr th {\n",
       "        vertical-align: top;\n",
       "    }\n",
       "\n",
       "    .dataframe thead th {\n",
       "        text-align: right;\n",
       "    }\n",
       "</style>\n",
       "<table border=\"1\" class=\"dataframe\">\n",
       "  <thead>\n",
       "    <tr style=\"text-align: right;\">\n",
       "      <th></th>\n",
       "      <th>Current Loan Amount</th>\n",
       "      <th>Credit Score</th>\n",
       "      <th>Annual Income</th>\n",
       "      <th>Monthly Debt</th>\n",
       "      <th>Years of Credit History</th>\n",
       "      <th>Months since last delinquent</th>\n",
       "      <th>Number of Open Accounts</th>\n",
       "      <th>Number of Credit Problems</th>\n",
       "      <th>Current Credit Balance</th>\n",
       "      <th>Maximum Open Credit</th>\n",
       "      <th>Bankruptcies</th>\n",
       "      <th>Tax Liens</th>\n",
       "    </tr>\n",
       "  </thead>\n",
       "  <tbody>\n",
       "    <tr>\n",
       "      <th>count</th>\n",
       "      <td>1.100000e+05</td>\n",
       "      <td>88865.000000</td>\n",
       "      <td>8.886500e+04</td>\n",
       "      <td>110000.000000</td>\n",
       "      <td>110000.000000</td>\n",
       "      <td>51553.000000</td>\n",
       "      <td>110000.000000</td>\n",
       "      <td>110000.000000</td>\n",
       "      <td>1.100000e+05</td>\n",
       "      <td>1.099980e+05</td>\n",
       "      <td>109774.000000</td>\n",
       "      <td>109989.000000</td>\n",
       "    </tr>\n",
       "    <tr>\n",
       "      <th>mean</th>\n",
       "      <td>1.174621e+07</td>\n",
       "      <td>1076.594644</td>\n",
       "      <td>1.377449e+06</td>\n",
       "      <td>18468.526823</td>\n",
       "      <td>18.202485</td>\n",
       "      <td>34.907086</td>\n",
       "      <td>11.124491</td>\n",
       "      <td>0.168055</td>\n",
       "      <td>2.942822e+05</td>\n",
       "      <td>7.541012e+05</td>\n",
       "      <td>0.117614</td>\n",
       "      <td>0.029448</td>\n",
       "    </tr>\n",
       "    <tr>\n",
       "      <th>std</th>\n",
       "      <td>3.176716e+07</td>\n",
       "      <td>1475.581902</td>\n",
       "      <td>1.063920e+06</td>\n",
       "      <td>12195.564391</td>\n",
       "      <td>7.015575</td>\n",
       "      <td>21.965315</td>\n",
       "      <td>5.011093</td>\n",
       "      <td>0.484389</td>\n",
       "      <td>3.772773e+05</td>\n",
       "      <td>8.014002e+06</td>\n",
       "      <td>0.351290</td>\n",
       "      <td>0.261054</td>\n",
       "    </tr>\n",
       "    <tr>\n",
       "      <th>min</th>\n",
       "      <td>1.080200e+04</td>\n",
       "      <td>585.000000</td>\n",
       "      <td>7.662700e+04</td>\n",
       "      <td>0.000000</td>\n",
       "      <td>3.600000</td>\n",
       "      <td>0.000000</td>\n",
       "      <td>0.000000</td>\n",
       "      <td>0.000000</td>\n",
       "      <td>0.000000e+00</td>\n",
       "      <td>0.000000e+00</td>\n",
       "      <td>0.000000</td>\n",
       "      <td>0.000000</td>\n",
       "    </tr>\n",
       "    <tr>\n",
       "      <th>25%</th>\n",
       "      <td>1.795860e+05</td>\n",
       "      <td>705.000000</td>\n",
       "      <td>8.488440e+05</td>\n",
       "      <td>10211.930000</td>\n",
       "      <td>13.500000</td>\n",
       "      <td>16.000000</td>\n",
       "      <td>8.000000</td>\n",
       "      <td>0.000000</td>\n",
       "      <td>1.121950e+05</td>\n",
       "      <td>2.731575e+05</td>\n",
       "      <td>0.000000</td>\n",
       "      <td>0.000000</td>\n",
       "    </tr>\n",
       "    <tr>\n",
       "      <th>50%</th>\n",
       "      <td>3.120260e+05</td>\n",
       "      <td>724.000000</td>\n",
       "      <td>1.173459e+06</td>\n",
       "      <td>16202.440000</td>\n",
       "      <td>16.900000</td>\n",
       "      <td>32.000000</td>\n",
       "      <td>10.000000</td>\n",
       "      <td>0.000000</td>\n",
       "      <td>2.096650e+05</td>\n",
       "      <td>4.673900e+05</td>\n",
       "      <td>0.000000</td>\n",
       "      <td>0.000000</td>\n",
       "    </tr>\n",
       "    <tr>\n",
       "      <th>75%</th>\n",
       "      <td>5.239300e+05</td>\n",
       "      <td>741.000000</td>\n",
       "      <td>1.651670e+06</td>\n",
       "      <td>23997.522500</td>\n",
       "      <td>21.700000</td>\n",
       "      <td>51.000000</td>\n",
       "      <td>14.000000</td>\n",
       "      <td>0.000000</td>\n",
       "      <td>3.674838e+05</td>\n",
       "      <td>7.831945e+05</td>\n",
       "      <td>0.000000</td>\n",
       "      <td>0.000000</td>\n",
       "    </tr>\n",
       "    <tr>\n",
       "      <th>max</th>\n",
       "      <td>1.000000e+08</td>\n",
       "      <td>7510.000000</td>\n",
       "      <td>1.655574e+08</td>\n",
       "      <td>435843.280000</td>\n",
       "      <td>70.500000</td>\n",
       "      <td>176.000000</td>\n",
       "      <td>76.000000</td>\n",
       "      <td>15.000000</td>\n",
       "      <td>3.287897e+07</td>\n",
       "      <td>1.539738e+09</td>\n",
       "      <td>7.000000</td>\n",
       "      <td>15.000000</td>\n",
       "    </tr>\n",
       "  </tbody>\n",
       "</table>\n",
       "</div>"
      ],
      "text/plain": [
       "       Current Loan Amount  Credit Score  Annual Income   Monthly Debt  \\\n",
       "count         1.100000e+05  88865.000000   8.886500e+04  110000.000000   \n",
       "mean          1.174621e+07   1076.594644   1.377449e+06   18468.526823   \n",
       "std           3.176716e+07   1475.581902   1.063920e+06   12195.564391   \n",
       "min           1.080200e+04    585.000000   7.662700e+04       0.000000   \n",
       "25%           1.795860e+05    705.000000   8.488440e+05   10211.930000   \n",
       "50%           3.120260e+05    724.000000   1.173459e+06   16202.440000   \n",
       "75%           5.239300e+05    741.000000   1.651670e+06   23997.522500   \n",
       "max           1.000000e+08   7510.000000   1.655574e+08  435843.280000   \n",
       "\n",
       "       Years of Credit History  Months since last delinquent  \\\n",
       "count            110000.000000                  51553.000000   \n",
       "mean                 18.202485                     34.907086   \n",
       "std                   7.015575                     21.965315   \n",
       "min                   3.600000                      0.000000   \n",
       "25%                  13.500000                     16.000000   \n",
       "50%                  16.900000                     32.000000   \n",
       "75%                  21.700000                     51.000000   \n",
       "max                  70.500000                    176.000000   \n",
       "\n",
       "       Number of Open Accounts  Number of Credit Problems  \\\n",
       "count            110000.000000              110000.000000   \n",
       "mean                 11.124491                   0.168055   \n",
       "std                   5.011093                   0.484389   \n",
       "min                   0.000000                   0.000000   \n",
       "25%                   8.000000                   0.000000   \n",
       "50%                  10.000000                   0.000000   \n",
       "75%                  14.000000                   0.000000   \n",
       "max                  76.000000                  15.000000   \n",
       "\n",
       "       Current Credit Balance  Maximum Open Credit   Bankruptcies  \\\n",
       "count            1.100000e+05         1.099980e+05  109774.000000   \n",
       "mean             2.942822e+05         7.541012e+05       0.117614   \n",
       "std              3.772773e+05         8.014002e+06       0.351290   \n",
       "min              0.000000e+00         0.000000e+00       0.000000   \n",
       "25%              1.121950e+05         2.731575e+05       0.000000   \n",
       "50%              2.096650e+05         4.673900e+05       0.000000   \n",
       "75%              3.674838e+05         7.831945e+05       0.000000   \n",
       "max              3.287897e+07         1.539738e+09       7.000000   \n",
       "\n",
       "           Tax Liens  \n",
       "count  109989.000000  \n",
       "mean        0.029448  \n",
       "std         0.261054  \n",
       "min         0.000000  \n",
       "25%         0.000000  \n",
       "50%         0.000000  \n",
       "75%         0.000000  \n",
       "max        15.000000  "
      ]
     },
     "execution_count": 8,
     "metadata": {},
     "output_type": "execute_result"
    }
   ],
   "source": [
    "df.describe()"
   ]
  },
  {
   "cell_type": "code",
   "execution_count": 9,
   "id": "239411c1",
   "metadata": {},
   "outputs": [
    {
     "data": {
      "text/plain": [
       "Loan ID                          object\n",
       "Customer ID                      object\n",
       "Loan Status                      object\n",
       "Current Loan Amount             float64\n",
       "Term                             object\n",
       "Credit Score                    float64\n",
       "Annual Income                   float64\n",
       "Years in current job             object\n",
       "Home Ownership                   object\n",
       "Purpose                          object\n",
       "Monthly Debt                    float64\n",
       "Years of Credit History         float64\n",
       "Months since last delinquent    float64\n",
       "Number of Open Accounts         float64\n",
       "Number of Credit Problems       float64\n",
       "Current Credit Balance          float64\n",
       "Maximum Open Credit             float64\n",
       "Bankruptcies                    float64\n",
       "Tax Liens                       float64\n",
       "dtype: object"
      ]
     },
     "execution_count": 9,
     "metadata": {},
     "output_type": "execute_result"
    }
   ],
   "source": [
    "df.dtypes"
   ]
  },
  {
   "cell_type": "code",
   "execution_count": 10,
   "id": "f2b4c33e",
   "metadata": {},
   "outputs": [
    {
     "data": {
      "text/plain": [
       "Index(['Loan ID', 'Customer ID', 'Loan Status', 'Term', 'Years in current job',\n",
       "       'Home Ownership', 'Purpose'],\n",
       "      dtype='object')"
      ]
     },
     "execution_count": 10,
     "metadata": {},
     "output_type": "execute_result"
    }
   ],
   "source": [
    "#categorical data \n",
    "cat=df.select_dtypes(include=['object'])\n",
    "cat.columns"
   ]
  },
  {
   "cell_type": "code",
   "execution_count": 11,
   "id": "b185280b",
   "metadata": {},
   "outputs": [
    {
     "data": {
      "text/plain": [
       "Index(['Current Loan Amount', 'Credit Score', 'Annual Income', 'Monthly Debt',\n",
       "       'Years of Credit History', 'Months since last delinquent',\n",
       "       'Number of Open Accounts', 'Number of Credit Problems',\n",
       "       'Current Credit Balance', 'Maximum Open Credit', 'Bankruptcies',\n",
       "       'Tax Liens'],\n",
       "      dtype='object')"
      ]
     },
     "execution_count": 11,
     "metadata": {},
     "output_type": "execute_result"
    }
   ],
   "source": [
    "# We look for numeric data\n",
    "num = df.select_dtypes(exclude=['object'])\n",
    "num.columns"
   ]
  },
  {
   "cell_type": "code",
   "execution_count": 12,
   "id": "c58862bd",
   "metadata": {},
   "outputs": [
    {
     "data": {
      "text/plain": [
       "<AxesSubplot:>"
      ]
     },
     "execution_count": 12,
     "metadata": {},
     "output_type": "execute_result"
    },
    {
     "data": {
      "image/png": "[encoded data removed]",
      "text/plain": [
       "<Figure size 432x288 with 2 Axes>"
      ]
     },
     "metadata": {
      "needs_background": "light"
     },
     "output_type": "display_data"
    }
   ],
   "source": [
    "# Your code here\n",
    "corr=df.corr()\n",
    "sns.heatmap(df.corr())"
   ]
  },
  {
   "cell_type": "code",
   "execution_count": 13,
   "id": "236a5a73",
   "metadata": {
    "scrolled": true
   },
   "outputs": [
    {
     "data": {
      "text/plain": [
       "Loan ID                           867\n",
       "Customer ID                       867\n",
       "Loan Status                     10867\n",
       "Current Loan Amount               867\n",
       "Term                              867\n",
       "Credit Score                    22002\n",
       "Annual Income                   22002\n",
       "Years in current job             5516\n",
       "Home Ownership                    867\n",
       "Purpose                           867\n",
       "Monthly Debt                      867\n",
       "Years of Credit History           867\n",
       "Months since last delinquent    59314\n",
       "Number of Open Accounts           867\n",
       "Number of Credit Problems         867\n",
       "Current Credit Balance            867\n",
       "Maximum Open Credit               869\n",
       "Bankruptcies                     1093\n",
       "Tax Liens                         878\n",
       "dtype: int64"
      ]
     },
     "execution_count": 13,
     "metadata": {},
     "output_type": "execute_result"
    }
   ],
   "source": [
    "df.isna().sum()"
   ]
  },
  {
   "cell_type": "code",
   "execution_count": 14,
   "id": "34f94799",
   "metadata": {},
   "outputs": [
    {
     "data": {
      "text/html": [
       "<div>\n",
       "<style scoped>\n",
       "    .dataframe tbody tr th:only-of-type {\n",
       "        vertical-align: middle;\n",
       "    }\n",
       "\n",
       "    .dataframe tbody tr th {\n",
       "        vertical-align: top;\n",
       "    }\n",
       "\n",
       "    .dataframe thead th {\n",
       "        text-align: right;\n",
       "    }\n",
       "</style>\n",
       "<table border=\"1\" class=\"dataframe\">\n",
       "  <thead>\n",
       "    <tr style=\"text-align: right;\">\n",
       "      <th></th>\n",
       "      <th>Loan ID</th>\n",
       "      <th>Customer ID</th>\n",
       "      <th>Loan Status</th>\n",
       "      <th>Current Loan Amount</th>\n",
       "      <th>Term</th>\n",
       "      <th>Credit Score</th>\n",
       "      <th>Annual Income</th>\n",
       "      <th>Years in current job</th>\n",
       "      <th>Home Ownership</th>\n",
       "      <th>Purpose</th>\n",
       "      <th>Monthly Debt</th>\n",
       "      <th>Years of Credit History</th>\n",
       "      <th>Months since last delinquent</th>\n",
       "      <th>Number of Open Accounts</th>\n",
       "      <th>Number of Credit Problems</th>\n",
       "      <th>Current Credit Balance</th>\n",
       "      <th>Maximum Open Credit</th>\n",
       "      <th>Bankruptcies</th>\n",
       "      <th>Tax Liens</th>\n",
       "    </tr>\n",
       "  </thead>\n",
       "  <tbody>\n",
       "    <tr>\n",
       "      <th>0</th>\n",
       "      <td>14dd8831-6af5-400b-83ec-68e61888a048</td>\n",
       "      <td>981165ec-3274-42f5-a3b4-d104041a9ca9</td>\n",
       "      <td>Fully Paid</td>\n",
       "      <td>445412.0</td>\n",
       "      <td>Short Term</td>\n",
       "      <td>709.0</td>\n",
       "      <td>1167493.0</td>\n",
       "      <td>8 years</td>\n",
       "      <td>Home Mortgage</td>\n",
       "      <td>Home Improvements</td>\n",
       "      <td>5214.74</td>\n",
       "      <td>17.2</td>\n",
       "      <td>NaN</td>\n",
       "      <td>6.0</td>\n",
       "      <td>1.0</td>\n",
       "      <td>228190.0</td>\n",
       "      <td>416746.0</td>\n",
       "      <td>1.0</td>\n",
       "      <td>0.0</td>\n",
       "    </tr>\n",
       "    <tr>\n",
       "      <th>1</th>\n",
       "      <td>4771cc26-131a-45db-b5aa-537ea4ba5342</td>\n",
       "      <td>2de017a3-2e01-49cb-a581-08169e83be29</td>\n",
       "      <td>Fully Paid</td>\n",
       "      <td>262328.0</td>\n",
       "      <td>Short Term</td>\n",
       "      <td>NaN</td>\n",
       "      <td>NaN</td>\n",
       "      <td>10+ years</td>\n",
       "      <td>Home Mortgage</td>\n",
       "      <td>Debt Consolidation</td>\n",
       "      <td>33295.98</td>\n",
       "      <td>21.1</td>\n",
       "      <td>8.0</td>\n",
       "      <td>35.0</td>\n",
       "      <td>0.0</td>\n",
       "      <td>229976.0</td>\n",
       "      <td>850784.0</td>\n",
       "      <td>0.0</td>\n",
       "      <td>0.0</td>\n",
       "    </tr>\n",
       "    <tr>\n",
       "      <th>2</th>\n",
       "      <td>4eed4e6a-aa2f-4c91-8651-ce984ee8fb26</td>\n",
       "      <td>5efb2b2b-bf11-4dfd-a572-3761a2694725</td>\n",
       "      <td>Fully Paid</td>\n",
       "      <td>99999999.0</td>\n",
       "      <td>Short Term</td>\n",
       "      <td>741.0</td>\n",
       "      <td>2231892.0</td>\n",
       "      <td>8 years</td>\n",
       "      <td>Own Home</td>\n",
       "      <td>Debt Consolidation</td>\n",
       "      <td>29200.53</td>\n",
       "      <td>14.9</td>\n",
       "      <td>29.0</td>\n",
       "      <td>18.0</td>\n",
       "      <td>1.0</td>\n",
       "      <td>297996.0</td>\n",
       "      <td>750090.0</td>\n",
       "      <td>0.0</td>\n",
       "      <td>0.0</td>\n",
       "    </tr>\n",
       "    <tr>\n",
       "      <th>3</th>\n",
       "      <td>77598f7b-32e7-4e3b-a6e5-06ba0d98fe8a</td>\n",
       "      <td>e777faab-98ae-45af-9a86-7ce5b33b1011</td>\n",
       "      <td>Fully Paid</td>\n",
       "      <td>347666.0</td>\n",
       "      <td>Long Term</td>\n",
       "      <td>721.0</td>\n",
       "      <td>806949.0</td>\n",
       "      <td>3 years</td>\n",
       "      <td>Own Home</td>\n",
       "      <td>Debt Consolidation</td>\n",
       "      <td>8741.90</td>\n",
       "      <td>12.0</td>\n",
       "      <td>NaN</td>\n",
       "      <td>9.0</td>\n",
       "      <td>0.0</td>\n",
       "      <td>256329.0</td>\n",
       "      <td>386958.0</td>\n",
       "      <td>0.0</td>\n",
       "      <td>0.0</td>\n",
       "    </tr>\n",
       "    <tr>\n",
       "      <th>4</th>\n",
       "      <td>d4062e70-befa-4995-8643-a0de73938182</td>\n",
       "      <td>81536ad9-5ccf-4eb8-befb-47a4d608658e</td>\n",
       "      <td>Fully Paid</td>\n",
       "      <td>176220.0</td>\n",
       "      <td>Short Term</td>\n",
       "      <td>NaN</td>\n",
       "      <td>NaN</td>\n",
       "      <td>5 years</td>\n",
       "      <td>Rent</td>\n",
       "      <td>Debt Consolidation</td>\n",
       "      <td>20639.70</td>\n",
       "      <td>6.1</td>\n",
       "      <td>NaN</td>\n",
       "      <td>15.0</td>\n",
       "      <td>0.0</td>\n",
       "      <td>253460.0</td>\n",
       "      <td>427174.0</td>\n",
       "      <td>0.0</td>\n",
       "      <td>0.0</td>\n",
       "    </tr>\n",
       "    <tr>\n",
       "      <th>...</th>\n",
       "      <td>...</td>\n",
       "      <td>...</td>\n",
       "      <td>...</td>\n",
       "      <td>...</td>\n",
       "      <td>...</td>\n",
       "      <td>...</td>\n",
       "      <td>...</td>\n",
       "      <td>...</td>\n",
       "      <td>...</td>\n",
       "      <td>...</td>\n",
       "      <td>...</td>\n",
       "      <td>...</td>\n",
       "      <td>...</td>\n",
       "      <td>...</td>\n",
       "      <td>...</td>\n",
       "      <td>...</td>\n",
       "      <td>...</td>\n",
       "      <td>...</td>\n",
       "      <td>...</td>\n",
       "    </tr>\n",
       "    <tr>\n",
       "      <th>9995</th>\n",
       "      <td>c4ab66f9-833c-43b8-879c-4f8bcb64dd14</td>\n",
       "      <td>8ee2002b-8fb6-4af0-ab74-25a1c23e7647</td>\n",
       "      <td>NaN</td>\n",
       "      <td>157806.0</td>\n",
       "      <td>Short Term</td>\n",
       "      <td>731.0</td>\n",
       "      <td>1514376.0</td>\n",
       "      <td>6 years</td>\n",
       "      <td>Rent</td>\n",
       "      <td>Debt Consolidation</td>\n",
       "      <td>4795.41</td>\n",
       "      <td>12.5</td>\n",
       "      <td>NaN</td>\n",
       "      <td>9.0</td>\n",
       "      <td>0.0</td>\n",
       "      <td>87058.0</td>\n",
       "      <td>234410.0</td>\n",
       "      <td>0.0</td>\n",
       "      <td>0.0</td>\n",
       "    </tr>\n",
       "    <tr>\n",
       "      <th>9996</th>\n",
       "      <td>bbd3a392-01b4-4e0e-9c28-b2a4a39beac7</td>\n",
       "      <td>6c306306-f5c2-4db5-b74a-af2895123ecb</td>\n",
       "      <td>NaN</td>\n",
       "      <td>132550.0</td>\n",
       "      <td>Short Term</td>\n",
       "      <td>718.0</td>\n",
       "      <td>763192.0</td>\n",
       "      <td>4 years</td>\n",
       "      <td>Home Mortgage</td>\n",
       "      <td>Debt Consolidation</td>\n",
       "      <td>12401.87</td>\n",
       "      <td>9.9</td>\n",
       "      <td>20.0</td>\n",
       "      <td>8.0</td>\n",
       "      <td>0.0</td>\n",
       "      <td>74309.0</td>\n",
       "      <td>329692.0</td>\n",
       "      <td>0.0</td>\n",
       "      <td>0.0</td>\n",
       "    </tr>\n",
       "    <tr>\n",
       "      <th>9997</th>\n",
       "      <td>da9870de-4280-46a3-8fc6-91cfe5bfde9d</td>\n",
       "      <td>cc94e25e-1060-4465-b603-194e122f0239</td>\n",
       "      <td>NaN</td>\n",
       "      <td>223212.0</td>\n",
       "      <td>Long Term</td>\n",
       "      <td>NaN</td>\n",
       "      <td>NaN</td>\n",
       "      <td>NaN</td>\n",
       "      <td>Rent</td>\n",
       "      <td>Debt Consolidation</td>\n",
       "      <td>4354.42</td>\n",
       "      <td>27.2</td>\n",
       "      <td>NaN</td>\n",
       "      <td>8.0</td>\n",
       "      <td>1.0</td>\n",
       "      <td>99636.0</td>\n",
       "      <td>568370.0</td>\n",
       "      <td>1.0</td>\n",
       "      <td>0.0</td>\n",
       "    </tr>\n",
       "    <tr>\n",
       "      <th>9998</th>\n",
       "      <td>0cc8e0e0-1bc6-49d7-ad0f-0598b647458f</td>\n",
       "      <td>f90cf410-a34b-49e7-8af9-2b405e17b827</td>\n",
       "      <td>NaN</td>\n",
       "      <td>99999999.0</td>\n",
       "      <td>Short Term</td>\n",
       "      <td>721.0</td>\n",
       "      <td>972097.0</td>\n",
       "      <td>10+ years</td>\n",
       "      <td>Home Mortgage</td>\n",
       "      <td>Debt Consolidation</td>\n",
       "      <td>12232.20</td>\n",
       "      <td>16.8</td>\n",
       "      <td>24.0</td>\n",
       "      <td>8.0</td>\n",
       "      <td>1.0</td>\n",
       "      <td>184984.0</td>\n",
       "      <td>240658.0</td>\n",
       "      <td>0.0</td>\n",
       "      <td>0.0</td>\n",
       "    </tr>\n",
       "    <tr>\n",
       "      <th>9999</th>\n",
       "      <td>14f94b64-26c4-48fd-b916-1388d7adcc1d</td>\n",
       "      <td>f1838fa9-7ad9-44d5-97a6-7a6d3f3529d7</td>\n",
       "      <td>NaN</td>\n",
       "      <td>99999999.0</td>\n",
       "      <td>Short Term</td>\n",
       "      <td>748.0</td>\n",
       "      <td>1079960.0</td>\n",
       "      <td>6 years</td>\n",
       "      <td>Home Mortgage</td>\n",
       "      <td>Debt Consolidation</td>\n",
       "      <td>12239.61</td>\n",
       "      <td>19.7</td>\n",
       "      <td>NaN</td>\n",
       "      <td>14.0</td>\n",
       "      <td>0.0</td>\n",
       "      <td>179018.0</td>\n",
       "      <td>607882.0</td>\n",
       "      <td>0.0</td>\n",
       "      <td>0.0</td>\n",
       "    </tr>\n",
       "  </tbody>\n",
       "</table>\n",
       "<p>99786 rows × 19 columns</p>\n",
       "</div>"
      ],
      "text/plain": [
       "                                   Loan ID  \\\n",
       "0     14dd8831-6af5-400b-83ec-68e61888a048   \n",
       "1     4771cc26-131a-45db-b5aa-537ea4ba5342   \n",
       "2     4eed4e6a-aa2f-4c91-8651-ce984ee8fb26   \n",
       "3     77598f7b-32e7-4e3b-a6e5-06ba0d98fe8a   \n",
       "4     d4062e70-befa-4995-8643-a0de73938182   \n",
       "...                                    ...   \n",
       "9995  c4ab66f9-833c-43b8-879c-4f8bcb64dd14   \n",
       "9996  bbd3a392-01b4-4e0e-9c28-b2a4a39beac7   \n",
       "9997  da9870de-4280-46a3-8fc6-91cfe5bfde9d   \n",
       "9998  0cc8e0e0-1bc6-49d7-ad0f-0598b647458f   \n",
       "9999  14f94b64-26c4-48fd-b916-1388d7adcc1d   \n",
       "\n",
       "                               Customer ID Loan Status  Current Loan Amount  \\\n",
       "0     981165ec-3274-42f5-a3b4-d104041a9ca9  Fully Paid             445412.0   \n",
       "1     2de017a3-2e01-49cb-a581-08169e83be29  Fully Paid             262328.0   \n",
       "2     5efb2b2b-bf11-4dfd-a572-3761a2694725  Fully Paid           99999999.0   \n",
       "3     e777faab-98ae-45af-9a86-7ce5b33b1011  Fully Paid             347666.0   \n",
       "4     81536ad9-5ccf-4eb8-befb-47a4d608658e  Fully Paid             176220.0   \n",
       "...                                    ...         ...                  ...   \n",
       "9995  8ee2002b-8fb6-4af0-ab74-25a1c23e7647         NaN             157806.0   \n",
       "9996  6c306306-f5c2-4db5-b74a-af2895123ecb         NaN             132550.0   \n",
       "9997  cc94e25e-1060-4465-b603-194e122f0239         NaN             223212.0   \n",
       "9998  f90cf410-a34b-49e7-8af9-2b405e17b827         NaN           99999999.0   \n",
       "9999  f1838fa9-7ad9-44d5-97a6-7a6d3f3529d7         NaN           99999999.0   \n",
       "\n",
       "            Term  Credit Score  Annual Income Years in current job  \\\n",
       "0     Short Term         709.0      1167493.0              8 years   \n",
       "1     Short Term           NaN            NaN            10+ years   \n",
       "2     Short Term         741.0      2231892.0              8 years   \n",
       "3      Long Term         721.0       806949.0              3 years   \n",
       "4     Short Term           NaN            NaN              5 years   \n",
       "...          ...           ...            ...                  ...   \n",
       "9995  Short Term         731.0      1514376.0              6 years   \n",
       "9996  Short Term         718.0       763192.0              4 years   \n",
       "9997   Long Term           NaN            NaN                  NaN   \n",
       "9998  Short Term         721.0       972097.0            10+ years   \n",
       "9999  Short Term         748.0      1079960.0              6 years   \n",
       "\n",
       "     Home Ownership             Purpose  Monthly Debt  \\\n",
       "0     Home Mortgage   Home Improvements       5214.74   \n",
       "1     Home Mortgage  Debt Consolidation      33295.98   \n",
       "2          Own Home  Debt Consolidation      29200.53   \n",
       "3          Own Home  Debt Consolidation       8741.90   \n",
       "4              Rent  Debt Consolidation      20639.70   \n",
       "...             ...                 ...           ...   \n",
       "9995           Rent  Debt Consolidation       4795.41   \n",
       "9996  Home Mortgage  Debt Consolidation      12401.87   \n",
       "9997           Rent  Debt Consolidation       4354.42   \n",
       "9998  Home Mortgage  Debt Consolidation      12232.20   \n",
       "9999  Home Mortgage  Debt Consolidation      12239.61   \n",
       "\n",
       "      Years of Credit History  Months since last delinquent  \\\n",
       "0                        17.2                           NaN   \n",
       "1                        21.1                           8.0   \n",
       "2                        14.9                          29.0   \n",
       "3                        12.0                           NaN   \n",
       "4                         6.1                           NaN   \n",
       "...                       ...                           ...   \n",
       "9995                     12.5                           NaN   \n",
       "9996                      9.9                          20.0   \n",
       "9997                     27.2                           NaN   \n",
       "9998                     16.8                          24.0   \n",
       "9999                     19.7                           NaN   \n",
       "\n",
       "      Number of Open Accounts  Number of Credit Problems  \\\n",
       "0                         6.0                        1.0   \n",
       "1                        35.0                        0.0   \n",
       "2                        18.0                        1.0   \n",
       "3                         9.0                        0.0   \n",
       "4                        15.0                        0.0   \n",
       "...                       ...                        ...   \n",
       "9995                      9.0                        0.0   \n",
       "9996                      8.0                        0.0   \n",
       "9997                      8.0                        1.0   \n",
       "9998                      8.0                        1.0   \n",
       "9999                     14.0                        0.0   \n",
       "\n",
       "      Current Credit Balance  Maximum Open Credit  Bankruptcies  Tax Liens  \n",
       "0                   228190.0             416746.0           1.0        0.0  \n",
       "1                   229976.0             850784.0           0.0        0.0  \n",
       "2                   297996.0             750090.0           0.0        0.0  \n",
       "3                   256329.0             386958.0           0.0        0.0  \n",
       "4                   253460.0             427174.0           0.0        0.0  \n",
       "...                      ...                  ...           ...        ...  \n",
       "9995                 87058.0             234410.0           0.0        0.0  \n",
       "9996                 74309.0             329692.0           0.0        0.0  \n",
       "9997                 99636.0             568370.0           1.0        0.0  \n",
       "9998                184984.0             240658.0           0.0        0.0  \n",
       "9999                179018.0             607882.0           0.0        0.0  \n",
       "\n",
       "[99786 rows x 19 columns]"
      ]
     },
     "execution_count": 14,
     "metadata": {},
     "output_type": "execute_result"
    }
   ],
   "source": [
    "df.duplicated().sum()\n",
    "df.drop_duplicates()"
   ]
  },
  {
   "cell_type": "code",
   "execution_count": 15,
   "id": "525f0db4",
   "metadata": {},
   "outputs": [
    {
     "data": {
      "text/plain": [
       "<Figure size 720x432 with 0 Axes>"
      ]
     },
     "metadata": {},
     "output_type": "display_data"
    },
    {
     "data": {
      "image/png": "[encoded data removed]",
      "text/plain": [
       "<Figure size 720x432 with 1 Axes>"
      ]
     },
     "metadata": {
      "needs_background": "light"
     },
     "output_type": "display_data"
    },
    {
     "data": {
      "image/png": "[encoded data removed]",
      "text/plain": [
       "<Figure size 720x432 with 1 Axes>"
      ]
     },
     "metadata": {
      "needs_background": "light"
     },
     "output_type": "display_data"
    },
    {
     "data": {
      "image/png": "[encoded data removed]",
      "text/plain": [
       "<Figure size 720x432 with 1 Axes>"
      ]
     },
     "metadata": {
      "needs_background": "light"
     },
     "output_type": "display_data"
    },
    {
     "data": {
      "image/png": "[encoded data removed]",
      "text/plain": [
       "<Figure size 720x432 with 1 Axes>"
      ]
     },
     "metadata": {
      "needs_background": "light"
     },
     "output_type": "display_data"
    },
    {
     "data": {
      "image/png": "[encoded data removed]",
      "text/plain": [
       "<Figure size 720x432 with 1 Axes>"
      ]
     },
     "metadata": {
      "needs_background": "light"
     },
     "output_type": "display_data"
    },
    {
     "data": {
      "image/png": "[encoded data removed]",
      "text/plain": [
       "<Figure size 720x432 with 1 Axes>"
      ]
     },
     "metadata": {
      "needs_background": "light"
     },
     "output_type": "display_data"
    },
    {
     "data": {
      "image/png": "[encoded data removed]",
      "text/plain": [
       "<Figure size 720x432 with 1 Axes>"
      ]
     },
     "metadata": {
      "needs_background": "light"
     },
     "output_type": "display_data"
    },
    {
     "data": {
      "image/png": "[encoded data removed]",
      "text/plain": [
       "<Figure size 720x432 with 1 Axes>"
      ]
     },
     "metadata": {
      "needs_background": "light"
     },
     "output_type": "display_data"
    },
    {
     "data": {
      "image/png": "[encoded data removed]",
      "text/plain": [
       "<Figure size 720x432 with 1 Axes>"
      ]
     },
     "metadata": {
      "needs_background": "light"
     },
     "output_type": "display_data"
    },
    {
     "data": {
      "image/png": "[encoded data removed]",
      "text/plain": [
       "<Figure size 720x432 with 1 Axes>"
      ]
     },
     "metadata": {
      "needs_background": "light"
     },
     "output_type": "display_data"
    },
    {
     "data": {
      "image/png": "[encoded data removed]",
      "text/plain": [
       "<Figure size 720x432 with 1 Axes>"
      ]
     },
     "metadata": {
      "needs_background": "light"
     },
     "output_type": "display_data"
    },
    {
     "data": {
      "image/png": "[encoded data removed]",
      "text/plain": [
       "<Figure size 720x432 with 1 Axes>"
      ]
     },
     "metadata": {
      "needs_background": "light"
     },
     "output_type": "display_data"
    }
   ],
   "source": [
    "#Check Outliers\n",
    "\n",
    "# Plot the variables (loop for plot variables) for num values\n",
    "plt.figure(figsize=(10, 6))\n",
    "for col in num:\n",
    "    plt.figure(figsize=(10, 6))\n",
    "    df.boxplot(column=[col])\n",
    "    plt.title(col)\n",
    "    plt.savefig(col+r'.png',bbox_inches='tight')"
   ]
  },
  {
   "cell_type": "markdown",
   "id": "3275b40f",
   "metadata": {},
   "source": [
    "## Checking  the outliers"
   ]
  },
  {
   "cell_type": "markdown",
   "id": "e64345c1",
   "metadata": {},
   "source": [
    "### Loan Status"
   ]
  },
  {
   "cell_type": "code",
   "execution_count": 16,
   "id": "2d5be6d7",
   "metadata": {},
   "outputs": [
    {
     "data": {
      "text/plain": [
       "Fully Paid     77361\n",
       "Charged Off    22639\n",
       "Name: Loan Status, dtype: int64"
      ]
     },
     "execution_count": 16,
     "metadata": {},
     "output_type": "execute_result"
    }
   ],
   "source": [
    "df['Loan Status'].value_counts()"
   ]
  },
  {
   "cell_type": "code",
   "execution_count": 17,
   "id": "cc384801",
   "metadata": {},
   "outputs": [
    {
     "data": {
      "text/plain": [
       "Loan ID                           867\n",
       "Customer ID                       867\n",
       "Loan Status                     10867\n",
       "Current Loan Amount               867\n",
       "Term                              867\n",
       "Credit Score                    22002\n",
       "Annual Income                   22002\n",
       "Years in current job             5516\n",
       "Home Ownership                    867\n",
       "Purpose                           867\n",
       "Monthly Debt                      867\n",
       "Years of Credit History           867\n",
       "Months since last delinquent    59314\n",
       "Number of Open Accounts           867\n",
       "Number of Credit Problems         867\n",
       "Current Credit Balance            867\n",
       "Maximum Open Credit               869\n",
       "Bankruptcies                     1093\n",
       "Tax Liens                         878\n",
       "dtype: int64"
      ]
     },
     "execution_count": 17,
     "metadata": {},
     "output_type": "execute_result"
    }
   ],
   "source": [
    "df.isna().sum()"
   ]
  },
  {
   "cell_type": "code",
   "execution_count": 18,
   "id": "0f6b82de",
   "metadata": {},
   "outputs": [
    {
     "data": {
      "text/html": [
       "<div>\n",
       "<style scoped>\n",
       "    .dataframe tbody tr th:only-of-type {\n",
       "        vertical-align: middle;\n",
       "    }\n",
       "\n",
       "    .dataframe tbody tr th {\n",
       "        vertical-align: top;\n",
       "    }\n",
       "\n",
       "    .dataframe thead th {\n",
       "        text-align: right;\n",
       "    }\n",
       "</style>\n",
       "<table border=\"1\" class=\"dataframe\">\n",
       "  <thead>\n",
       "    <tr style=\"text-align: right;\">\n",
       "      <th></th>\n",
       "      <th>Loan ID</th>\n",
       "      <th>Customer ID</th>\n",
       "      <th>Loan Status</th>\n",
       "      <th>Current Loan Amount</th>\n",
       "      <th>Term</th>\n",
       "      <th>Credit Score</th>\n",
       "      <th>Annual Income</th>\n",
       "      <th>Years in current job</th>\n",
       "      <th>Home Ownership</th>\n",
       "      <th>Purpose</th>\n",
       "      <th>Monthly Debt</th>\n",
       "      <th>Years of Credit History</th>\n",
       "      <th>Months since last delinquent</th>\n",
       "      <th>Number of Open Accounts</th>\n",
       "      <th>Number of Credit Problems</th>\n",
       "      <th>Current Credit Balance</th>\n",
       "      <th>Maximum Open Credit</th>\n",
       "      <th>Bankruptcies</th>\n",
       "      <th>Tax Liens</th>\n",
       "    </tr>\n",
       "  </thead>\n",
       "  <tbody>\n",
       "    <tr>\n",
       "      <th>100000</th>\n",
       "      <td>NaN</td>\n",
       "      <td>NaN</td>\n",
       "      <td>NaN</td>\n",
       "      <td>NaN</td>\n",
       "      <td>NaN</td>\n",
       "      <td>NaN</td>\n",
       "      <td>NaN</td>\n",
       "      <td>NaN</td>\n",
       "      <td>NaN</td>\n",
       "      <td>NaN</td>\n",
       "      <td>NaN</td>\n",
       "      <td>NaN</td>\n",
       "      <td>NaN</td>\n",
       "      <td>NaN</td>\n",
       "      <td>NaN</td>\n",
       "      <td>NaN</td>\n",
       "      <td>NaN</td>\n",
       "      <td>NaN</td>\n",
       "      <td>NaN</td>\n",
       "    </tr>\n",
       "    <tr>\n",
       "      <th>100001</th>\n",
       "      <td>NaN</td>\n",
       "      <td>NaN</td>\n",
       "      <td>NaN</td>\n",
       "      <td>NaN</td>\n",
       "      <td>NaN</td>\n",
       "      <td>NaN</td>\n",
       "      <td>NaN</td>\n",
       "      <td>NaN</td>\n",
       "      <td>NaN</td>\n",
       "      <td>NaN</td>\n",
       "      <td>NaN</td>\n",
       "      <td>NaN</td>\n",
       "      <td>NaN</td>\n",
       "      <td>NaN</td>\n",
       "      <td>NaN</td>\n",
       "      <td>NaN</td>\n",
       "      <td>NaN</td>\n",
       "      <td>NaN</td>\n",
       "      <td>NaN</td>\n",
       "    </tr>\n",
       "    <tr>\n",
       "      <th>100002</th>\n",
       "      <td>NaN</td>\n",
       "      <td>NaN</td>\n",
       "      <td>NaN</td>\n",
       "      <td>NaN</td>\n",
       "      <td>NaN</td>\n",
       "      <td>NaN</td>\n",
       "      <td>NaN</td>\n",
       "      <td>NaN</td>\n",
       "      <td>NaN</td>\n",
       "      <td>NaN</td>\n",
       "      <td>NaN</td>\n",
       "      <td>NaN</td>\n",
       "      <td>NaN</td>\n",
       "      <td>NaN</td>\n",
       "      <td>NaN</td>\n",
       "      <td>NaN</td>\n",
       "      <td>NaN</td>\n",
       "      <td>NaN</td>\n",
       "      <td>NaN</td>\n",
       "    </tr>\n",
       "    <tr>\n",
       "      <th>100003</th>\n",
       "      <td>NaN</td>\n",
       "      <td>NaN</td>\n",
       "      <td>NaN</td>\n",
       "      <td>NaN</td>\n",
       "      <td>NaN</td>\n",
       "      <td>NaN</td>\n",
       "      <td>NaN</td>\n",
       "      <td>NaN</td>\n",
       "      <td>NaN</td>\n",
       "      <td>NaN</td>\n",
       "      <td>NaN</td>\n",
       "      <td>NaN</td>\n",
       "      <td>NaN</td>\n",
       "      <td>NaN</td>\n",
       "      <td>NaN</td>\n",
       "      <td>NaN</td>\n",
       "      <td>NaN</td>\n",
       "      <td>NaN</td>\n",
       "      <td>NaN</td>\n",
       "    </tr>\n",
       "    <tr>\n",
       "      <th>100004</th>\n",
       "      <td>NaN</td>\n",
       "      <td>NaN</td>\n",
       "      <td>NaN</td>\n",
       "      <td>NaN</td>\n",
       "      <td>NaN</td>\n",
       "      <td>NaN</td>\n",
       "      <td>NaN</td>\n",
       "      <td>NaN</td>\n",
       "      <td>NaN</td>\n",
       "      <td>NaN</td>\n",
       "      <td>NaN</td>\n",
       "      <td>NaN</td>\n",
       "      <td>NaN</td>\n",
       "      <td>NaN</td>\n",
       "      <td>NaN</td>\n",
       "      <td>NaN</td>\n",
       "      <td>NaN</td>\n",
       "      <td>NaN</td>\n",
       "      <td>NaN</td>\n",
       "    </tr>\n",
       "    <tr>\n",
       "      <th>...</th>\n",
       "      <td>...</td>\n",
       "      <td>...</td>\n",
       "      <td>...</td>\n",
       "      <td>...</td>\n",
       "      <td>...</td>\n",
       "      <td>...</td>\n",
       "      <td>...</td>\n",
       "      <td>...</td>\n",
       "      <td>...</td>\n",
       "      <td>...</td>\n",
       "      <td>...</td>\n",
       "      <td>...</td>\n",
       "      <td>...</td>\n",
       "      <td>...</td>\n",
       "      <td>...</td>\n",
       "      <td>...</td>\n",
       "      <td>...</td>\n",
       "      <td>...</td>\n",
       "      <td>...</td>\n",
       "    </tr>\n",
       "    <tr>\n",
       "      <th>10348</th>\n",
       "      <td>NaN</td>\n",
       "      <td>NaN</td>\n",
       "      <td>NaN</td>\n",
       "      <td>NaN</td>\n",
       "      <td>NaN</td>\n",
       "      <td>NaN</td>\n",
       "      <td>NaN</td>\n",
       "      <td>NaN</td>\n",
       "      <td>NaN</td>\n",
       "      <td>NaN</td>\n",
       "      <td>NaN</td>\n",
       "      <td>NaN</td>\n",
       "      <td>NaN</td>\n",
       "      <td>NaN</td>\n",
       "      <td>NaN</td>\n",
       "      <td>NaN</td>\n",
       "      <td>NaN</td>\n",
       "      <td>NaN</td>\n",
       "      <td>NaN</td>\n",
       "    </tr>\n",
       "    <tr>\n",
       "      <th>10349</th>\n",
       "      <td>NaN</td>\n",
       "      <td>NaN</td>\n",
       "      <td>NaN</td>\n",
       "      <td>NaN</td>\n",
       "      <td>NaN</td>\n",
       "      <td>NaN</td>\n",
       "      <td>NaN</td>\n",
       "      <td>NaN</td>\n",
       "      <td>NaN</td>\n",
       "      <td>NaN</td>\n",
       "      <td>NaN</td>\n",
       "      <td>NaN</td>\n",
       "      <td>NaN</td>\n",
       "      <td>NaN</td>\n",
       "      <td>NaN</td>\n",
       "      <td>NaN</td>\n",
       "      <td>NaN</td>\n",
       "      <td>NaN</td>\n",
       "      <td>NaN</td>\n",
       "    </tr>\n",
       "    <tr>\n",
       "      <th>10350</th>\n",
       "      <td>NaN</td>\n",
       "      <td>NaN</td>\n",
       "      <td>NaN</td>\n",
       "      <td>NaN</td>\n",
       "      <td>NaN</td>\n",
       "      <td>NaN</td>\n",
       "      <td>NaN</td>\n",
       "      <td>NaN</td>\n",
       "      <td>NaN</td>\n",
       "      <td>NaN</td>\n",
       "      <td>NaN</td>\n",
       "      <td>NaN</td>\n",
       "      <td>NaN</td>\n",
       "      <td>NaN</td>\n",
       "      <td>NaN</td>\n",
       "      <td>NaN</td>\n",
       "      <td>NaN</td>\n",
       "      <td>NaN</td>\n",
       "      <td>NaN</td>\n",
       "    </tr>\n",
       "    <tr>\n",
       "      <th>10351</th>\n",
       "      <td>NaN</td>\n",
       "      <td>NaN</td>\n",
       "      <td>NaN</td>\n",
       "      <td>NaN</td>\n",
       "      <td>NaN</td>\n",
       "      <td>NaN</td>\n",
       "      <td>NaN</td>\n",
       "      <td>NaN</td>\n",
       "      <td>NaN</td>\n",
       "      <td>NaN</td>\n",
       "      <td>NaN</td>\n",
       "      <td>NaN</td>\n",
       "      <td>NaN</td>\n",
       "      <td>NaN</td>\n",
       "      <td>NaN</td>\n",
       "      <td>NaN</td>\n",
       "      <td>NaN</td>\n",
       "      <td>NaN</td>\n",
       "      <td>NaN</td>\n",
       "    </tr>\n",
       "    <tr>\n",
       "      <th>10352</th>\n",
       "      <td>NaN</td>\n",
       "      <td>NaN</td>\n",
       "      <td>NaN</td>\n",
       "      <td>NaN</td>\n",
       "      <td>NaN</td>\n",
       "      <td>NaN</td>\n",
       "      <td>NaN</td>\n",
       "      <td>NaN</td>\n",
       "      <td>NaN</td>\n",
       "      <td>NaN</td>\n",
       "      <td>NaN</td>\n",
       "      <td>NaN</td>\n",
       "      <td>NaN</td>\n",
       "      <td>NaN</td>\n",
       "      <td>NaN</td>\n",
       "      <td>NaN</td>\n",
       "      <td>NaN</td>\n",
       "      <td>NaN</td>\n",
       "      <td>NaN</td>\n",
       "    </tr>\n",
       "  </tbody>\n",
       "</table>\n",
       "<p>867 rows × 19 columns</p>\n",
       "</div>"
      ],
      "text/plain": [
       "       Loan ID Customer ID Loan Status  Current Loan Amount Term  \\\n",
       "100000     NaN         NaN         NaN                  NaN  NaN   \n",
       "100001     NaN         NaN         NaN                  NaN  NaN   \n",
       "100002     NaN         NaN         NaN                  NaN  NaN   \n",
       "100003     NaN         NaN         NaN                  NaN  NaN   \n",
       "100004     NaN         NaN         NaN                  NaN  NaN   \n",
       "...        ...         ...         ...                  ...  ...   \n",
       "10348      NaN         NaN         NaN                  NaN  NaN   \n",
       "10349      NaN         NaN         NaN                  NaN  NaN   \n",
       "10350      NaN         NaN         NaN                  NaN  NaN   \n",
       "10351      NaN         NaN         NaN                  NaN  NaN   \n",
       "10352      NaN         NaN         NaN                  NaN  NaN   \n",
       "\n",
       "        Credit Score  Annual Income Years in current job Home Ownership  \\\n",
       "100000           NaN            NaN                  NaN            NaN   \n",
       "100001           NaN            NaN                  NaN            NaN   \n",
       "100002           NaN            NaN                  NaN            NaN   \n",
       "100003           NaN            NaN                  NaN            NaN   \n",
       "100004           NaN            NaN                  NaN            NaN   \n",
       "...              ...            ...                  ...            ...   \n",
       "10348            NaN            NaN                  NaN            NaN   \n",
       "10349            NaN            NaN                  NaN            NaN   \n",
       "10350            NaN            NaN                  NaN            NaN   \n",
       "10351            NaN            NaN                  NaN            NaN   \n",
       "10352            NaN            NaN                  NaN            NaN   \n",
       "\n",
       "       Purpose  Monthly Debt  Years of Credit History  \\\n",
       "100000     NaN           NaN                      NaN   \n",
       "100001     NaN           NaN                      NaN   \n",
       "100002     NaN           NaN                      NaN   \n",
       "100003     NaN           NaN                      NaN   \n",
       "100004     NaN           NaN                      NaN   \n",
       "...        ...           ...                      ...   \n",
       "10348      NaN           NaN                      NaN   \n",
       "10349      NaN           NaN                      NaN   \n",
       "10350      NaN           NaN                      NaN   \n",
       "10351      NaN           NaN                      NaN   \n",
       "10352      NaN           NaN                      NaN   \n",
       "\n",
       "        Months since last delinquent  Number of Open Accounts  \\\n",
       "100000                           NaN                      NaN   \n",
       "100001                           NaN                      NaN   \n",
       "100002                           NaN                      NaN   \n",
       "100003                           NaN                      NaN   \n",
       "100004                           NaN                      NaN   \n",
       "...                              ...                      ...   \n",
       "10348                            NaN                      NaN   \n",
       "10349                            NaN                      NaN   \n",
       "10350                            NaN                      NaN   \n",
       "10351                            NaN                      NaN   \n",
       "10352                            NaN                      NaN   \n",
       "\n",
       "        Number of Credit Problems  Current Credit Balance  \\\n",
       "100000                        NaN                     NaN   \n",
       "100001                        NaN                     NaN   \n",
       "100002                        NaN                     NaN   \n",
       "100003                        NaN                     NaN   \n",
       "100004                        NaN                     NaN   \n",
       "...                           ...                     ...   \n",
       "10348                         NaN                     NaN   \n",
       "10349                         NaN                     NaN   \n",
       "10350                         NaN                     NaN   \n",
       "10351                         NaN                     NaN   \n",
       "10352                         NaN                     NaN   \n",
       "\n",
       "        Maximum Open Credit  Bankruptcies  Tax Liens  \n",
       "100000                  NaN           NaN        NaN  \n",
       "100001                  NaN           NaN        NaN  \n",
       "100002                  NaN           NaN        NaN  \n",
       "100003                  NaN           NaN        NaN  \n",
       "100004                  NaN           NaN        NaN  \n",
       "...                     ...           ...        ...  \n",
       "10348                   NaN           NaN        NaN  \n",
       "10349                   NaN           NaN        NaN  \n",
       "10350                   NaN           NaN        NaN  \n",
       "10351                   NaN           NaN        NaN  \n",
       "10352                   NaN           NaN        NaN  \n",
       "\n",
       "[867 rows x 19 columns]"
      ]
     },
     "execution_count": 18,
     "metadata": {},
     "output_type": "execute_result"
    }
   ],
   "source": [
    "df[(df['Loan Status'].isna()) & (df['Loan ID'].isna()) & (df['Customer ID'].isna()) & (df['Bankruptcies'].isna())]"
   ]
  },
  {
   "cell_type": "code",
   "execution_count": 19,
   "id": "9b7c25c3",
   "metadata": {},
   "outputs": [],
   "source": [
    "df.dropna(subset = ['Loan Status'], inplace= True)"
   ]
  },
  {
   "cell_type": "code",
   "execution_count": 20,
   "id": "2d7944d0",
   "metadata": {},
   "outputs": [
    {
     "data": {
      "text/plain": [
       "0"
      ]
     },
     "execution_count": 20,
     "metadata": {},
     "output_type": "execute_result"
    }
   ],
   "source": [
    "df['Loan Status'].isna().sum()"
   ]
  },
  {
   "cell_type": "code",
   "execution_count": 21,
   "id": "f0754930",
   "metadata": {},
   "outputs": [
    {
     "data": {
      "text/plain": [
       "count         100000\n",
       "unique             2\n",
       "top       Fully Paid\n",
       "freq           77361\n",
       "Name: Loan Status, dtype: object"
      ]
     },
     "execution_count": 21,
     "metadata": {},
     "output_type": "execute_result"
    }
   ],
   "source": [
    "df['Loan Status'].describe()"
   ]
  },
  {
   "cell_type": "markdown",
   "id": "3306a922",
   "metadata": {},
   "source": [
    "### Number of Credit Problems"
   ]
  },
  {
   "cell_type": "code",
   "execution_count": 22,
   "id": "0bba60e5",
   "metadata": {},
   "outputs": [
    {
     "data": {
      "text/plain": [
       "0.0     86035\n",
       "1.0     12077\n",
       "2.0      1299\n",
       "3.0       378\n",
       "4.0       125\n",
       "5.0        49\n",
       "6.0        17\n",
       "7.0         8\n",
       "8.0         4\n",
       "11.0        2\n",
       "10.0        2\n",
       "9.0         2\n",
       "15.0        1\n",
       "12.0        1\n",
       "Name: Number of Credit Problems, dtype: int64"
      ]
     },
     "execution_count": 22,
     "metadata": {},
     "output_type": "execute_result"
    }
   ],
   "source": [
    "df['Number of Credit Problems'].value_counts()"
   ]
  },
  {
   "cell_type": "markdown",
   "id": "8e6df08e",
   "metadata": {},
   "source": [
    "### Bankruptcies"
   ]
  },
  {
   "cell_type": "code",
   "execution_count": 23,
   "id": "5356f3cb",
   "metadata": {},
   "outputs": [
    {
     "data": {
      "text/plain": [
       "0.0    88774\n",
       "1.0    10475\n",
       "2.0      417\n",
       "3.0       93\n",
       "4.0       27\n",
       "5.0        7\n",
       "6.0        2\n",
       "7.0        1\n",
       "Name: Bankruptcies, dtype: int64"
      ]
     },
     "execution_count": 23,
     "metadata": {},
     "output_type": "execute_result"
    }
   ],
   "source": [
    "df['Bankruptcies'].value_counts()"
   ]
  },
  {
   "cell_type": "markdown",
   "id": "9028bca6",
   "metadata": {},
   "source": [
    "### Credit Score"
   ]
  },
  {
   "cell_type": "code",
   "execution_count": 24,
   "id": "8f1423f9",
   "metadata": {},
   "outputs": [
    {
     "data": {
      "text/plain": [
       "747.0     1825\n",
       "740.0     1746\n",
       "746.0     1742\n",
       "741.0     1732\n",
       "742.0     1723\n",
       "          ... \n",
       "5920.0       1\n",
       "5900.0       1\n",
       "6010.0       1\n",
       "5960.0       1\n",
       "6050.0       1\n",
       "Name: Credit Score, Length: 324, dtype: int64"
      ]
     },
     "execution_count": 24,
     "metadata": {},
     "output_type": "execute_result"
    }
   ],
   "source": [
    "df['Credit Score'].value_counts()"
   ]
  },
  {
   "cell_type": "code",
   "execution_count": 25,
   "id": "bf0f921d",
   "metadata": {},
   "outputs": [
    {
     "data": {
      "text/html": [
       "<div>\n",
       "<style scoped>\n",
       "    .dataframe tbody tr th:only-of-type {\n",
       "        vertical-align: middle;\n",
       "    }\n",
       "\n",
       "    .dataframe tbody tr th {\n",
       "        vertical-align: top;\n",
       "    }\n",
       "\n",
       "    .dataframe thead th {\n",
       "        text-align: right;\n",
       "    }\n",
       "</style>\n",
       "<table border=\"1\" class=\"dataframe\">\n",
       "  <thead>\n",
       "    <tr style=\"text-align: right;\">\n",
       "      <th></th>\n",
       "      <th>Loan ID</th>\n",
       "      <th>Customer ID</th>\n",
       "      <th>Loan Status</th>\n",
       "      <th>Current Loan Amount</th>\n",
       "      <th>Term</th>\n",
       "      <th>Credit Score</th>\n",
       "      <th>Annual Income</th>\n",
       "      <th>Years in current job</th>\n",
       "      <th>Home Ownership</th>\n",
       "      <th>Purpose</th>\n",
       "      <th>Monthly Debt</th>\n",
       "      <th>Years of Credit History</th>\n",
       "      <th>Months since last delinquent</th>\n",
       "      <th>Number of Open Accounts</th>\n",
       "      <th>Number of Credit Problems</th>\n",
       "      <th>Current Credit Balance</th>\n",
       "      <th>Maximum Open Credit</th>\n",
       "      <th>Bankruptcies</th>\n",
       "      <th>Tax Liens</th>\n",
       "    </tr>\n",
       "  </thead>\n",
       "  <tbody>\n",
       "    <tr>\n",
       "      <th>5</th>\n",
       "      <td>89d8cb0c-e5c2-4f54-b056-48a645c543dd</td>\n",
       "      <td>4ffe99d3-7f2a-44db-afc1-40943f1f9750</td>\n",
       "      <td>Charged Off</td>\n",
       "      <td>206602.0</td>\n",
       "      <td>Short Term</td>\n",
       "      <td>7290.0</td>\n",
       "      <td>896857.0</td>\n",
       "      <td>10+ years</td>\n",
       "      <td>Home Mortgage</td>\n",
       "      <td>Debt Consolidation</td>\n",
       "      <td>16367.74</td>\n",
       "      <td>17.3</td>\n",
       "      <td>NaN</td>\n",
       "      <td>6.0</td>\n",
       "      <td>0.0</td>\n",
       "      <td>215308.0</td>\n",
       "      <td>272448.0</td>\n",
       "      <td>0.0</td>\n",
       "      <td>0.0</td>\n",
       "    </tr>\n",
       "    <tr>\n",
       "      <th>43</th>\n",
       "      <td>0c84b81a-e5a9-4a92-8dc8-fb179add03a4</td>\n",
       "      <td>628b0914-b1d7-4028-b590-b50f5da53d06</td>\n",
       "      <td>Charged Off</td>\n",
       "      <td>288948.0</td>\n",
       "      <td>Short Term</td>\n",
       "      <td>7120.0</td>\n",
       "      <td>537472.0</td>\n",
       "      <td>10+ years</td>\n",
       "      <td>Rent</td>\n",
       "      <td>Debt Consolidation</td>\n",
       "      <td>5777.90</td>\n",
       "      <td>14.8</td>\n",
       "      <td>NaN</td>\n",
       "      <td>4.0</td>\n",
       "      <td>0.0</td>\n",
       "      <td>132468.0</td>\n",
       "      <td>164406.0</td>\n",
       "      <td>0.0</td>\n",
       "      <td>0.0</td>\n",
       "    </tr>\n",
       "    <tr>\n",
       "      <th>51</th>\n",
       "      <td>0daecc08-0354-4753-b282-52124b2420df</td>\n",
       "      <td>2884d362-391a-4941-af69-c825cae18002</td>\n",
       "      <td>Charged Off</td>\n",
       "      <td>219692.0</td>\n",
       "      <td>Long Term</td>\n",
       "      <td>6610.0</td>\n",
       "      <td>527839.0</td>\n",
       "      <td>10+ years</td>\n",
       "      <td>Rent</td>\n",
       "      <td>Debt Consolidation</td>\n",
       "      <td>14207.63</td>\n",
       "      <td>17.0</td>\n",
       "      <td>48.0</td>\n",
       "      <td>9.0</td>\n",
       "      <td>0.0</td>\n",
       "      <td>254277.0</td>\n",
       "      <td>379918.0</td>\n",
       "      <td>0.0</td>\n",
       "      <td>0.0</td>\n",
       "    </tr>\n",
       "    <tr>\n",
       "      <th>56</th>\n",
       "      <td>a5ada080-a058-4ad2-8953-002b7ec1ae31</td>\n",
       "      <td>9966e08c-04a6-41ab-86d0-e4062c64bd41</td>\n",
       "      <td>Charged Off</td>\n",
       "      <td>78012.0</td>\n",
       "      <td>Short Term</td>\n",
       "      <td>7380.0</td>\n",
       "      <td>728726.0</td>\n",
       "      <td>4 years</td>\n",
       "      <td>Rent</td>\n",
       "      <td>major_purchase</td>\n",
       "      <td>10135.36</td>\n",
       "      <td>11.4</td>\n",
       "      <td>NaN</td>\n",
       "      <td>8.0</td>\n",
       "      <td>0.0</td>\n",
       "      <td>104633.0</td>\n",
       "      <td>199936.0</td>\n",
       "      <td>0.0</td>\n",
       "      <td>0.0</td>\n",
       "    </tr>\n",
       "    <tr>\n",
       "      <th>65</th>\n",
       "      <td>1704367e-1d71-4551-8d33-49aa15cab4b1</td>\n",
       "      <td>88f97adf-070a-47b1-9657-38276eef7d19</td>\n",
       "      <td>Charged Off</td>\n",
       "      <td>523908.0</td>\n",
       "      <td>Long Term</td>\n",
       "      <td>7370.0</td>\n",
       "      <td>1028774.0</td>\n",
       "      <td>6 years</td>\n",
       "      <td>Home Mortgage</td>\n",
       "      <td>Debt Consolidation</td>\n",
       "      <td>22632.99</td>\n",
       "      <td>19.3</td>\n",
       "      <td>NaN</td>\n",
       "      <td>5.0</td>\n",
       "      <td>0.0</td>\n",
       "      <td>474658.0</td>\n",
       "      <td>742720.0</td>\n",
       "      <td>0.0</td>\n",
       "      <td>0.0</td>\n",
       "    </tr>\n",
       "    <tr>\n",
       "      <th>...</th>\n",
       "      <td>...</td>\n",
       "      <td>...</td>\n",
       "      <td>...</td>\n",
       "      <td>...</td>\n",
       "      <td>...</td>\n",
       "      <td>...</td>\n",
       "      <td>...</td>\n",
       "      <td>...</td>\n",
       "      <td>...</td>\n",
       "      <td>...</td>\n",
       "      <td>...</td>\n",
       "      <td>...</td>\n",
       "      <td>...</td>\n",
       "      <td>...</td>\n",
       "      <td>...</td>\n",
       "      <td>...</td>\n",
       "      <td>...</td>\n",
       "      <td>...</td>\n",
       "      <td>...</td>\n",
       "    </tr>\n",
       "    <tr>\n",
       "      <th>99851</th>\n",
       "      <td>5eee6c31-62d4-400c-a81f-37bd373db926</td>\n",
       "      <td>039ee8d2-3321-4683-9592-cb1a360c34e2</td>\n",
       "      <td>Charged Off</td>\n",
       "      <td>198572.0</td>\n",
       "      <td>Short Term</td>\n",
       "      <td>7420.0</td>\n",
       "      <td>526205.0</td>\n",
       "      <td>2 years</td>\n",
       "      <td>Rent</td>\n",
       "      <td>Debt Consolidation</td>\n",
       "      <td>9910.02</td>\n",
       "      <td>16.5</td>\n",
       "      <td>NaN</td>\n",
       "      <td>8.0</td>\n",
       "      <td>0.0</td>\n",
       "      <td>296704.0</td>\n",
       "      <td>433224.0</td>\n",
       "      <td>0.0</td>\n",
       "      <td>0.0</td>\n",
       "    </tr>\n",
       "    <tr>\n",
       "      <th>99872</th>\n",
       "      <td>ce1f8220-7eba-4ec1-8bef-ca28f4916801</td>\n",
       "      <td>3e108ac9-9b7c-44a9-9289-e389cf3085b1</td>\n",
       "      <td>Charged Off</td>\n",
       "      <td>110924.0</td>\n",
       "      <td>Short Term</td>\n",
       "      <td>7070.0</td>\n",
       "      <td>804631.0</td>\n",
       "      <td>4 years</td>\n",
       "      <td>Rent</td>\n",
       "      <td>Debt Consolidation</td>\n",
       "      <td>11533.00</td>\n",
       "      <td>13.3</td>\n",
       "      <td>61.0</td>\n",
       "      <td>9.0</td>\n",
       "      <td>0.0</td>\n",
       "      <td>60154.0</td>\n",
       "      <td>96470.0</td>\n",
       "      <td>0.0</td>\n",
       "      <td>0.0</td>\n",
       "    </tr>\n",
       "    <tr>\n",
       "      <th>99906</th>\n",
       "      <td>096471bd-820e-4d0e-88a7-d699a59ab87a</td>\n",
       "      <td>4cfda7f6-790e-4493-a9b1-4d35a8b63af9</td>\n",
       "      <td>Charged Off</td>\n",
       "      <td>175362.0</td>\n",
       "      <td>Short Term</td>\n",
       "      <td>6880.0</td>\n",
       "      <td>1060162.0</td>\n",
       "      <td>9 years</td>\n",
       "      <td>Rent</td>\n",
       "      <td>Debt Consolidation</td>\n",
       "      <td>16079.13</td>\n",
       "      <td>17.3</td>\n",
       "      <td>NaN</td>\n",
       "      <td>13.0</td>\n",
       "      <td>0.0</td>\n",
       "      <td>277153.0</td>\n",
       "      <td>333234.0</td>\n",
       "      <td>0.0</td>\n",
       "      <td>0.0</td>\n",
       "    </tr>\n",
       "    <tr>\n",
       "      <th>99944</th>\n",
       "      <td>36da0533-8664-4156-8e96-f0d07966acdb</td>\n",
       "      <td>070e3aa9-d077-404c-8946-59ce976e0b70</td>\n",
       "      <td>Charged Off</td>\n",
       "      <td>88968.0</td>\n",
       "      <td>Short Term</td>\n",
       "      <td>6790.0</td>\n",
       "      <td>441845.0</td>\n",
       "      <td>&lt; 1 year</td>\n",
       "      <td>Rent</td>\n",
       "      <td>other</td>\n",
       "      <td>5375.86</td>\n",
       "      <td>8.5</td>\n",
       "      <td>NaN</td>\n",
       "      <td>10.0</td>\n",
       "      <td>0.0</td>\n",
       "      <td>193306.0</td>\n",
       "      <td>535458.0</td>\n",
       "      <td>0.0</td>\n",
       "      <td>0.0</td>\n",
       "    </tr>\n",
       "    <tr>\n",
       "      <th>99947</th>\n",
       "      <td>0ee71c4c-10ca-4849-b437-314317022f62</td>\n",
       "      <td>05979eaa-82f7-4909-8cbb-548bd44d1b02</td>\n",
       "      <td>Charged Off</td>\n",
       "      <td>205458.0</td>\n",
       "      <td>Long Term</td>\n",
       "      <td>6940.0</td>\n",
       "      <td>1681101.0</td>\n",
       "      <td>6 years</td>\n",
       "      <td>Rent</td>\n",
       "      <td>Business Loan</td>\n",
       "      <td>14877.76</td>\n",
       "      <td>10.5</td>\n",
       "      <td>NaN</td>\n",
       "      <td>8.0</td>\n",
       "      <td>0.0</td>\n",
       "      <td>259844.0</td>\n",
       "      <td>527846.0</td>\n",
       "      <td>0.0</td>\n",
       "      <td>0.0</td>\n",
       "    </tr>\n",
       "  </tbody>\n",
       "</table>\n",
       "<p>4551 rows × 19 columns</p>\n",
       "</div>"
      ],
      "text/plain": [
       "                                    Loan ID  \\\n",
       "5      89d8cb0c-e5c2-4f54-b056-48a645c543dd   \n",
       "43     0c84b81a-e5a9-4a92-8dc8-fb179add03a4   \n",
       "51     0daecc08-0354-4753-b282-52124b2420df   \n",
       "56     a5ada080-a058-4ad2-8953-002b7ec1ae31   \n",
       "65     1704367e-1d71-4551-8d33-49aa15cab4b1   \n",
       "...                                     ...   \n",
       "99851  5eee6c31-62d4-400c-a81f-37bd373db926   \n",
       "99872  ce1f8220-7eba-4ec1-8bef-ca28f4916801   \n",
       "99906  096471bd-820e-4d0e-88a7-d699a59ab87a   \n",
       "99944  36da0533-8664-4156-8e96-f0d07966acdb   \n",
       "99947  0ee71c4c-10ca-4849-b437-314317022f62   \n",
       "\n",
       "                                Customer ID  Loan Status  Current Loan Amount  \\\n",
       "5      4ffe99d3-7f2a-44db-afc1-40943f1f9750  Charged Off             206602.0   \n",
       "43     628b0914-b1d7-4028-b590-b50f5da53d06  Charged Off             288948.0   \n",
       "51     2884d362-391a-4941-af69-c825cae18002  Charged Off             219692.0   \n",
       "56     9966e08c-04a6-41ab-86d0-e4062c64bd41  Charged Off              78012.0   \n",
       "65     88f97adf-070a-47b1-9657-38276eef7d19  Charged Off             523908.0   \n",
       "...                                     ...          ...                  ...   \n",
       "99851  039ee8d2-3321-4683-9592-cb1a360c34e2  Charged Off             198572.0   \n",
       "99872  3e108ac9-9b7c-44a9-9289-e389cf3085b1  Charged Off             110924.0   \n",
       "99906  4cfda7f6-790e-4493-a9b1-4d35a8b63af9  Charged Off             175362.0   \n",
       "99944  070e3aa9-d077-404c-8946-59ce976e0b70  Charged Off              88968.0   \n",
       "99947  05979eaa-82f7-4909-8cbb-548bd44d1b02  Charged Off             205458.0   \n",
       "\n",
       "             Term  Credit Score  Annual Income Years in current job  \\\n",
       "5      Short Term        7290.0       896857.0            10+ years   \n",
       "43     Short Term        7120.0       537472.0            10+ years   \n",
       "51      Long Term        6610.0       527839.0            10+ years   \n",
       "56     Short Term        7380.0       728726.0              4 years   \n",
       "65      Long Term        7370.0      1028774.0              6 years   \n",
       "...           ...           ...            ...                  ...   \n",
       "99851  Short Term        7420.0       526205.0              2 years   \n",
       "99872  Short Term        7070.0       804631.0              4 years   \n",
       "99906  Short Term        6880.0      1060162.0              9 years   \n",
       "99944  Short Term        6790.0       441845.0             < 1 year   \n",
       "99947   Long Term        6940.0      1681101.0              6 years   \n",
       "\n",
       "      Home Ownership             Purpose  Monthly Debt  \\\n",
       "5      Home Mortgage  Debt Consolidation      16367.74   \n",
       "43              Rent  Debt Consolidation       5777.90   \n",
       "51              Rent  Debt Consolidation      14207.63   \n",
       "56              Rent      major_purchase      10135.36   \n",
       "65     Home Mortgage  Debt Consolidation      22632.99   \n",
       "...              ...                 ...           ...   \n",
       "99851           Rent  Debt Consolidation       9910.02   \n",
       "99872           Rent  Debt Consolidation      11533.00   \n",
       "99906           Rent  Debt Consolidation      16079.13   \n",
       "99944           Rent               other       5375.86   \n",
       "99947           Rent       Business Loan      14877.76   \n",
       "\n",
       "       Years of Credit History  Months since last delinquent  \\\n",
       "5                         17.3                           NaN   \n",
       "43                        14.8                           NaN   \n",
       "51                        17.0                          48.0   \n",
       "56                        11.4                           NaN   \n",
       "65                        19.3                           NaN   \n",
       "...                        ...                           ...   \n",
       "99851                     16.5                           NaN   \n",
       "99872                     13.3                          61.0   \n",
       "99906                     17.3                           NaN   \n",
       "99944                      8.5                           NaN   \n",
       "99947                     10.5                           NaN   \n",
       "\n",
       "       Number of Open Accounts  Number of Credit Problems  \\\n",
       "5                          6.0                        0.0   \n",
       "43                         4.0                        0.0   \n",
       "51                         9.0                        0.0   \n",
       "56                         8.0                        0.0   \n",
       "65                         5.0                        0.0   \n",
       "...                        ...                        ...   \n",
       "99851                      8.0                        0.0   \n",
       "99872                      9.0                        0.0   \n",
       "99906                     13.0                        0.0   \n",
       "99944                     10.0                        0.0   \n",
       "99947                      8.0                        0.0   \n",
       "\n",
       "       Current Credit Balance  Maximum Open Credit  Bankruptcies  Tax Liens  \n",
       "5                    215308.0             272448.0           0.0        0.0  \n",
       "43                   132468.0             164406.0           0.0        0.0  \n",
       "51                   254277.0             379918.0           0.0        0.0  \n",
       "56                   104633.0             199936.0           0.0        0.0  \n",
       "65                   474658.0             742720.0           0.0        0.0  \n",
       "...                       ...                  ...           ...        ...  \n",
       "99851                296704.0             433224.0           0.0        0.0  \n",
       "99872                 60154.0              96470.0           0.0        0.0  \n",
       "99906                277153.0             333234.0           0.0        0.0  \n",
       "99944                193306.0             535458.0           0.0        0.0  \n",
       "99947                259844.0             527846.0           0.0        0.0  \n",
       "\n",
       "[4551 rows x 19 columns]"
      ]
     },
     "execution_count": 25,
     "metadata": {},
     "output_type": "execute_result"
    }
   ],
   "source": [
    "df[df['Credit Score']>3000]"
   ]
  },
  {
   "cell_type": "code",
   "execution_count": 26,
   "id": "fec4accc",
   "metadata": {},
   "outputs": [],
   "source": [
    "df['Credit Score new'] = np.where(df['Credit Score']>3000, (df['Credit Score']>3000)/10, df['Credit Score'])"
   ]
  },
  {
   "cell_type": "code",
   "execution_count": 27,
   "id": "2ff6f4e9",
   "metadata": {},
   "outputs": [
    {
     "data": {
      "text/plain": [
       "count    80846.000000\n",
       "mean       676.281005\n",
       "std        167.390720\n",
       "min          0.100000\n",
       "25%        698.000000\n",
       "50%        721.000000\n",
       "75%        738.000000\n",
       "max        751.000000\n",
       "Name: Credit Score new, dtype: float64"
      ]
     },
     "execution_count": 27,
     "metadata": {},
     "output_type": "execute_result"
    }
   ],
   "source": [
    "df['Credit Score new'].describe()"
   ]
  },
  {
   "cell_type": "code",
   "execution_count": 28,
   "id": "f0c1f633",
   "metadata": {
    "scrolled": true
   },
   "outputs": [
    {
     "data": {
      "text/html": [
       "<div>\n",
       "<style scoped>\n",
       "    .dataframe tbody tr th:only-of-type {\n",
       "        vertical-align: middle;\n",
       "    }\n",
       "\n",
       "    .dataframe tbody tr th {\n",
       "        vertical-align: top;\n",
       "    }\n",
       "\n",
       "    .dataframe thead th {\n",
       "        text-align: right;\n",
       "    }\n",
       "</style>\n",
       "<table border=\"1\" class=\"dataframe\">\n",
       "  <thead>\n",
       "    <tr style=\"text-align: right;\">\n",
       "      <th></th>\n",
       "      <th>Loan ID</th>\n",
       "      <th>Customer ID</th>\n",
       "      <th>Loan Status</th>\n",
       "      <th>Current Loan Amount</th>\n",
       "      <th>Term</th>\n",
       "      <th>Credit Score</th>\n",
       "      <th>Annual Income</th>\n",
       "      <th>Years in current job</th>\n",
       "      <th>Home Ownership</th>\n",
       "      <th>Purpose</th>\n",
       "      <th>Monthly Debt</th>\n",
       "      <th>Years of Credit History</th>\n",
       "      <th>Months since last delinquent</th>\n",
       "      <th>Number of Open Accounts</th>\n",
       "      <th>Number of Credit Problems</th>\n",
       "      <th>Current Credit Balance</th>\n",
       "      <th>Maximum Open Credit</th>\n",
       "      <th>Bankruptcies</th>\n",
       "      <th>Tax Liens</th>\n",
       "      <th>Credit Score new</th>\n",
       "    </tr>\n",
       "  </thead>\n",
       "  <tbody>\n",
       "  </tbody>\n",
       "</table>\n",
       "</div>"
      ],
      "text/plain": [
       "Empty DataFrame\n",
       "Columns: [Loan ID, Customer ID, Loan Status, Current Loan Amount, Term, Credit Score, Annual Income, Years in current job, Home Ownership, Purpose, Monthly Debt, Years of Credit History, Months since last delinquent, Number of Open Accounts, Number of Credit Problems, Current Credit Balance, Maximum Open Credit, Bankruptcies, Tax Liens, Credit Score new]\n",
       "Index: []"
      ]
     },
     "execution_count": 28,
     "metadata": {},
     "output_type": "execute_result"
    }
   ],
   "source": [
    "df[df['Credit Score']<300]"
   ]
  },
  {
   "cell_type": "code",
   "execution_count": 29,
   "id": "85ca15b5",
   "metadata": {},
   "outputs": [
    {
     "data": {
      "text/html": [
       "<div>\n",
       "<style scoped>\n",
       "    .dataframe tbody tr th:only-of-type {\n",
       "        vertical-align: middle;\n",
       "    }\n",
       "\n",
       "    .dataframe tbody tr th {\n",
       "        vertical-align: top;\n",
       "    }\n",
       "\n",
       "    .dataframe thead th {\n",
       "        text-align: right;\n",
       "    }\n",
       "</style>\n",
       "<table border=\"1\" class=\"dataframe\">\n",
       "  <thead>\n",
       "    <tr style=\"text-align: right;\">\n",
       "      <th></th>\n",
       "      <th>Loan ID</th>\n",
       "      <th>Customer ID</th>\n",
       "      <th>Loan Status</th>\n",
       "      <th>Current Loan Amount</th>\n",
       "      <th>Term</th>\n",
       "      <th>Credit Score</th>\n",
       "      <th>Annual Income</th>\n",
       "      <th>Years in current job</th>\n",
       "      <th>Home Ownership</th>\n",
       "      <th>Purpose</th>\n",
       "      <th>Monthly Debt</th>\n",
       "      <th>Years of Credit History</th>\n",
       "      <th>Months since last delinquent</th>\n",
       "      <th>Number of Open Accounts</th>\n",
       "      <th>Number of Credit Problems</th>\n",
       "      <th>Current Credit Balance</th>\n",
       "      <th>Maximum Open Credit</th>\n",
       "      <th>Bankruptcies</th>\n",
       "      <th>Tax Liens</th>\n",
       "      <th>Credit Score new</th>\n",
       "    </tr>\n",
       "  </thead>\n",
       "  <tbody>\n",
       "  </tbody>\n",
       "</table>\n",
       "</div>"
      ],
      "text/plain": [
       "Empty DataFrame\n",
       "Columns: [Loan ID, Customer ID, Loan Status, Current Loan Amount, Term, Credit Score, Annual Income, Years in current job, Home Ownership, Purpose, Monthly Debt, Years of Credit History, Months since last delinquent, Number of Open Accounts, Number of Credit Problems, Current Credit Balance, Maximum Open Credit, Bankruptcies, Tax Liens, Credit Score new]\n",
       "Index: []"
      ]
     },
     "execution_count": 29,
     "metadata": {},
     "output_type": "execute_result"
    }
   ],
   "source": [
    "df[df['Credit Score new']>3000]"
   ]
  },
  {
   "cell_type": "code",
   "execution_count": 30,
   "id": "20a768b2",
   "metadata": {},
   "outputs": [
    {
     "data": {
      "image/png": "[encoded data removed]",
      "text/plain": [
       "<Figure size 432x288 with 1 Axes>"
      ]
     },
     "metadata": {
      "needs_background": "light"
     },
     "output_type": "display_data"
    }
   ],
   "source": [
    "ax = df['Credit Score new'].plot.kde(ind=range(int(df['Credit Score new'].min()),int(df['Credit Score new'].max())))"
   ]
  },
  {
   "cell_type": "code",
   "execution_count": 31,
   "id": "574ee18e",
   "metadata": {},
   "outputs": [
    {
     "data": {
      "text/plain": [
       "<AxesSubplot:title={'center':'Credit Score new'}, xlabel='Number of Credit Problems'>"
      ]
     },
     "execution_count": 31,
     "metadata": {},
     "output_type": "execute_result"
    },
    {
     "data": {
      "image/png": "[encoded data removed]",
      "text/plain": [
       "<Figure size 360x360 with 1 Axes>"
      ]
     },
     "metadata": {
      "needs_background": "light"
     },
     "output_type": "display_data"
    }
   ],
   "source": [
    "df.boxplot(by ='Number of Credit Problems', column =['Credit Score new'], grid = False, figsize=(5,5)) "
   ]
  },
  {
   "cell_type": "code",
   "execution_count": 32,
   "id": "63be8954",
   "metadata": {},
   "outputs": [],
   "source": [
    "df['Credit Score new'].interpolate(inplace=True)"
   ]
  },
  {
   "cell_type": "code",
   "execution_count": 33,
   "id": "3570f100",
   "metadata": {},
   "outputs": [
    {
     "data": {
      "text/plain": [
       "0"
      ]
     },
     "execution_count": 33,
     "metadata": {},
     "output_type": "execute_result"
    }
   ],
   "source": [
    "df['Credit Score new'].isna().sum()"
   ]
  },
  {
   "cell_type": "code",
   "execution_count": 34,
   "id": "30880f5d",
   "metadata": {},
   "outputs": [],
   "source": [
    "# Create an array of indices where employment length is greater than 60\n",
    "indices = df[df['Credit Score new'] < 300].index\n",
    "df = df.drop(indices)"
   ]
  },
  {
   "cell_type": "code",
   "execution_count": 35,
   "id": "f91da128",
   "metadata": {},
   "outputs": [
    {
     "data": {
      "text/plain": [
       "<AxesSubplot:>"
      ]
     },
     "execution_count": 35,
     "metadata": {},
     "output_type": "execute_result"
    },
    {
     "data": {
      "image/png": "[encoded data removed]",
      "text/plain": [
       "<Figure size 432x288 with 1 Axes>"
      ]
     },
     "metadata": {
      "needs_background": "light"
     },
     "output_type": "display_data"
    }
   ],
   "source": [
    "df.boxplot(['Credit Score new'])"
   ]
  },
  {
   "cell_type": "markdown",
   "id": "b241b71c",
   "metadata": {},
   "source": [
    "### Years of Credit History"
   ]
  },
  {
   "cell_type": "code",
   "execution_count": 36,
   "id": "fe86fe3f",
   "metadata": {},
   "outputs": [
    {
     "data": {
      "text/html": [
       "<div>\n",
       "<style scoped>\n",
       "    .dataframe tbody tr th:only-of-type {\n",
       "        vertical-align: middle;\n",
       "    }\n",
       "\n",
       "    .dataframe tbody tr th {\n",
       "        vertical-align: top;\n",
       "    }\n",
       "\n",
       "    .dataframe thead th {\n",
       "        text-align: right;\n",
       "    }\n",
       "</style>\n",
       "<table border=\"1\" class=\"dataframe\">\n",
       "  <thead>\n",
       "    <tr style=\"text-align: right;\">\n",
       "      <th></th>\n",
       "      <th>Loan ID</th>\n",
       "      <th>Customer ID</th>\n",
       "      <th>Loan Status</th>\n",
       "      <th>Current Loan Amount</th>\n",
       "      <th>Term</th>\n",
       "      <th>Credit Score</th>\n",
       "      <th>Annual Income</th>\n",
       "      <th>Years in current job</th>\n",
       "      <th>Home Ownership</th>\n",
       "      <th>Purpose</th>\n",
       "      <th>Monthly Debt</th>\n",
       "      <th>Years of Credit History</th>\n",
       "      <th>Months since last delinquent</th>\n",
       "      <th>Number of Open Accounts</th>\n",
       "      <th>Number of Credit Problems</th>\n",
       "      <th>Current Credit Balance</th>\n",
       "      <th>Maximum Open Credit</th>\n",
       "      <th>Bankruptcies</th>\n",
       "      <th>Tax Liens</th>\n",
       "      <th>Credit Score new</th>\n",
       "    </tr>\n",
       "  </thead>\n",
       "  <tbody>\n",
       "    <tr>\n",
       "      <th>30310</th>\n",
       "      <td>7db95e04-1081-43e1-8dab-77d0202145f8</td>\n",
       "      <td>6bb86735-f834-42b3-bd98-360da7094185</td>\n",
       "      <td>Fully Paid</td>\n",
       "      <td>134398.0</td>\n",
       "      <td>Short Term</td>\n",
       "      <td>743.0</td>\n",
       "      <td>645316.0</td>\n",
       "      <td>6 years</td>\n",
       "      <td>Home Mortgage</td>\n",
       "      <td>Home Improvements</td>\n",
       "      <td>0.0</td>\n",
       "      <td>70.5</td>\n",
       "      <td>78.0</td>\n",
       "      <td>5.0</td>\n",
       "      <td>2.0</td>\n",
       "      <td>0.0</td>\n",
       "      <td>0.0</td>\n",
       "      <td>0.0</td>\n",
       "      <td>0.0</td>\n",
       "      <td>743.0</td>\n",
       "    </tr>\n",
       "  </tbody>\n",
       "</table>\n",
       "</div>"
      ],
      "text/plain": [
       "                                    Loan ID  \\\n",
       "30310  7db95e04-1081-43e1-8dab-77d0202145f8   \n",
       "\n",
       "                                Customer ID Loan Status  Current Loan Amount  \\\n",
       "30310  6bb86735-f834-42b3-bd98-360da7094185  Fully Paid             134398.0   \n",
       "\n",
       "             Term  Credit Score  Annual Income Years in current job  \\\n",
       "30310  Short Term         743.0       645316.0              6 years   \n",
       "\n",
       "      Home Ownership            Purpose  Monthly Debt  \\\n",
       "30310  Home Mortgage  Home Improvements           0.0   \n",
       "\n",
       "       Years of Credit History  Months since last delinquent  \\\n",
       "30310                     70.5                          78.0   \n",
       "\n",
       "       Number of Open Accounts  Number of Credit Problems  \\\n",
       "30310                      5.0                        2.0   \n",
       "\n",
       "       Current Credit Balance  Maximum Open Credit  Bankruptcies  Tax Liens  \\\n",
       "30310                     0.0                  0.0           0.0        0.0   \n",
       "\n",
       "       Credit Score new  \n",
       "30310             743.0  "
      ]
     },
     "execution_count": 36,
     "metadata": {},
     "output_type": "execute_result"
    }
   ],
   "source": [
    "df[df['Years of Credit History']==70.5]"
   ]
  },
  {
   "cell_type": "code",
   "execution_count": 37,
   "id": "bf8bab27",
   "metadata": {},
   "outputs": [
    {
     "data": {
      "text/plain": [
       "<AxesSubplot:>"
      ]
     },
     "execution_count": 37,
     "metadata": {},
     "output_type": "execute_result"
    },
    {
     "data": {
      "image/png": "[encoded data removed]",
      "text/plain": [
       "<Figure size 432x288 with 1 Axes>"
      ]
     },
     "metadata": {
      "needs_background": "light"
     },
     "output_type": "display_data"
    }
   ],
   "source": [
    "df.boxplot(['Years of Credit History'])"
   ]
  },
  {
   "cell_type": "markdown",
   "id": "c30b2b32",
   "metadata": {},
   "source": [
    "### Number of Open Accounts"
   ]
  },
  {
   "cell_type": "code",
   "execution_count": 38,
   "id": "f2b1ab7a",
   "metadata": {},
   "outputs": [
    {
     "data": {
      "text/html": [
       "<div>\n",
       "<style scoped>\n",
       "    .dataframe tbody tr th:only-of-type {\n",
       "        vertical-align: middle;\n",
       "    }\n",
       "\n",
       "    .dataframe tbody tr th {\n",
       "        vertical-align: top;\n",
       "    }\n",
       "\n",
       "    .dataframe thead th {\n",
       "        text-align: right;\n",
       "    }\n",
       "</style>\n",
       "<table border=\"1\" class=\"dataframe\">\n",
       "  <thead>\n",
       "    <tr style=\"text-align: right;\">\n",
       "      <th></th>\n",
       "      <th>Loan ID</th>\n",
       "      <th>Customer ID</th>\n",
       "      <th>Loan Status</th>\n",
       "      <th>Current Loan Amount</th>\n",
       "      <th>Term</th>\n",
       "      <th>Credit Score</th>\n",
       "      <th>Annual Income</th>\n",
       "      <th>Years in current job</th>\n",
       "      <th>Home Ownership</th>\n",
       "      <th>Purpose</th>\n",
       "      <th>Monthly Debt</th>\n",
       "      <th>Years of Credit History</th>\n",
       "      <th>Months since last delinquent</th>\n",
       "      <th>Number of Open Accounts</th>\n",
       "      <th>Number of Credit Problems</th>\n",
       "      <th>Current Credit Balance</th>\n",
       "      <th>Maximum Open Credit</th>\n",
       "      <th>Bankruptcies</th>\n",
       "      <th>Tax Liens</th>\n",
       "      <th>Credit Score new</th>\n",
       "    </tr>\n",
       "  </thead>\n",
       "  <tbody>\n",
       "    <tr>\n",
       "      <th>96033</th>\n",
       "      <td>f4e0a453-a5ec-4011-9513-9d203ffe8e3c</td>\n",
       "      <td>3e62a9e2-a61b-472d-8e56-234e30061580</td>\n",
       "      <td>Charged Off</td>\n",
       "      <td>449372.0</td>\n",
       "      <td>Short Term</td>\n",
       "      <td>708.0</td>\n",
       "      <td>2328564.0</td>\n",
       "      <td>5 years</td>\n",
       "      <td>Home Mortgage</td>\n",
       "      <td>Debt Consolidation</td>\n",
       "      <td>41720.2</td>\n",
       "      <td>15.7</td>\n",
       "      <td>NaN</td>\n",
       "      <td>76.0</td>\n",
       "      <td>0.0</td>\n",
       "      <td>771514.0</td>\n",
       "      <td>2674650.0</td>\n",
       "      <td>0.0</td>\n",
       "      <td>0.0</td>\n",
       "      <td>708.0</td>\n",
       "    </tr>\n",
       "  </tbody>\n",
       "</table>\n",
       "</div>"
      ],
      "text/plain": [
       "                                    Loan ID  \\\n",
       "96033  f4e0a453-a5ec-4011-9513-9d203ffe8e3c   \n",
       "\n",
       "                                Customer ID  Loan Status  Current Loan Amount  \\\n",
       "96033  3e62a9e2-a61b-472d-8e56-234e30061580  Charged Off             449372.0   \n",
       "\n",
       "             Term  Credit Score  Annual Income Years in current job  \\\n",
       "96033  Short Term         708.0      2328564.0              5 years   \n",
       "\n",
       "      Home Ownership             Purpose  Monthly Debt  \\\n",
       "96033  Home Mortgage  Debt Consolidation       41720.2   \n",
       "\n",
       "       Years of Credit History  Months since last delinquent  \\\n",
       "96033                     15.7                           NaN   \n",
       "\n",
       "       Number of Open Accounts  Number of Credit Problems  \\\n",
       "96033                     76.0                        0.0   \n",
       "\n",
       "       Current Credit Balance  Maximum Open Credit  Bankruptcies  Tax Liens  \\\n",
       "96033                771514.0            2674650.0           0.0        0.0   \n",
       "\n",
       "       Credit Score new  \n",
       "96033             708.0  "
      ]
     },
     "execution_count": 38,
     "metadata": {},
     "output_type": "execute_result"
    }
   ],
   "source": [
    "df[df['Number of Open Accounts']==76]\n"
   ]
  },
  {
   "cell_type": "code",
   "execution_count": 39,
   "id": "731ea44c",
   "metadata": {},
   "outputs": [
    {
     "data": {
      "text/plain": [
       "<AxesSubplot:>"
      ]
     },
     "execution_count": 39,
     "metadata": {},
     "output_type": "execute_result"
    },
    {
     "data": {
      "image/png": "[encoded data removed]",
      "text/plain": [
       "<Figure size 432x288 with 1 Axes>"
      ]
     },
     "metadata": {
      "needs_background": "light"
     },
     "output_type": "display_data"
    }
   ],
   "source": [
    "df.boxplot(['Number of Open Accounts'])"
   ]
  },
  {
   "cell_type": "code",
   "execution_count": 40,
   "id": "d6a4b561",
   "metadata": {},
   "outputs": [],
   "source": [
    "# Create an array of indices where employment length is greater than 60\n",
    "indices = df[df['Number of Open Accounts'] > 50].index\n",
    "df = df.drop(indices)"
   ]
  },
  {
   "cell_type": "code",
   "execution_count": 41,
   "id": "d1f743b3",
   "metadata": {},
   "outputs": [
    {
     "data": {
      "text/plain": [
       "count    95069.000000\n",
       "mean        11.117146\n",
       "std          4.989201\n",
       "min          0.000000\n",
       "25%          8.000000\n",
       "50%         10.000000\n",
       "75%         14.000000\n",
       "max         48.000000\n",
       "Name: Number of Open Accounts, dtype: float64"
      ]
     },
     "execution_count": 41,
     "metadata": {},
     "output_type": "execute_result"
    }
   ],
   "source": [
    "df['Number of Open Accounts'].describe()"
   ]
  },
  {
   "cell_type": "code",
   "execution_count": 42,
   "id": "2dd73e22",
   "metadata": {},
   "outputs": [
    {
     "data": {
      "text/plain": [
       "array([[<AxesSubplot:title={'center':'Number of Open Accounts'}>]],\n",
       "      dtype=object)"
      ]
     },
     "execution_count": 42,
     "metadata": {},
     "output_type": "execute_result"
    },
    {
     "data": {
      "image/png": "[encoded data removed]",
      "text/plain": [
       "<Figure size 432x288 with 1 Axes>"
      ]
     },
     "metadata": {
      "needs_background": "light"
     },
     "output_type": "display_data"
    }
   ],
   "source": [
    "df.hist(['Number of Open Accounts'], bins=20)"
   ]
  },
  {
   "cell_type": "markdown",
   "id": "0216484e",
   "metadata": {},
   "source": [
    "### Years in current job"
   ]
  },
  {
   "cell_type": "code",
   "execution_count": 43,
   "id": "a8bf0397",
   "metadata": {},
   "outputs": [
    {
     "data": {
      "text/plain": [
       "10+ years    29651\n",
       "2 years       8698\n",
       "< 1 year      7769\n",
       "3 years       7763\n",
       "5 years       6475\n",
       "1 year        6112\n",
       "4 years       5866\n",
       "6 years       5386\n",
       "7 years       5276\n",
       "8 years       4350\n",
       "9 years       3763\n",
       "Name: Years in current job, dtype: int64"
      ]
     },
     "execution_count": 43,
     "metadata": {},
     "output_type": "execute_result"
    }
   ],
   "source": [
    "df['Years in current job'].value_counts()"
   ]
  },
  {
   "cell_type": "code",
   "execution_count": 44,
   "id": "255c3410",
   "metadata": {},
   "outputs": [
    {
     "data": {
      "image/png": "[encoded data removed]",
      "text/plain": [
       "<Figure size 432x288 with 1 Axes>"
      ]
     },
     "metadata": {
      "needs_background": "light"
     },
     "output_type": "display_data"
    }
   ],
   "source": [
    "df['Years in current job']=df['Years in current job'].str.extract('(\\d+)').astype(float)\n",
    "ax = df['Years in current job'].plot.kde(ind=range(int(df['Years in current job'].min()),int(df['Years in current job'].max())))"
   ]
  },
  {
   "cell_type": "code",
   "execution_count": 45,
   "id": "2587b694",
   "metadata": {},
   "outputs": [],
   "source": [
    "df['Years in current job'].interpolate(inplace=True)"
   ]
  },
  {
   "cell_type": "code",
   "execution_count": 46,
   "id": "17c4e2d3",
   "metadata": {},
   "outputs": [
    {
     "data": {
      "text/plain": [
       "0"
      ]
     },
     "execution_count": 46,
     "metadata": {},
     "output_type": "execute_result"
    }
   ],
   "source": [
    "df['Years in current job'].isna().sum()"
   ]
  },
  {
   "cell_type": "markdown",
   "id": "5c256822",
   "metadata": {},
   "source": [
    "### Annual Income"
   ]
  },
  {
   "cell_type": "code",
   "execution_count": 47,
   "id": "c273be39",
   "metadata": {},
   "outputs": [
    {
     "data": {
      "image/png": "[encoded data removed]",
      "text/plain": [
       "<Figure size 432x288 with 1 Axes>"
      ]
     },
     "metadata": {
      "needs_background": "light"
     },
     "output_type": "display_data"
    }
   ],
   "source": [
    "plt.scatter(df['Credit Score new'],df['Annual Income'] )\n",
    "plt.show()"
   ]
  },
  {
   "cell_type": "code",
   "execution_count": 48,
   "id": "13b99550",
   "metadata": {},
   "outputs": [
    {
     "data": {
      "text/plain": [
       "18779"
      ]
     },
     "execution_count": 48,
     "metadata": {},
     "output_type": "execute_result"
    }
   ],
   "source": [
    "df['Annual Income'].isna().sum()"
   ]
  },
  {
   "cell_type": "code",
   "execution_count": 49,
   "id": "10b2eecb",
   "metadata": {},
   "outputs": [],
   "source": [
    "df['Annual Income'].interpolate(inplace=True)"
   ]
  },
  {
   "cell_type": "code",
   "execution_count": 50,
   "id": "8cc8684f",
   "metadata": {},
   "outputs": [
    {
     "data": {
      "text/plain": [
       "<AxesSubplot:>"
      ]
     },
     "execution_count": 50,
     "metadata": {},
     "output_type": "execute_result"
    },
    {
     "data": {
      "image/png": "[encoded data removed]",
      "text/plain": [
       "<Figure size 432x288 with 1 Axes>"
      ]
     },
     "metadata": {
      "needs_background": "light"
     },
     "output_type": "display_data"
    }
   ],
   "source": [
    "df.boxplot(['Annual Income'])"
   ]
  },
  {
   "cell_type": "code",
   "execution_count": 51,
   "id": "7dc292d1",
   "metadata": {},
   "outputs": [
    {
     "data": {
      "text/plain": [
       "0"
      ]
     },
     "execution_count": 51,
     "metadata": {},
     "output_type": "execute_result"
    }
   ],
   "source": [
    "df['Annual Income'].isna().sum()"
   ]
  },
  {
   "cell_type": "markdown",
   "id": "7a206921",
   "metadata": {},
   "source": [
    "###  Dropping Months since last delinquent & Credit Score"
   ]
  },
  {
   "cell_type": "code",
   "execution_count": 52,
   "id": "039af993",
   "metadata": {},
   "outputs": [],
   "source": [
    "df.drop(['Months since last delinquent', 'Credit Score'], axis=1, inplace= True )\n",
    "df.dropna(subset=['Maximum Open Credit','Bankruptcies','Tax Liens'],inplace=True)"
   ]
  },
  {
   "cell_type": "markdown",
   "id": "c389daee",
   "metadata": {},
   "source": [
    "### Current Loan Amount"
   ]
  },
  {
   "cell_type": "code",
   "execution_count": 53,
   "id": "5945c028",
   "metadata": {},
   "outputs": [
    {
     "data": {
      "text/html": [
       "<div>\n",
       "<style scoped>\n",
       "    .dataframe tbody tr th:only-of-type {\n",
       "        vertical-align: middle;\n",
       "    }\n",
       "\n",
       "    .dataframe tbody tr th {\n",
       "        vertical-align: top;\n",
       "    }\n",
       "\n",
       "    .dataframe thead th {\n",
       "        text-align: right;\n",
       "    }\n",
       "</style>\n",
       "<table border=\"1\" class=\"dataframe\">\n",
       "  <thead>\n",
       "    <tr style=\"text-align: right;\">\n",
       "      <th></th>\n",
       "      <th>Loan ID</th>\n",
       "      <th>Customer ID</th>\n",
       "      <th>Loan Status</th>\n",
       "      <th>Current Loan Amount</th>\n",
       "      <th>Term</th>\n",
       "      <th>Annual Income</th>\n",
       "      <th>Years in current job</th>\n",
       "      <th>Home Ownership</th>\n",
       "      <th>Purpose</th>\n",
       "      <th>Monthly Debt</th>\n",
       "      <th>Years of Credit History</th>\n",
       "      <th>Number of Open Accounts</th>\n",
       "      <th>Number of Credit Problems</th>\n",
       "      <th>Current Credit Balance</th>\n",
       "      <th>Maximum Open Credit</th>\n",
       "      <th>Bankruptcies</th>\n",
       "      <th>Tax Liens</th>\n",
       "      <th>Credit Score new</th>\n",
       "    </tr>\n",
       "  </thead>\n",
       "  <tbody>\n",
       "    <tr>\n",
       "      <th>2</th>\n",
       "      <td>4eed4e6a-aa2f-4c91-8651-ce984ee8fb26</td>\n",
       "      <td>5efb2b2b-bf11-4dfd-a572-3761a2694725</td>\n",
       "      <td>Fully Paid</td>\n",
       "      <td>99999999.0</td>\n",
       "      <td>Short Term</td>\n",
       "      <td>2231892.0</td>\n",
       "      <td>8.0</td>\n",
       "      <td>Own Home</td>\n",
       "      <td>Debt Consolidation</td>\n",
       "      <td>29200.53</td>\n",
       "      <td>14.9</td>\n",
       "      <td>18.0</td>\n",
       "      <td>1.0</td>\n",
       "      <td>297996.0</td>\n",
       "      <td>750090.0</td>\n",
       "      <td>0.0</td>\n",
       "      <td>0.0</td>\n",
       "      <td>741.0</td>\n",
       "    </tr>\n",
       "    <tr>\n",
       "      <th>10</th>\n",
       "      <td>32c2e48f-1ba8-45e0-a530-9a6622c18d9c</td>\n",
       "      <td>0de7bcdb-ebf4-4608-ba39-05f083f855b6</td>\n",
       "      <td>Fully Paid</td>\n",
       "      <td>99999999.0</td>\n",
       "      <td>Short Term</td>\n",
       "      <td>714628.0</td>\n",
       "      <td>3.0</td>\n",
       "      <td>Rent</td>\n",
       "      <td>Debt Consolidation</td>\n",
       "      <td>11851.06</td>\n",
       "      <td>16.0</td>\n",
       "      <td>16.0</td>\n",
       "      <td>0.0</td>\n",
       "      <td>203965.0</td>\n",
       "      <td>289784.0</td>\n",
       "      <td>0.0</td>\n",
       "      <td>0.0</td>\n",
       "      <td>728.0</td>\n",
       "    </tr>\n",
       "    <tr>\n",
       "      <th>12</th>\n",
       "      <td>403d7235-0284-4bb6-919a-09402fecbf7b</td>\n",
       "      <td>11581f68-de3c-49d8-80d9-22268ebb323b</td>\n",
       "      <td>Fully Paid</td>\n",
       "      <td>99999999.0</td>\n",
       "      <td>Short Term</td>\n",
       "      <td>776188.0</td>\n",
       "      <td>1.0</td>\n",
       "      <td>Own Home</td>\n",
       "      <td>Debt Consolidation</td>\n",
       "      <td>11578.22</td>\n",
       "      <td>8.5</td>\n",
       "      <td>6.0</td>\n",
       "      <td>0.0</td>\n",
       "      <td>134083.0</td>\n",
       "      <td>220220.0</td>\n",
       "      <td>0.0</td>\n",
       "      <td>0.0</td>\n",
       "      <td>740.0</td>\n",
       "    </tr>\n",
       "    <tr>\n",
       "      <th>13</th>\n",
       "      <td>01d878ae-efa2-41e2-8159-6c834ff09f47</td>\n",
       "      <td>900c9191-2c20-4688-af7e-07c59b5d5a24</td>\n",
       "      <td>Fully Paid</td>\n",
       "      <td>99999999.0</td>\n",
       "      <td>Short Term</td>\n",
       "      <td>1560907.0</td>\n",
       "      <td>4.0</td>\n",
       "      <td>Rent</td>\n",
       "      <td>Debt Consolidation</td>\n",
       "      <td>17560.37</td>\n",
       "      <td>13.3</td>\n",
       "      <td>10.0</td>\n",
       "      <td>1.0</td>\n",
       "      <td>225549.0</td>\n",
       "      <td>496474.0</td>\n",
       "      <td>1.0</td>\n",
       "      <td>0.0</td>\n",
       "      <td>743.0</td>\n",
       "    </tr>\n",
       "    <tr>\n",
       "      <th>26</th>\n",
       "      <td>0c14cb77-29a3-4964-9198-0c43f5f982b0</td>\n",
       "      <td>9baf6d5d-f744-4332-abb0-e939b75cde40</td>\n",
       "      <td>Fully Paid</td>\n",
       "      <td>99999999.0</td>\n",
       "      <td>Short Term</td>\n",
       "      <td>1029857.0</td>\n",
       "      <td>1.0</td>\n",
       "      <td>Rent</td>\n",
       "      <td>Debt Consolidation</td>\n",
       "      <td>13817.18</td>\n",
       "      <td>12.0</td>\n",
       "      <td>6.0</td>\n",
       "      <td>0.0</td>\n",
       "      <td>138339.0</td>\n",
       "      <td>221232.0</td>\n",
       "      <td>0.0</td>\n",
       "      <td>0.0</td>\n",
       "      <td>724.0</td>\n",
       "    </tr>\n",
       "    <tr>\n",
       "      <th>...</th>\n",
       "      <td>...</td>\n",
       "      <td>...</td>\n",
       "      <td>...</td>\n",
       "      <td>...</td>\n",
       "      <td>...</td>\n",
       "      <td>...</td>\n",
       "      <td>...</td>\n",
       "      <td>...</td>\n",
       "      <td>...</td>\n",
       "      <td>...</td>\n",
       "      <td>...</td>\n",
       "      <td>...</td>\n",
       "      <td>...</td>\n",
       "      <td>...</td>\n",
       "      <td>...</td>\n",
       "      <td>...</td>\n",
       "      <td>...</td>\n",
       "      <td>...</td>\n",
       "    </tr>\n",
       "    <tr>\n",
       "      <th>99970</th>\n",
       "      <td>1972ab02-51f9-4bc0-bb24-095740d2d18c</td>\n",
       "      <td>5b939de4-e3fa-4163-9fdc-64c0cc1aa77b</td>\n",
       "      <td>Fully Paid</td>\n",
       "      <td>99999999.0</td>\n",
       "      <td>Short Term</td>\n",
       "      <td>1058376.0</td>\n",
       "      <td>1.0</td>\n",
       "      <td>Home Mortgage</td>\n",
       "      <td>Other</td>\n",
       "      <td>11554.09</td>\n",
       "      <td>10.1</td>\n",
       "      <td>12.0</td>\n",
       "      <td>0.0</td>\n",
       "      <td>14098.0</td>\n",
       "      <td>333300.0</td>\n",
       "      <td>0.0</td>\n",
       "      <td>0.0</td>\n",
       "      <td>674.0</td>\n",
       "    </tr>\n",
       "    <tr>\n",
       "      <th>99971</th>\n",
       "      <td>fa1a1ef5-3697-469c-a842-538b8dcfb63a</td>\n",
       "      <td>567c8737-56d2-4aa8-b6a2-c55182f28518</td>\n",
       "      <td>Fully Paid</td>\n",
       "      <td>99999999.0</td>\n",
       "      <td>Long Term</td>\n",
       "      <td>1530564.0</td>\n",
       "      <td>8.0</td>\n",
       "      <td>Rent</td>\n",
       "      <td>Medical Bills</td>\n",
       "      <td>13264.85</td>\n",
       "      <td>28.0</td>\n",
       "      <td>10.0</td>\n",
       "      <td>0.0</td>\n",
       "      <td>111283.0</td>\n",
       "      <td>162910.0</td>\n",
       "      <td>0.0</td>\n",
       "      <td>0.0</td>\n",
       "      <td>616.0</td>\n",
       "    </tr>\n",
       "    <tr>\n",
       "      <th>99990</th>\n",
       "      <td>686017b3-dc24-4f8a-af92-0bd077452d3d</td>\n",
       "      <td>1a583add-21ba-410f-9c42-757c4ed19322</td>\n",
       "      <td>Fully Paid</td>\n",
       "      <td>99999999.0</td>\n",
       "      <td>Short Term</td>\n",
       "      <td>1190046.0</td>\n",
       "      <td>1.0</td>\n",
       "      <td>Rent</td>\n",
       "      <td>other</td>\n",
       "      <td>11969.81</td>\n",
       "      <td>20.1</td>\n",
       "      <td>9.0</td>\n",
       "      <td>0.0</td>\n",
       "      <td>37392.0</td>\n",
       "      <td>134442.0</td>\n",
       "      <td>0.0</td>\n",
       "      <td>0.0</td>\n",
       "      <td>742.0</td>\n",
       "    </tr>\n",
       "    <tr>\n",
       "      <th>99996</th>\n",
       "      <td>06eba04f-58fc-424a-b666-ed72aa008900</td>\n",
       "      <td>77f2252a-b7d1-4b07-a746-1202a8304290</td>\n",
       "      <td>Fully Paid</td>\n",
       "      <td>99999999.0</td>\n",
       "      <td>Short Term</td>\n",
       "      <td>1289416.0</td>\n",
       "      <td>1.0</td>\n",
       "      <td>Rent</td>\n",
       "      <td>Debt Consolidation</td>\n",
       "      <td>13109.05</td>\n",
       "      <td>9.4</td>\n",
       "      <td>22.0</td>\n",
       "      <td>0.0</td>\n",
       "      <td>153045.0</td>\n",
       "      <td>509234.0</td>\n",
       "      <td>0.0</td>\n",
       "      <td>0.0</td>\n",
       "      <td>732.0</td>\n",
       "    </tr>\n",
       "    <tr>\n",
       "      <th>99999</th>\n",
       "      <td>c63916c6-6d46-47a9-949a-51d09af4414f</td>\n",
       "      <td>1b3014be-5c07-4d41-abe7-44573c375886</td>\n",
       "      <td>Fully Paid</td>\n",
       "      <td>99999999.0</td>\n",
       "      <td>Short Term</td>\n",
       "      <td>935180.0</td>\n",
       "      <td>9.0</td>\n",
       "      <td>Own Home</td>\n",
       "      <td>Debt Consolidation</td>\n",
       "      <td>9118.10</td>\n",
       "      <td>13.0</td>\n",
       "      <td>4.0</td>\n",
       "      <td>1.0</td>\n",
       "      <td>45600.0</td>\n",
       "      <td>91014.0</td>\n",
       "      <td>1.0</td>\n",
       "      <td>0.0</td>\n",
       "      <td>743.0</td>\n",
       "    </tr>\n",
       "  </tbody>\n",
       "</table>\n",
       "<p>11456 rows × 18 columns</p>\n",
       "</div>"
      ],
      "text/plain": [
       "                                    Loan ID  \\\n",
       "2      4eed4e6a-aa2f-4c91-8651-ce984ee8fb26   \n",
       "10     32c2e48f-1ba8-45e0-a530-9a6622c18d9c   \n",
       "12     403d7235-0284-4bb6-919a-09402fecbf7b   \n",
       "13     01d878ae-efa2-41e2-8159-6c834ff09f47   \n",
       "26     0c14cb77-29a3-4964-9198-0c43f5f982b0   \n",
       "...                                     ...   \n",
       "99970  1972ab02-51f9-4bc0-bb24-095740d2d18c   \n",
       "99971  fa1a1ef5-3697-469c-a842-538b8dcfb63a   \n",
       "99990  686017b3-dc24-4f8a-af92-0bd077452d3d   \n",
       "99996  06eba04f-58fc-424a-b666-ed72aa008900   \n",
       "99999  c63916c6-6d46-47a9-949a-51d09af4414f   \n",
       "\n",
       "                                Customer ID Loan Status  Current Loan Amount  \\\n",
       "2      5efb2b2b-bf11-4dfd-a572-3761a2694725  Fully Paid           99999999.0   \n",
       "10     0de7bcdb-ebf4-4608-ba39-05f083f855b6  Fully Paid           99999999.0   \n",
       "12     11581f68-de3c-49d8-80d9-22268ebb323b  Fully Paid           99999999.0   \n",
       "13     900c9191-2c20-4688-af7e-07c59b5d5a24  Fully Paid           99999999.0   \n",
       "26     9baf6d5d-f744-4332-abb0-e939b75cde40  Fully Paid           99999999.0   \n",
       "...                                     ...         ...                  ...   \n",
       "99970  5b939de4-e3fa-4163-9fdc-64c0cc1aa77b  Fully Paid           99999999.0   \n",
       "99971  567c8737-56d2-4aa8-b6a2-c55182f28518  Fully Paid           99999999.0   \n",
       "99990  1a583add-21ba-410f-9c42-757c4ed19322  Fully Paid           99999999.0   \n",
       "99996  77f2252a-b7d1-4b07-a746-1202a8304290  Fully Paid           99999999.0   \n",
       "99999  1b3014be-5c07-4d41-abe7-44573c375886  Fully Paid           99999999.0   \n",
       "\n",
       "             Term  Annual Income  Years in current job Home Ownership  \\\n",
       "2      Short Term      2231892.0                   8.0       Own Home   \n",
       "10     Short Term       714628.0                   3.0           Rent   \n",
       "12     Short Term       776188.0                   1.0       Own Home   \n",
       "13     Short Term      1560907.0                   4.0           Rent   \n",
       "26     Short Term      1029857.0                   1.0           Rent   \n",
       "...           ...            ...                   ...            ...   \n",
       "99970  Short Term      1058376.0                   1.0  Home Mortgage   \n",
       "99971   Long Term      1530564.0                   8.0           Rent   \n",
       "99990  Short Term      1190046.0                   1.0           Rent   \n",
       "99996  Short Term      1289416.0                   1.0           Rent   \n",
       "99999  Short Term       935180.0                   9.0       Own Home   \n",
       "\n",
       "                  Purpose  Monthly Debt  Years of Credit History  \\\n",
       "2      Debt Consolidation      29200.53                     14.9   \n",
       "10     Debt Consolidation      11851.06                     16.0   \n",
       "12     Debt Consolidation      11578.22                      8.5   \n",
       "13     Debt Consolidation      17560.37                     13.3   \n",
       "26     Debt Consolidation      13817.18                     12.0   \n",
       "...                   ...           ...                      ...   \n",
       "99970               Other      11554.09                     10.1   \n",
       "99971       Medical Bills      13264.85                     28.0   \n",
       "99990               other      11969.81                     20.1   \n",
       "99996  Debt Consolidation      13109.05                      9.4   \n",
       "99999  Debt Consolidation       9118.10                     13.0   \n",
       "\n",
       "       Number of Open Accounts  Number of Credit Problems  \\\n",
       "2                         18.0                        1.0   \n",
       "10                        16.0                        0.0   \n",
       "12                         6.0                        0.0   \n",
       "13                        10.0                        1.0   \n",
       "26                         6.0                        0.0   \n",
       "...                        ...                        ...   \n",
       "99970                     12.0                        0.0   \n",
       "99971                     10.0                        0.0   \n",
       "99990                      9.0                        0.0   \n",
       "99996                     22.0                        0.0   \n",
       "99999                      4.0                        1.0   \n",
       "\n",
       "       Current Credit Balance  Maximum Open Credit  Bankruptcies  Tax Liens  \\\n",
       "2                    297996.0             750090.0           0.0        0.0   \n",
       "10                   203965.0             289784.0           0.0        0.0   \n",
       "12                   134083.0             220220.0           0.0        0.0   \n",
       "13                   225549.0             496474.0           1.0        0.0   \n",
       "26                   138339.0             221232.0           0.0        0.0   \n",
       "...                       ...                  ...           ...        ...   \n",
       "99970                 14098.0             333300.0           0.0        0.0   \n",
       "99971                111283.0             162910.0           0.0        0.0   \n",
       "99990                 37392.0             134442.0           0.0        0.0   \n",
       "99996                153045.0             509234.0           0.0        0.0   \n",
       "99999                 45600.0              91014.0           1.0        0.0   \n",
       "\n",
       "       Credit Score new  \n",
       "2                 741.0  \n",
       "10                728.0  \n",
       "12                740.0  \n",
       "13                743.0  \n",
       "26                724.0  \n",
       "...                 ...  \n",
       "99970             674.0  \n",
       "99971             616.0  \n",
       "99990             742.0  \n",
       "99996             732.0  \n",
       "99999             743.0  \n",
       "\n",
       "[11456 rows x 18 columns]"
      ]
     },
     "execution_count": 53,
     "metadata": {},
     "output_type": "execute_result"
    }
   ],
   "source": [
    "df[df['Current Loan Amount']==99999999]\n"
   ]
  },
  {
   "cell_type": "code",
   "execution_count": 54,
   "id": "170a37f3",
   "metadata": {},
   "outputs": [
    {
     "data": {
      "text/plain": [
       "99999999.0"
      ]
     },
     "execution_count": 54,
     "metadata": {},
     "output_type": "execute_result"
    }
   ],
   "source": [
    "df['Current Loan Amount'].max()"
   ]
  },
  {
   "cell_type": "code",
   "execution_count": 55,
   "id": "3943fde0",
   "metadata": {},
   "outputs": [
    {
     "data": {
      "text/html": [
       "<div>\n",
       "<style scoped>\n",
       "    .dataframe tbody tr th:only-of-type {\n",
       "        vertical-align: middle;\n",
       "    }\n",
       "\n",
       "    .dataframe tbody tr th {\n",
       "        vertical-align: top;\n",
       "    }\n",
       "\n",
       "    .dataframe thead th {\n",
       "        text-align: right;\n",
       "    }\n",
       "</style>\n",
       "<table border=\"1\" class=\"dataframe\">\n",
       "  <thead>\n",
       "    <tr style=\"text-align: right;\">\n",
       "      <th></th>\n",
       "      <th>Loan ID</th>\n",
       "      <th>Customer ID</th>\n",
       "      <th>Loan Status</th>\n",
       "      <th>Current Loan Amount</th>\n",
       "      <th>Term</th>\n",
       "      <th>Annual Income</th>\n",
       "      <th>Years in current job</th>\n",
       "      <th>Home Ownership</th>\n",
       "      <th>Purpose</th>\n",
       "      <th>Monthly Debt</th>\n",
       "      <th>Years of Credit History</th>\n",
       "      <th>Number of Open Accounts</th>\n",
       "      <th>Number of Credit Problems</th>\n",
       "      <th>Current Credit Balance</th>\n",
       "      <th>Maximum Open Credit</th>\n",
       "      <th>Bankruptcies</th>\n",
       "      <th>Tax Liens</th>\n",
       "      <th>Credit Score new</th>\n",
       "    </tr>\n",
       "  </thead>\n",
       "  <tbody>\n",
       "  </tbody>\n",
       "</table>\n",
       "</div>"
      ],
      "text/plain": [
       "Empty DataFrame\n",
       "Columns: [Loan ID, Customer ID, Loan Status, Current Loan Amount, Term, Annual Income, Years in current job, Home Ownership, Purpose, Monthly Debt, Years of Credit History, Number of Open Accounts, Number of Credit Problems, Current Credit Balance, Maximum Open Credit, Bankruptcies, Tax Liens, Credit Score new]\n",
       "Index: []"
      ]
     },
     "execution_count": 55,
     "metadata": {},
     "output_type": "execute_result"
    }
   ],
   "source": [
    "df[(df['Current Loan Amount']== 99999999) & (df['Loan Status'] != 'Fully Paid' )]"
   ]
  },
  {
   "cell_type": "code",
   "execution_count": 56,
   "id": "e44d0cef",
   "metadata": {},
   "outputs": [],
   "source": [
    "df['Current Loan Amount'] = df['Current Loan Amount'].replace(99999999, 0)"
   ]
  },
  {
   "cell_type": "code",
   "execution_count": 57,
   "id": "ad1de929",
   "metadata": {},
   "outputs": [
    {
     "data": {
      "text/plain": [
       "<AxesSubplot:>"
      ]
     },
     "execution_count": 57,
     "metadata": {},
     "output_type": "execute_result"
    },
    {
     "data": {
      "image/png": "[encoded data removed]",
      "text/plain": [
       "<Figure size 432x288 with 1 Axes>"
      ]
     },
     "metadata": {
      "needs_background": "light"
     },
     "output_type": "display_data"
    }
   ],
   "source": [
    "df.boxplot(['Current Loan Amount'])"
   ]
  },
  {
   "cell_type": "markdown",
   "id": "f71195a6",
   "metadata": {},
   "source": [
    "### Term"
   ]
  },
  {
   "cell_type": "code",
   "execution_count": 58,
   "id": "23da9567",
   "metadata": {},
   "outputs": [
    {
     "data": {
      "text/plain": [
       "Short Term    68898\n",
       "Long Term     25976\n",
       "Name: Term, dtype: int64"
      ]
     },
     "execution_count": 58,
     "metadata": {},
     "output_type": "execute_result"
    }
   ],
   "source": [
    "df['Term'].value_counts()"
   ]
  },
  {
   "cell_type": "markdown",
   "id": "31f9f8cb",
   "metadata": {},
   "source": [
    "### Purpose"
   ]
  },
  {
   "cell_type": "code",
   "execution_count": 59,
   "id": "f438c1d4",
   "metadata": {},
   "outputs": [
    {
     "data": {
      "text/plain": [
       "Debt Consolidation      74485\n",
       "other                    5734\n",
       "Home Improvements        5574\n",
       "Other                    3127\n",
       "Business Loan            1458\n",
       "Buy a Car                1210\n",
       "Medical Bills            1062\n",
       "Buy House                 642\n",
       "Take a Trip               546\n",
       "major_purchase            334\n",
       "small_business            257\n",
       "moving                    141\n",
       "wedding                   111\n",
       "vacation                   96\n",
       "Educational Expenses       88\n",
       "renewable_energy            9\n",
       "Name: Purpose, dtype: int64"
      ]
     },
     "execution_count": 59,
     "metadata": {},
     "output_type": "execute_result"
    }
   ],
   "source": [
    "df['Purpose'].value_counts()"
   ]
  },
  {
   "cell_type": "markdown",
   "id": "2623493c",
   "metadata": {},
   "source": [
    "### Monthly Debt"
   ]
  },
  {
   "cell_type": "code",
   "execution_count": 60,
   "id": "6ae0afe1",
   "metadata": {},
   "outputs": [
    {
     "data": {
      "text/plain": [
       "<AxesSubplot:>"
      ]
     },
     "execution_count": 60,
     "metadata": {},
     "output_type": "execute_result"
    },
    {
     "data": {
      "image/png": "[encoded data removed]",
      "text/plain": [
       "<Figure size 432x288 with 1 Axes>"
      ]
     },
     "metadata": {
      "needs_background": "light"
     },
     "output_type": "display_data"
    }
   ],
   "source": [
    "df.boxplot(['Monthly Debt'])"
   ]
  },
  {
   "cell_type": "code",
   "execution_count": 61,
   "id": "016b824c",
   "metadata": {},
   "outputs": [],
   "source": [
    "# Create an array of indices where employment length is greater than 60\n",
    "indices = df[df['Monthly Debt'] > 200000].index\n",
    "df = df.drop(indices)"
   ]
  },
  {
   "cell_type": "code",
   "execution_count": 62,
   "id": "228532f0",
   "metadata": {},
   "outputs": [
    {
     "data": {
      "text/plain": [
       "<AxesSubplot:>"
      ]
     },
     "execution_count": 62,
     "metadata": {},
     "output_type": "execute_result"
    },
    {
     "data": {
      "image/png": "[encoded data removed]",
      "text/plain": [
       "<Figure size 432x288 with 1 Axes>"
      ]
     },
     "metadata": {
      "needs_background": "light"
     },
     "output_type": "display_data"
    }
   ],
   "source": [
    "df.boxplot(['Monthly Debt'])"
   ]
  },
  {
   "cell_type": "markdown",
   "id": "4d486fe0",
   "metadata": {},
   "source": [
    "### Current Credit Balance"
   ]
  },
  {
   "cell_type": "code",
   "execution_count": 63,
   "id": "8f999465",
   "metadata": {},
   "outputs": [
    {
     "data": {
      "text/plain": [
       "count    9.487200e+04\n",
       "mean     2.945468e+05\n",
       "std      3.637611e+05\n",
       "min      0.000000e+00\n",
       "25%      1.123232e+05\n",
       "50%      2.093705e+05\n",
       "75%      3.679350e+05\n",
       "max      1.298696e+07\n",
       "Name: Current Credit Balance, dtype: float64"
      ]
     },
     "execution_count": 63,
     "metadata": {},
     "output_type": "execute_result"
    }
   ],
   "source": [
    "df['Current Credit Balance'].describe()"
   ]
  },
  {
   "cell_type": "code",
   "execution_count": 64,
   "id": "f6d6b1e3",
   "metadata": {},
   "outputs": [
    {
     "data": {
      "text/plain": [
       "<AxesSubplot:>"
      ]
     },
     "execution_count": 64,
     "metadata": {},
     "output_type": "execute_result"
    },
    {
     "data": {
      "image/png": "[encoded data removed]",
      "text/plain": [
       "<Figure size 432x288 with 1 Axes>"
      ]
     },
     "metadata": {
      "needs_background": "light"
     },
     "output_type": "display_data"
    }
   ],
   "source": [
    "df.boxplot(['Current Credit Balance'])"
   ]
  },
  {
   "cell_type": "code",
   "execution_count": 65,
   "id": "6dc8ba91",
   "metadata": {},
   "outputs": [
    {
     "data": {
      "text/plain": [
       "Index(['Loan ID', 'Customer ID', 'Loan Status', 'Current Loan Amount', 'Term',\n",
       "       'Annual Income', 'Years in current job', 'Home Ownership', 'Purpose',\n",
       "       'Monthly Debt', 'Years of Credit History', 'Number of Open Accounts',\n",
       "       'Number of Credit Problems', 'Current Credit Balance',\n",
       "       'Maximum Open Credit', 'Bankruptcies', 'Tax Liens', 'Credit Score new'],\n",
       "      dtype='object')"
      ]
     },
     "execution_count": 65,
     "metadata": {},
     "output_type": "execute_result"
    }
   ],
   "source": [
    "df.columns"
   ]
  },
  {
   "cell_type": "code",
   "execution_count": 66,
   "id": "64078572",
   "metadata": {},
   "outputs": [
    {
     "data": {
      "text/html": [
       "<div>\n",
       "<style scoped>\n",
       "    .dataframe tbody tr th:only-of-type {\n",
       "        vertical-align: middle;\n",
       "    }\n",
       "\n",
       "    .dataframe tbody tr th {\n",
       "        vertical-align: top;\n",
       "    }\n",
       "\n",
       "    .dataframe thead th {\n",
       "        text-align: right;\n",
       "    }\n",
       "</style>\n",
       "<table border=\"1\" class=\"dataframe\">\n",
       "  <thead>\n",
       "    <tr style=\"text-align: right;\">\n",
       "      <th></th>\n",
       "      <th>Current Loan Amount</th>\n",
       "      <th>Annual Income</th>\n",
       "      <th>Years in current job</th>\n",
       "      <th>Monthly Debt</th>\n",
       "      <th>Years of Credit History</th>\n",
       "      <th>Number of Open Accounts</th>\n",
       "      <th>Number of Credit Problems</th>\n",
       "      <th>Current Credit Balance</th>\n",
       "      <th>Maximum Open Credit</th>\n",
       "      <th>Bankruptcies</th>\n",
       "      <th>Tax Liens</th>\n",
       "      <th>Credit Score new</th>\n",
       "    </tr>\n",
       "  </thead>\n",
       "  <tbody>\n",
       "    <tr>\n",
       "      <th>count</th>\n",
       "      <td>94872.000000</td>\n",
       "      <td>9.487200e+04</td>\n",
       "      <td>94872.000000</td>\n",
       "      <td>94872.000000</td>\n",
       "      <td>94872.000000</td>\n",
       "      <td>94872.000000</td>\n",
       "      <td>94872.000000</td>\n",
       "      <td>9.487200e+04</td>\n",
       "      <td>9.487200e+04</td>\n",
       "      <td>94872.000000</td>\n",
       "      <td>94872.000000</td>\n",
       "      <td>94872.000000</td>\n",
       "    </tr>\n",
       "    <tr>\n",
       "      <th>mean</th>\n",
       "      <td>274024.386078</td>\n",
       "      <td>1.382989e+06</td>\n",
       "      <td>5.984669</td>\n",
       "      <td>18478.654091</td>\n",
       "      <td>18.209889</td>\n",
       "      <td>11.119582</td>\n",
       "      <td>0.168522</td>\n",
       "      <td>2.945468e+05</td>\n",
       "      <td>7.629483e+05</td>\n",
       "      <td>0.117896</td>\n",
       "      <td>0.029050</td>\n",
       "      <td>710.568655</td>\n",
       "    </tr>\n",
       "    <tr>\n",
       "      <th>std</th>\n",
       "      <td>201978.520388</td>\n",
       "      <td>8.699835e+05</td>\n",
       "      <td>3.463795</td>\n",
       "      <td>12096.705276</td>\n",
       "      <td>7.015618</td>\n",
       "      <td>4.987476</td>\n",
       "      <td>0.482031</td>\n",
       "      <td>3.637611e+05</td>\n",
       "      <td>8.551359e+06</td>\n",
       "      <td>0.351542</td>\n",
       "      <td>0.256832</td>\n",
       "      <td>52.337610</td>\n",
       "    </tr>\n",
       "    <tr>\n",
       "      <th>min</th>\n",
       "      <td>0.000000</td>\n",
       "      <td>7.662700e+04</td>\n",
       "      <td>1.000000</td>\n",
       "      <td>0.000000</td>\n",
       "      <td>3.600000</td>\n",
       "      <td>0.000000</td>\n",
       "      <td>0.000000</td>\n",
       "      <td>0.000000e+00</td>\n",
       "      <td>0.000000e+00</td>\n",
       "      <td>0.000000</td>\n",
       "      <td>0.000000</td>\n",
       "      <td>301.050000</td>\n",
       "    </tr>\n",
       "    <tr>\n",
       "      <th>25%</th>\n",
       "      <td>122430.000000</td>\n",
       "      <td>8.756862e+05</td>\n",
       "      <td>3.000000</td>\n",
       "      <td>10216.632500</td>\n",
       "      <td>13.500000</td>\n",
       "      <td>8.000000</td>\n",
       "      <td>0.000000</td>\n",
       "      <td>1.123232e+05</td>\n",
       "      <td>2.737625e+05</td>\n",
       "      <td>0.000000</td>\n",
       "      <td>0.000000</td>\n",
       "      <td>703.000000</td>\n",
       "    </tr>\n",
       "    <tr>\n",
       "      <th>50%</th>\n",
       "      <td>237688.000000</td>\n",
       "      <td>1.206671e+06</td>\n",
       "      <td>6.000000</td>\n",
       "      <td>16221.820000</td>\n",
       "      <td>16.900000</td>\n",
       "      <td>10.000000</td>\n",
       "      <td>0.000000</td>\n",
       "      <td>2.093705e+05</td>\n",
       "      <td>4.687210e+05</td>\n",
       "      <td>0.000000</td>\n",
       "      <td>0.000000</td>\n",
       "      <td>721.000000</td>\n",
       "    </tr>\n",
       "    <tr>\n",
       "      <th>75%</th>\n",
       "      <td>400471.500000</td>\n",
       "      <td>1.649732e+06</td>\n",
       "      <td>10.000000</td>\n",
       "      <td>24025.357500</td>\n",
       "      <td>21.700000</td>\n",
       "      <td>14.000000</td>\n",
       "      <td>0.000000</td>\n",
       "      <td>3.679350e+05</td>\n",
       "      <td>7.853725e+05</td>\n",
       "      <td>0.000000</td>\n",
       "      <td>0.000000</td>\n",
       "      <td>737.000000</td>\n",
       "    </tr>\n",
       "    <tr>\n",
       "      <th>max</th>\n",
       "      <td>789250.000000</td>\n",
       "      <td>3.647544e+07</td>\n",
       "      <td>10.000000</td>\n",
       "      <td>173265.560000</td>\n",
       "      <td>70.500000</td>\n",
       "      <td>48.000000</td>\n",
       "      <td>15.000000</td>\n",
       "      <td>1.298696e+07</td>\n",
       "      <td>1.539738e+09</td>\n",
       "      <td>7.000000</td>\n",
       "      <td>15.000000</td>\n",
       "      <td>751.000000</td>\n",
       "    </tr>\n",
       "  </tbody>\n",
       "</table>\n",
       "</div>"
      ],
      "text/plain": [
       "       Current Loan Amount  Annual Income  Years in current job  \\\n",
       "count         94872.000000   9.487200e+04          94872.000000   \n",
       "mean         274024.386078   1.382989e+06              5.984669   \n",
       "std          201978.520388   8.699835e+05              3.463795   \n",
       "min               0.000000   7.662700e+04              1.000000   \n",
       "25%          122430.000000   8.756862e+05              3.000000   \n",
       "50%          237688.000000   1.206671e+06              6.000000   \n",
       "75%          400471.500000   1.649732e+06             10.000000   \n",
       "max          789250.000000   3.647544e+07             10.000000   \n",
       "\n",
       "        Monthly Debt  Years of Credit History  Number of Open Accounts  \\\n",
       "count   94872.000000             94872.000000             94872.000000   \n",
       "mean    18478.654091                18.209889                11.119582   \n",
       "std     12096.705276                 7.015618                 4.987476   \n",
       "min         0.000000                 3.600000                 0.000000   \n",
       "25%     10216.632500                13.500000                 8.000000   \n",
       "50%     16221.820000                16.900000                10.000000   \n",
       "75%     24025.357500                21.700000                14.000000   \n",
       "max    173265.560000                70.500000                48.000000   \n",
       "\n",
       "       Number of Credit Problems  Current Credit Balance  Maximum Open Credit  \\\n",
       "count               94872.000000            9.487200e+04         9.487200e+04   \n",
       "mean                    0.168522            2.945468e+05         7.629483e+05   \n",
       "std                     0.482031            3.637611e+05         8.551359e+06   \n",
       "min                     0.000000            0.000000e+00         0.000000e+00   \n",
       "25%                     0.000000            1.123232e+05         2.737625e+05   \n",
       "50%                     0.000000            2.093705e+05         4.687210e+05   \n",
       "75%                     0.000000            3.679350e+05         7.853725e+05   \n",
       "max                    15.000000            1.298696e+07         1.539738e+09   \n",
       "\n",
       "       Bankruptcies     Tax Liens  Credit Score new  \n",
       "count  94872.000000  94872.000000      94872.000000  \n",
       "mean       0.117896      0.029050        710.568655  \n",
       "std        0.351542      0.256832         52.337610  \n",
       "min        0.000000      0.000000        301.050000  \n",
       "25%        0.000000      0.000000        703.000000  \n",
       "50%        0.000000      0.000000        721.000000  \n",
       "75%        0.000000      0.000000        737.000000  \n",
       "max        7.000000     15.000000        751.000000  "
      ]
     },
     "execution_count": 66,
     "metadata": {},
     "output_type": "execute_result"
    }
   ],
   "source": [
    "df.describe()"
   ]
  },
  {
   "cell_type": "markdown",
   "id": "bcf0df83",
   "metadata": {},
   "source": [
    "## EDA"
   ]
  },
  {
   "cell_type": "markdown",
   "id": "080adf0d",
   "metadata": {},
   "source": [
    "#Create the scatter plot for age and amount\n",
    "plt.scatter(df['Loan Status'],df['Credit Score new'], c='blue', alpha=0.5)\n",
    "plt.xlabel(\"Person Age\")\n",
    "plt.ylabel(\"Loan Amount\")\n",
    "plt.show()"
   ]
  },
  {
   "cell_type": "code",
   "execution_count": 67,
   "id": "d7aec8bb",
   "metadata": {},
   "outputs": [
    {
     "data": {
      "text/plain": [
       "<AxesSubplot:>"
      ]
     },
     "execution_count": 67,
     "metadata": {},
     "output_type": "execute_result"
    },
    {
     "data": {
      "image/png": "[encoded data removed]",
      "text/plain": [
       "<Figure size 432x288 with 2 Axes>"
      ]
     },
     "metadata": {
      "needs_background": "light"
     },
     "output_type": "display_data"
    }
   ],
   "source": [
    "corr=df.corr()\n",
    "sns.heatmap(df.corr())"
   ]
  },
  {
   "cell_type": "code",
   "execution_count": 68,
   "id": "9a76232e",
   "metadata": {},
   "outputs": [
    {
     "data": {
      "text/plain": [
       "Index(['Loan ID', 'Customer ID', 'Loan Status', 'Current Loan Amount', 'Term',\n",
       "       'Annual Income', 'Years in current job', 'Home Ownership', 'Purpose',\n",
       "       'Monthly Debt', 'Years of Credit History', 'Number of Open Accounts',\n",
       "       'Number of Credit Problems', 'Current Credit Balance',\n",
       "       'Maximum Open Credit', 'Bankruptcies', 'Tax Liens', 'Credit Score new'],\n",
       "      dtype='object')"
      ]
     },
     "execution_count": 68,
     "metadata": {},
     "output_type": "execute_result"
    }
   ],
   "source": [
    "df.columns"
   ]
  },
  {
   "cell_type": "code",
   "execution_count": 69,
   "id": "cd3a166a",
   "metadata": {},
   "outputs": [
    {
     "data": {
      "text/html": [
       "<div>\n",
       "<style scoped>\n",
       "    .dataframe tbody tr th:only-of-type {\n",
       "        vertical-align: middle;\n",
       "    }\n",
       "\n",
       "    .dataframe tbody tr th {\n",
       "        vertical-align: top;\n",
       "    }\n",
       "\n",
       "    .dataframe thead th {\n",
       "        text-align: right;\n",
       "    }\n",
       "</style>\n",
       "<table border=\"1\" class=\"dataframe\">\n",
       "  <thead>\n",
       "    <tr style=\"text-align: right;\">\n",
       "      <th>Loan Status</th>\n",
       "      <th>Charged Off</th>\n",
       "      <th>Fully Paid</th>\n",
       "      <th>All</th>\n",
       "    </tr>\n",
       "    <tr>\n",
       "      <th>Purpose</th>\n",
       "      <th></th>\n",
       "      <th></th>\n",
       "      <th></th>\n",
       "    </tr>\n",
       "  </thead>\n",
       "  <tbody>\n",
       "    <tr>\n",
       "      <th>Business Loan</th>\n",
       "      <td>379</td>\n",
       "      <td>1079</td>\n",
       "      <td>1458</td>\n",
       "    </tr>\n",
       "    <tr>\n",
       "      <th>Buy House</th>\n",
       "      <td>104</td>\n",
       "      <td>538</td>\n",
       "      <td>642</td>\n",
       "    </tr>\n",
       "    <tr>\n",
       "      <th>Buy a Car</th>\n",
       "      <td>154</td>\n",
       "      <td>1056</td>\n",
       "      <td>1210</td>\n",
       "    </tr>\n",
       "    <tr>\n",
       "      <th>Debt Consolidation</th>\n",
       "      <td>14137</td>\n",
       "      <td>60346</td>\n",
       "      <td>74483</td>\n",
       "    </tr>\n",
       "    <tr>\n",
       "      <th>Educational Expenses</th>\n",
       "      <td>13</td>\n",
       "      <td>75</td>\n",
       "      <td>88</td>\n",
       "    </tr>\n",
       "    <tr>\n",
       "      <th>Home Improvements</th>\n",
       "      <td>936</td>\n",
       "      <td>4638</td>\n",
       "      <td>5574</td>\n",
       "    </tr>\n",
       "    <tr>\n",
       "      <th>Medical Bills</th>\n",
       "      <td>220</td>\n",
       "      <td>842</td>\n",
       "      <td>1062</td>\n",
       "    </tr>\n",
       "    <tr>\n",
       "      <th>Other</th>\n",
       "      <td>490</td>\n",
       "      <td>2637</td>\n",
       "      <td>3127</td>\n",
       "    </tr>\n",
       "    <tr>\n",
       "      <th>Take a Trip</th>\n",
       "      <td>91</td>\n",
       "      <td>455</td>\n",
       "      <td>546</td>\n",
       "    </tr>\n",
       "    <tr>\n",
       "      <th>major_purchase</th>\n",
       "      <td>64</td>\n",
       "      <td>270</td>\n",
       "      <td>334</td>\n",
       "    </tr>\n",
       "    <tr>\n",
       "      <th>moving</th>\n",
       "      <td>34</td>\n",
       "      <td>107</td>\n",
       "      <td>141</td>\n",
       "    </tr>\n",
       "    <tr>\n",
       "      <th>other</th>\n",
       "      <td>1156</td>\n",
       "      <td>4578</td>\n",
       "      <td>5734</td>\n",
       "    </tr>\n",
       "    <tr>\n",
       "      <th>renewable_energy</th>\n",
       "      <td>3</td>\n",
       "      <td>6</td>\n",
       "      <td>9</td>\n",
       "    </tr>\n",
       "    <tr>\n",
       "      <th>small_business</th>\n",
       "      <td>95</td>\n",
       "      <td>162</td>\n",
       "      <td>257</td>\n",
       "    </tr>\n",
       "    <tr>\n",
       "      <th>vacation</th>\n",
       "      <td>24</td>\n",
       "      <td>72</td>\n",
       "      <td>96</td>\n",
       "    </tr>\n",
       "    <tr>\n",
       "      <th>wedding</th>\n",
       "      <td>21</td>\n",
       "      <td>90</td>\n",
       "      <td>111</td>\n",
       "    </tr>\n",
       "    <tr>\n",
       "      <th>All</th>\n",
       "      <td>17921</td>\n",
       "      <td>76951</td>\n",
       "      <td>94872</td>\n",
       "    </tr>\n",
       "  </tbody>\n",
       "</table>\n",
       "</div>"
      ],
      "text/plain": [
       "Loan Status           Charged Off  Fully Paid    All\n",
       "Purpose                                             \n",
       "Business Loan                 379        1079   1458\n",
       "Buy House                     104         538    642\n",
       "Buy a Car                     154        1056   1210\n",
       "Debt Consolidation          14137       60346  74483\n",
       "Educational Expenses           13          75     88\n",
       "Home Improvements             936        4638   5574\n",
       "Medical Bills                 220         842   1062\n",
       "Other                         490        2637   3127\n",
       "Take a Trip                    91         455    546\n",
       "major_purchase                 64         270    334\n",
       "moving                         34         107    141\n",
       "other                        1156        4578   5734\n",
       "renewable_energy                3           6      9\n",
       "small_business                 95         162    257\n",
       "vacation                       24          72     96\n",
       "wedding                        21          90    111\n",
       "All                         17921       76951  94872"
      ]
     },
     "execution_count": 69,
     "metadata": {},
     "output_type": "execute_result"
    }
   ],
   "source": [
    "# Create a cross table of the loan term and loan status\n",
    "pd.crosstab(df['Purpose'], df['Loan Status'], margins = True)\n"
   ]
  },
  {
   "cell_type": "code",
   "execution_count": 70,
   "id": "8dede8e6",
   "metadata": {},
   "outputs": [
    {
     "data": {
      "text/html": [
       "<div>\n",
       "<style scoped>\n",
       "    .dataframe tbody tr th:only-of-type {\n",
       "        vertical-align: middle;\n",
       "    }\n",
       "\n",
       "    .dataframe tbody tr th {\n",
       "        vertical-align: top;\n",
       "    }\n",
       "\n",
       "    .dataframe thead th {\n",
       "        text-align: right;\n",
       "    }\n",
       "</style>\n",
       "<table border=\"1\" class=\"dataframe\">\n",
       "  <thead>\n",
       "    <tr style=\"text-align: right;\">\n",
       "      <th>Home Ownership</th>\n",
       "      <th>HaveMortgage</th>\n",
       "      <th>Home Mortgage</th>\n",
       "      <th>Own Home</th>\n",
       "      <th>Rent</th>\n",
       "    </tr>\n",
       "    <tr>\n",
       "      <th>Loan Status</th>\n",
       "      <th></th>\n",
       "      <th></th>\n",
       "      <th></th>\n",
       "      <th></th>\n",
       "    </tr>\n",
       "  </thead>\n",
       "  <tbody>\n",
       "    <tr>\n",
       "      <th>Charged Off</th>\n",
       "      <td>24</td>\n",
       "      <td>7834</td>\n",
       "      <td>1651</td>\n",
       "      <td>8412</td>\n",
       "    </tr>\n",
       "    <tr>\n",
       "      <th>Fully Paid</th>\n",
       "      <td>182</td>\n",
       "      <td>38318</td>\n",
       "      <td>7041</td>\n",
       "      <td>31410</td>\n",
       "    </tr>\n",
       "  </tbody>\n",
       "</table>\n",
       "</div>"
      ],
      "text/plain": [
       "Home Ownership  HaveMortgage  Home Mortgage  Own Home   Rent\n",
       "Loan Status                                                 \n",
       "Charged Off               24           7834      1651   8412\n",
       "Fully Paid               182          38318      7041  31410"
      ]
     },
     "execution_count": 70,
     "metadata": {},
     "output_type": "execute_result"
    }
   ],
   "source": [
    "pd.crosstab(df['Loan Status'],df['Home Ownership'],\n",
    "            values=df['Years in current job'], aggfunc='count')"
   ]
  },
  {
   "cell_type": "code",
   "execution_count": 71,
   "id": "35ec0a21",
   "metadata": {},
   "outputs": [
    {
     "data": {
      "image/png": "[encoded data removed]",
      "text/plain": [
       "<Figure size 432x288 with 1 Axes>"
      ]
     },
     "metadata": {
      "needs_background": "light"
     },
     "output_type": "display_data"
    }
   ],
   "source": [
    "# Create a histogram of employment length\n",
    "n, bins, patches = plt.hist(df['Years in current job'], bins='auto', color='blue')\n",
    "plt.xlabel(\"Person Employment Length\")\n",
    "plt.show()"
   ]
  },
  {
   "cell_type": "code",
   "execution_count": 72,
   "id": "9afe38a3",
   "metadata": {},
   "outputs": [
    {
     "data": {
      "text/plain": [
       "(94872, 18)"
      ]
     },
     "execution_count": 72,
     "metadata": {},
     "output_type": "execute_result"
    }
   ],
   "source": [
    "df.shape"
   ]
  },
  {
   "cell_type": "code",
   "execution_count": 73,
   "id": "8030e1ef",
   "metadata": {},
   "outputs": [],
   "source": [
    "df.drop(['Loan ID', 'Customer ID'], axis=1, inplace= True )"
   ]
  },
  {
   "cell_type": "code",
   "execution_count": 74,
   "id": "4dfd1f1e",
   "metadata": {},
   "outputs": [],
   "source": [
    "#df.to_csv('/Users/dehilinesma/Downloads/Final Project- Risk Analysis/clean_data.csv')"
   ]
  },
  {
   "cell_type": "markdown",
   "id": "9a81d5bf",
   "metadata": {},
   "source": [
    "## Encoding "
   ]
  },
  {
   "cell_type": "code",
   "execution_count": 75,
   "id": "3fb285fe",
   "metadata": {},
   "outputs": [
    {
     "data": {
      "text/html": [
       "<div>\n",
       "<style scoped>\n",
       "    .dataframe tbody tr th:only-of-type {\n",
       "        vertical-align: middle;\n",
       "    }\n",
       "\n",
       "    .dataframe tbody tr th {\n",
       "        vertical-align: top;\n",
       "    }\n",
       "\n",
       "    .dataframe thead th {\n",
       "        text-align: right;\n",
       "    }\n",
       "</style>\n",
       "<table border=\"1\" class=\"dataframe\">\n",
       "  <thead>\n",
       "    <tr style=\"text-align: right;\">\n",
       "      <th></th>\n",
       "      <th>Loan Status</th>\n",
       "      <th>Current Loan Amount</th>\n",
       "      <th>Term</th>\n",
       "      <th>Annual Income</th>\n",
       "      <th>Years in current job</th>\n",
       "      <th>Home Ownership</th>\n",
       "      <th>Purpose</th>\n",
       "      <th>Monthly Debt</th>\n",
       "      <th>Years of Credit History</th>\n",
       "      <th>Number of Open Accounts</th>\n",
       "      <th>Number of Credit Problems</th>\n",
       "      <th>Current Credit Balance</th>\n",
       "      <th>Maximum Open Credit</th>\n",
       "      <th>Bankruptcies</th>\n",
       "      <th>Tax Liens</th>\n",
       "      <th>Credit Score new</th>\n",
       "    </tr>\n",
       "  </thead>\n",
       "  <tbody>\n",
       "    <tr>\n",
       "      <th>0</th>\n",
       "      <td>0</td>\n",
       "      <td>445412.0</td>\n",
       "      <td>Short Term</td>\n",
       "      <td>1167493.0</td>\n",
       "      <td>8.0</td>\n",
       "      <td>Home Mortgage</td>\n",
       "      <td>Home Improvements</td>\n",
       "      <td>5214.74</td>\n",
       "      <td>17.2</td>\n",
       "      <td>6.0</td>\n",
       "      <td>1.0</td>\n",
       "      <td>228190.0</td>\n",
       "      <td>416746.0</td>\n",
       "      <td>1.0</td>\n",
       "      <td>0.0</td>\n",
       "      <td>709.00</td>\n",
       "    </tr>\n",
       "    <tr>\n",
       "      <th>1</th>\n",
       "      <td>0</td>\n",
       "      <td>262328.0</td>\n",
       "      <td>Short Term</td>\n",
       "      <td>1699692.5</td>\n",
       "      <td>10.0</td>\n",
       "      <td>Home Mortgage</td>\n",
       "      <td>Debt Consolidation</td>\n",
       "      <td>33295.98</td>\n",
       "      <td>21.1</td>\n",
       "      <td>35.0</td>\n",
       "      <td>0.0</td>\n",
       "      <td>229976.0</td>\n",
       "      <td>850784.0</td>\n",
       "      <td>0.0</td>\n",
       "      <td>0.0</td>\n",
       "      <td>725.00</td>\n",
       "    </tr>\n",
       "    <tr>\n",
       "      <th>2</th>\n",
       "      <td>0</td>\n",
       "      <td>0.0</td>\n",
       "      <td>Short Term</td>\n",
       "      <td>2231892.0</td>\n",
       "      <td>8.0</td>\n",
       "      <td>Own Home</td>\n",
       "      <td>Debt Consolidation</td>\n",
       "      <td>29200.53</td>\n",
       "      <td>14.9</td>\n",
       "      <td>18.0</td>\n",
       "      <td>1.0</td>\n",
       "      <td>297996.0</td>\n",
       "      <td>750090.0</td>\n",
       "      <td>0.0</td>\n",
       "      <td>0.0</td>\n",
       "      <td>741.00</td>\n",
       "    </tr>\n",
       "    <tr>\n",
       "      <th>3</th>\n",
       "      <td>0</td>\n",
       "      <td>347666.0</td>\n",
       "      <td>Long Term</td>\n",
       "      <td>806949.0</td>\n",
       "      <td>3.0</td>\n",
       "      <td>Own Home</td>\n",
       "      <td>Debt Consolidation</td>\n",
       "      <td>8741.90</td>\n",
       "      <td>12.0</td>\n",
       "      <td>9.0</td>\n",
       "      <td>0.0</td>\n",
       "      <td>256329.0</td>\n",
       "      <td>386958.0</td>\n",
       "      <td>0.0</td>\n",
       "      <td>0.0</td>\n",
       "      <td>721.00</td>\n",
       "    </tr>\n",
       "    <tr>\n",
       "      <th>4</th>\n",
       "      <td>0</td>\n",
       "      <td>176220.0</td>\n",
       "      <td>Short Term</td>\n",
       "      <td>995571.5</td>\n",
       "      <td>5.0</td>\n",
       "      <td>Rent</td>\n",
       "      <td>Debt Consolidation</td>\n",
       "      <td>20639.70</td>\n",
       "      <td>6.1</td>\n",
       "      <td>15.0</td>\n",
       "      <td>0.0</td>\n",
       "      <td>253460.0</td>\n",
       "      <td>427174.0</td>\n",
       "      <td>0.0</td>\n",
       "      <td>0.0</td>\n",
       "      <td>360.55</td>\n",
       "    </tr>\n",
       "    <tr>\n",
       "      <th>...</th>\n",
       "      <td>...</td>\n",
       "      <td>...</td>\n",
       "      <td>...</td>\n",
       "      <td>...</td>\n",
       "      <td>...</td>\n",
       "      <td>...</td>\n",
       "      <td>...</td>\n",
       "      <td>...</td>\n",
       "      <td>...</td>\n",
       "      <td>...</td>\n",
       "      <td>...</td>\n",
       "      <td>...</td>\n",
       "      <td>...</td>\n",
       "      <td>...</td>\n",
       "      <td>...</td>\n",
       "      <td>...</td>\n",
       "    </tr>\n",
       "    <tr>\n",
       "      <th>99995</th>\n",
       "      <td>0</td>\n",
       "      <td>147070.0</td>\n",
       "      <td>Short Term</td>\n",
       "      <td>475437.0</td>\n",
       "      <td>7.0</td>\n",
       "      <td>Own Home</td>\n",
       "      <td>other</td>\n",
       "      <td>2202.86</td>\n",
       "      <td>22.3</td>\n",
       "      <td>5.0</td>\n",
       "      <td>0.0</td>\n",
       "      <td>47766.0</td>\n",
       "      <td>658548.0</td>\n",
       "      <td>0.0</td>\n",
       "      <td>0.0</td>\n",
       "      <td>725.00</td>\n",
       "    </tr>\n",
       "    <tr>\n",
       "      <th>99996</th>\n",
       "      <td>0</td>\n",
       "      <td>0.0</td>\n",
       "      <td>Short Term</td>\n",
       "      <td>1289416.0</td>\n",
       "      <td>1.0</td>\n",
       "      <td>Rent</td>\n",
       "      <td>Debt Consolidation</td>\n",
       "      <td>13109.05</td>\n",
       "      <td>9.4</td>\n",
       "      <td>22.0</td>\n",
       "      <td>0.0</td>\n",
       "      <td>153045.0</td>\n",
       "      <td>509234.0</td>\n",
       "      <td>0.0</td>\n",
       "      <td>0.0</td>\n",
       "      <td>732.00</td>\n",
       "    </tr>\n",
       "    <tr>\n",
       "      <th>99997</th>\n",
       "      <td>0</td>\n",
       "      <td>103136.0</td>\n",
       "      <td>Short Term</td>\n",
       "      <td>1150545.0</td>\n",
       "      <td>6.0</td>\n",
       "      <td>Rent</td>\n",
       "      <td>Debt Consolidation</td>\n",
       "      <td>7315.57</td>\n",
       "      <td>18.8</td>\n",
       "      <td>12.0</td>\n",
       "      <td>1.0</td>\n",
       "      <td>109554.0</td>\n",
       "      <td>537548.0</td>\n",
       "      <td>1.0</td>\n",
       "      <td>0.0</td>\n",
       "      <td>742.00</td>\n",
       "    </tr>\n",
       "    <tr>\n",
       "      <th>99998</th>\n",
       "      <td>0</td>\n",
       "      <td>530332.0</td>\n",
       "      <td>Short Term</td>\n",
       "      <td>1717524.0</td>\n",
       "      <td>9.0</td>\n",
       "      <td>Rent</td>\n",
       "      <td>Debt Consolidation</td>\n",
       "      <td>9890.07</td>\n",
       "      <td>15.0</td>\n",
       "      <td>8.0</td>\n",
       "      <td>0.0</td>\n",
       "      <td>404225.0</td>\n",
       "      <td>738254.0</td>\n",
       "      <td>0.0</td>\n",
       "      <td>0.0</td>\n",
       "      <td>746.00</td>\n",
       "    </tr>\n",
       "    <tr>\n",
       "      <th>99999</th>\n",
       "      <td>0</td>\n",
       "      <td>0.0</td>\n",
       "      <td>Short Term</td>\n",
       "      <td>935180.0</td>\n",
       "      <td>9.0</td>\n",
       "      <td>Own Home</td>\n",
       "      <td>Debt Consolidation</td>\n",
       "      <td>9118.10</td>\n",
       "      <td>13.0</td>\n",
       "      <td>4.0</td>\n",
       "      <td>1.0</td>\n",
       "      <td>45600.0</td>\n",
       "      <td>91014.0</td>\n",
       "      <td>1.0</td>\n",
       "      <td>0.0</td>\n",
       "      <td>743.00</td>\n",
       "    </tr>\n",
       "  </tbody>\n",
       "</table>\n",
       "<p>94872 rows × 16 columns</p>\n",
       "</div>"
      ],
      "text/plain": [
       "       Loan Status  Current Loan Amount        Term  Annual Income  \\\n",
       "0                0             445412.0  Short Term      1167493.0   \n",
       "1                0             262328.0  Short Term      1699692.5   \n",
       "2                0                  0.0  Short Term      2231892.0   \n",
       "3                0             347666.0   Long Term       806949.0   \n",
       "4                0             176220.0  Short Term       995571.5   \n",
       "...            ...                  ...         ...            ...   \n",
       "99995            0             147070.0  Short Term       475437.0   \n",
       "99996            0                  0.0  Short Term      1289416.0   \n",
       "99997            0             103136.0  Short Term      1150545.0   \n",
       "99998            0             530332.0  Short Term      1717524.0   \n",
       "99999            0                  0.0  Short Term       935180.0   \n",
       "\n",
       "       Years in current job Home Ownership             Purpose  Monthly Debt  \\\n",
       "0                       8.0  Home Mortgage   Home Improvements       5214.74   \n",
       "1                      10.0  Home Mortgage  Debt Consolidation      33295.98   \n",
       "2                       8.0       Own Home  Debt Consolidation      29200.53   \n",
       "3                       3.0       Own Home  Debt Consolidation       8741.90   \n",
       "4                       5.0           Rent  Debt Consolidation      20639.70   \n",
       "...                     ...            ...                 ...           ...   \n",
       "99995                   7.0       Own Home               other       2202.86   \n",
       "99996                   1.0           Rent  Debt Consolidation      13109.05   \n",
       "99997                   6.0           Rent  Debt Consolidation       7315.57   \n",
       "99998                   9.0           Rent  Debt Consolidation       9890.07   \n",
       "99999                   9.0       Own Home  Debt Consolidation       9118.10   \n",
       "\n",
       "       Years of Credit History  Number of Open Accounts  \\\n",
       "0                         17.2                      6.0   \n",
       "1                         21.1                     35.0   \n",
       "2                         14.9                     18.0   \n",
       "3                         12.0                      9.0   \n",
       "4                          6.1                     15.0   \n",
       "...                        ...                      ...   \n",
       "99995                     22.3                      5.0   \n",
       "99996                      9.4                     22.0   \n",
       "99997                     18.8                     12.0   \n",
       "99998                     15.0                      8.0   \n",
       "99999                     13.0                      4.0   \n",
       "\n",
       "       Number of Credit Problems  Current Credit Balance  Maximum Open Credit  \\\n",
       "0                            1.0                228190.0             416746.0   \n",
       "1                            0.0                229976.0             850784.0   \n",
       "2                            1.0                297996.0             750090.0   \n",
       "3                            0.0                256329.0             386958.0   \n",
       "4                            0.0                253460.0             427174.0   \n",
       "...                          ...                     ...                  ...   \n",
       "99995                        0.0                 47766.0             658548.0   \n",
       "99996                        0.0                153045.0             509234.0   \n",
       "99997                        1.0                109554.0             537548.0   \n",
       "99998                        0.0                404225.0             738254.0   \n",
       "99999                        1.0                 45600.0              91014.0   \n",
       "\n",
       "       Bankruptcies  Tax Liens  Credit Score new  \n",
       "0               1.0        0.0            709.00  \n",
       "1               0.0        0.0            725.00  \n",
       "2               0.0        0.0            741.00  \n",
       "3               0.0        0.0            721.00  \n",
       "4               0.0        0.0            360.55  \n",
       "...             ...        ...               ...  \n",
       "99995           0.0        0.0            725.00  \n",
       "99996           0.0        0.0            732.00  \n",
       "99997           1.0        0.0            742.00  \n",
       "99998           0.0        0.0            746.00  \n",
       "99999           1.0        0.0            743.00  \n",
       "\n",
       "[94872 rows x 16 columns]"
      ]
     },
     "execution_count": 75,
     "metadata": {},
     "output_type": "execute_result"
    }
   ],
   "source": [
    "target_labels = {'Charged Off': 1, 'Fully Paid': 0 }\n",
    "df['Loan Status'] = df['Loan Status'].apply(lambda x: target_labels[x])\n",
    "\n",
    "df"
   ]
  },
  {
   "cell_type": "code",
   "execution_count": 76,
   "id": "0a68bfa9",
   "metadata": {},
   "outputs": [
    {
     "data": {
      "text/plain": [
       "Index(['Term', 'Home Ownership', 'Purpose'], dtype='object')"
      ]
     },
     "execution_count": 76,
     "metadata": {},
     "output_type": "execute_result"
    }
   ],
   "source": [
    "#categorical data \n",
    "cat=df.select_dtypes(include=['object'])\n",
    "cat.columns"
   ]
  },
  {
   "cell_type": "code",
   "execution_count": 77,
   "id": "4eb9846f",
   "metadata": {},
   "outputs": [
    {
     "name": "stdout",
     "output_type": "stream",
     "text": [
      "{'Long Term': 0, 'Short Term': 1}\n",
      "{'HaveMortgage': 0, 'Home Mortgage': 1, 'Own Home': 2, 'Rent': 3}\n",
      "{'Business Loan': 0, 'Buy House': 1, 'Buy a Car': 2, 'Debt Consolidation': 3, 'Educational Expenses': 4, 'Home Improvements': 5, 'Medical Bills': 6, 'Other': 7, 'Take a Trip': 8, 'major_purchase': 9, 'moving': 10, 'other': 11, 'renewable_energy': 12, 'small_business': 13, 'vacation': 14, 'wedding': 15}\n"
     ]
    },
    {
     "data": {
      "text/html": [
       "<div>\n",
       "<style scoped>\n",
       "    .dataframe tbody tr th:only-of-type {\n",
       "        vertical-align: middle;\n",
       "    }\n",
       "\n",
       "    .dataframe tbody tr th {\n",
       "        vertical-align: top;\n",
       "    }\n",
       "\n",
       "    .dataframe thead th {\n",
       "        text-align: right;\n",
       "    }\n",
       "</style>\n",
       "<table border=\"1\" class=\"dataframe\">\n",
       "  <thead>\n",
       "    <tr style=\"text-align: right;\">\n",
       "      <th></th>\n",
       "      <th>Loan Status</th>\n",
       "      <th>Current Loan Amount</th>\n",
       "      <th>Term</th>\n",
       "      <th>Annual Income</th>\n",
       "      <th>Years in current job</th>\n",
       "      <th>Home Ownership</th>\n",
       "      <th>Purpose</th>\n",
       "      <th>Monthly Debt</th>\n",
       "      <th>Years of Credit History</th>\n",
       "      <th>Number of Open Accounts</th>\n",
       "      <th>Number of Credit Problems</th>\n",
       "      <th>Current Credit Balance</th>\n",
       "      <th>Maximum Open Credit</th>\n",
       "      <th>Bankruptcies</th>\n",
       "      <th>Tax Liens</th>\n",
       "      <th>Credit Score new</th>\n",
       "    </tr>\n",
       "  </thead>\n",
       "  <tbody>\n",
       "    <tr>\n",
       "      <th>0</th>\n",
       "      <td>0</td>\n",
       "      <td>445412.0</td>\n",
       "      <td>1</td>\n",
       "      <td>1167493.0</td>\n",
       "      <td>8.0</td>\n",
       "      <td>1</td>\n",
       "      <td>5</td>\n",
       "      <td>5214.74</td>\n",
       "      <td>17.2</td>\n",
       "      <td>6.0</td>\n",
       "      <td>1.0</td>\n",
       "      <td>228190.0</td>\n",
       "      <td>416746.0</td>\n",
       "      <td>1.0</td>\n",
       "      <td>0.0</td>\n",
       "      <td>709.00</td>\n",
       "    </tr>\n",
       "    <tr>\n",
       "      <th>1</th>\n",
       "      <td>0</td>\n",
       "      <td>262328.0</td>\n",
       "      <td>1</td>\n",
       "      <td>1699692.5</td>\n",
       "      <td>10.0</td>\n",
       "      <td>1</td>\n",
       "      <td>3</td>\n",
       "      <td>33295.98</td>\n",
       "      <td>21.1</td>\n",
       "      <td>35.0</td>\n",
       "      <td>0.0</td>\n",
       "      <td>229976.0</td>\n",
       "      <td>850784.0</td>\n",
       "      <td>0.0</td>\n",
       "      <td>0.0</td>\n",
       "      <td>725.00</td>\n",
       "    </tr>\n",
       "    <tr>\n",
       "      <th>2</th>\n",
       "      <td>0</td>\n",
       "      <td>0.0</td>\n",
       "      <td>1</td>\n",
       "      <td>2231892.0</td>\n",
       "      <td>8.0</td>\n",
       "      <td>2</td>\n",
       "      <td>3</td>\n",
       "      <td>29200.53</td>\n",
       "      <td>14.9</td>\n",
       "      <td>18.0</td>\n",
       "      <td>1.0</td>\n",
       "      <td>297996.0</td>\n",
       "      <td>750090.0</td>\n",
       "      <td>0.0</td>\n",
       "      <td>0.0</td>\n",
       "      <td>741.00</td>\n",
       "    </tr>\n",
       "    <tr>\n",
       "      <th>3</th>\n",
       "      <td>0</td>\n",
       "      <td>347666.0</td>\n",
       "      <td>0</td>\n",
       "      <td>806949.0</td>\n",
       "      <td>3.0</td>\n",
       "      <td>2</td>\n",
       "      <td>3</td>\n",
       "      <td>8741.90</td>\n",
       "      <td>12.0</td>\n",
       "      <td>9.0</td>\n",
       "      <td>0.0</td>\n",
       "      <td>256329.0</td>\n",
       "      <td>386958.0</td>\n",
       "      <td>0.0</td>\n",
       "      <td>0.0</td>\n",
       "      <td>721.00</td>\n",
       "    </tr>\n",
       "    <tr>\n",
       "      <th>4</th>\n",
       "      <td>0</td>\n",
       "      <td>176220.0</td>\n",
       "      <td>1</td>\n",
       "      <td>995571.5</td>\n",
       "      <td>5.0</td>\n",
       "      <td>3</td>\n",
       "      <td>3</td>\n",
       "      <td>20639.70</td>\n",
       "      <td>6.1</td>\n",
       "      <td>15.0</td>\n",
       "      <td>0.0</td>\n",
       "      <td>253460.0</td>\n",
       "      <td>427174.0</td>\n",
       "      <td>0.0</td>\n",
       "      <td>0.0</td>\n",
       "      <td>360.55</td>\n",
       "    </tr>\n",
       "    <tr>\n",
       "      <th>...</th>\n",
       "      <td>...</td>\n",
       "      <td>...</td>\n",
       "      <td>...</td>\n",
       "      <td>...</td>\n",
       "      <td>...</td>\n",
       "      <td>...</td>\n",
       "      <td>...</td>\n",
       "      <td>...</td>\n",
       "      <td>...</td>\n",
       "      <td>...</td>\n",
       "      <td>...</td>\n",
       "      <td>...</td>\n",
       "      <td>...</td>\n",
       "      <td>...</td>\n",
       "      <td>...</td>\n",
       "      <td>...</td>\n",
       "    </tr>\n",
       "    <tr>\n",
       "      <th>99995</th>\n",
       "      <td>0</td>\n",
       "      <td>147070.0</td>\n",
       "      <td>1</td>\n",
       "      <td>475437.0</td>\n",
       "      <td>7.0</td>\n",
       "      <td>2</td>\n",
       "      <td>11</td>\n",
       "      <td>2202.86</td>\n",
       "      <td>22.3</td>\n",
       "      <td>5.0</td>\n",
       "      <td>0.0</td>\n",
       "      <td>47766.0</td>\n",
       "      <td>658548.0</td>\n",
       "      <td>0.0</td>\n",
       "      <td>0.0</td>\n",
       "      <td>725.00</td>\n",
       "    </tr>\n",
       "    <tr>\n",
       "      <th>99996</th>\n",
       "      <td>0</td>\n",
       "      <td>0.0</td>\n",
       "      <td>1</td>\n",
       "      <td>1289416.0</td>\n",
       "      <td>1.0</td>\n",
       "      <td>3</td>\n",
       "      <td>3</td>\n",
       "      <td>13109.05</td>\n",
       "      <td>9.4</td>\n",
       "      <td>22.0</td>\n",
       "      <td>0.0</td>\n",
       "      <td>153045.0</td>\n",
       "      <td>509234.0</td>\n",
       "      <td>0.0</td>\n",
       "      <td>0.0</td>\n",
       "      <td>732.00</td>\n",
       "    </tr>\n",
       "    <tr>\n",
       "      <th>99997</th>\n",
       "      <td>0</td>\n",
       "      <td>103136.0</td>\n",
       "      <td>1</td>\n",
       "      <td>1150545.0</td>\n",
       "      <td>6.0</td>\n",
       "      <td>3</td>\n",
       "      <td>3</td>\n",
       "      <td>7315.57</td>\n",
       "      <td>18.8</td>\n",
       "      <td>12.0</td>\n",
       "      <td>1.0</td>\n",
       "      <td>109554.0</td>\n",
       "      <td>537548.0</td>\n",
       "      <td>1.0</td>\n",
       "      <td>0.0</td>\n",
       "      <td>742.00</td>\n",
       "    </tr>\n",
       "    <tr>\n",
       "      <th>99998</th>\n",
       "      <td>0</td>\n",
       "      <td>530332.0</td>\n",
       "      <td>1</td>\n",
       "      <td>1717524.0</td>\n",
       "      <td>9.0</td>\n",
       "      <td>3</td>\n",
       "      <td>3</td>\n",
       "      <td>9890.07</td>\n",
       "      <td>15.0</td>\n",
       "      <td>8.0</td>\n",
       "      <td>0.0</td>\n",
       "      <td>404225.0</td>\n",
       "      <td>738254.0</td>\n",
       "      <td>0.0</td>\n",
       "      <td>0.0</td>\n",
       "      <td>746.00</td>\n",
       "    </tr>\n",
       "    <tr>\n",
       "      <th>99999</th>\n",
       "      <td>0</td>\n",
       "      <td>0.0</td>\n",
       "      <td>1</td>\n",
       "      <td>935180.0</td>\n",
       "      <td>9.0</td>\n",
       "      <td>2</td>\n",
       "      <td>3</td>\n",
       "      <td>9118.10</td>\n",
       "      <td>13.0</td>\n",
       "      <td>4.0</td>\n",
       "      <td>1.0</td>\n",
       "      <td>45600.0</td>\n",
       "      <td>91014.0</td>\n",
       "      <td>1.0</td>\n",
       "      <td>0.0</td>\n",
       "      <td>743.00</td>\n",
       "    </tr>\n",
       "  </tbody>\n",
       "</table>\n",
       "<p>94872 rows × 16 columns</p>\n",
       "</div>"
      ],
      "text/plain": [
       "       Loan Status  Current Loan Amount  Term  Annual Income  \\\n",
       "0                0             445412.0     1      1167493.0   \n",
       "1                0             262328.0     1      1699692.5   \n",
       "2                0                  0.0     1      2231892.0   \n",
       "3                0             347666.0     0       806949.0   \n",
       "4                0             176220.0     1       995571.5   \n",
       "...            ...                  ...   ...            ...   \n",
       "99995            0             147070.0     1       475437.0   \n",
       "99996            0                  0.0     1      1289416.0   \n",
       "99997            0             103136.0     1      1150545.0   \n",
       "99998            0             530332.0     1      1717524.0   \n",
       "99999            0                  0.0     1       935180.0   \n",
       "\n",
       "       Years in current job  Home Ownership  Purpose  Monthly Debt  \\\n",
       "0                       8.0               1        5       5214.74   \n",
       "1                      10.0               1        3      33295.98   \n",
       "2                       8.0               2        3      29200.53   \n",
       "3                       3.0               2        3       8741.90   \n",
       "4                       5.0               3        3      20639.70   \n",
       "...                     ...             ...      ...           ...   \n",
       "99995                   7.0               2       11       2202.86   \n",
       "99996                   1.0               3        3      13109.05   \n",
       "99997                   6.0               3        3       7315.57   \n",
       "99998                   9.0               3        3       9890.07   \n",
       "99999                   9.0               2        3       9118.10   \n",
       "\n",
       "       Years of Credit History  Number of Open Accounts  \\\n",
       "0                         17.2                      6.0   \n",
       "1                         21.1                     35.0   \n",
       "2                         14.9                     18.0   \n",
       "3                         12.0                      9.0   \n",
       "4                          6.1                     15.0   \n",
       "...                        ...                      ...   \n",
       "99995                     22.3                      5.0   \n",
       "99996                      9.4                     22.0   \n",
       "99997                     18.8                     12.0   \n",
       "99998                     15.0                      8.0   \n",
       "99999                     13.0                      4.0   \n",
       "\n",
       "       Number of Credit Problems  Current Credit Balance  Maximum Open Credit  \\\n",
       "0                            1.0                228190.0             416746.0   \n",
       "1                            0.0                229976.0             850784.0   \n",
       "2                            1.0                297996.0             750090.0   \n",
       "3                            0.0                256329.0             386958.0   \n",
       "4                            0.0                253460.0             427174.0   \n",
       "...                          ...                     ...                  ...   \n",
       "99995                        0.0                 47766.0             658548.0   \n",
       "99996                        0.0                153045.0             509234.0   \n",
       "99997                        1.0                109554.0             537548.0   \n",
       "99998                        0.0                404225.0             738254.0   \n",
       "99999                        1.0                 45600.0              91014.0   \n",
       "\n",
       "       Bankruptcies  Tax Liens  Credit Score new  \n",
       "0               1.0        0.0            709.00  \n",
       "1               0.0        0.0            725.00  \n",
       "2               0.0        0.0            741.00  \n",
       "3               0.0        0.0            721.00  \n",
       "4               0.0        0.0            360.55  \n",
       "...             ...        ...               ...  \n",
       "99995           0.0        0.0            725.00  \n",
       "99996           0.0        0.0            732.00  \n",
       "99997           1.0        0.0            742.00  \n",
       "99998           0.0        0.0            746.00  \n",
       "99999           1.0        0.0            743.00  \n",
       "\n",
       "[94872 rows x 16 columns]"
      ]
     },
     "execution_count": 77,
     "metadata": {},
     "output_type": "execute_result"
    }
   ],
   "source": [
    "lable = LabelEncoder()\n",
    "\n",
    "for x in cat:\n",
    "    # to have a dict of class & encode \n",
    "    lable.fit(df[x])\n",
    "    label_name_mapping = dict(zip(lable.classes_, lable.transform(lable.classes_)))\n",
    "    print(label_name_mapping)\n",
    "    df[x]=lable.fit_transform(df[x])\n",
    "\n",
    "df"
   ]
  },
  {
   "cell_type": "code",
   "execution_count": 78,
   "id": "b20def86",
   "metadata": {},
   "outputs": [
    {
     "data": {
      "text/plain": [
       "Index(['Current Loan Amount', 'Annual Income', 'Years in current job',\n",
       "       'Monthly Debt', 'Years of Credit History', 'Number of Open Accounts',\n",
       "       'Number of Credit Problems', 'Current Credit Balance',\n",
       "       'Maximum Open Credit', 'Bankruptcies', 'Tax Liens', 'Credit Score new'],\n",
       "      dtype='object')"
      ]
     },
     "execution_count": 78,
     "metadata": {},
     "output_type": "execute_result"
    }
   ],
   "source": [
    "num=df.select_dtypes(include=['float64'])\n",
    "num.columns"
   ]
  },
  {
   "cell_type": "code",
   "execution_count": 79,
   "id": "a8bfc61f",
   "metadata": {},
   "outputs": [
    {
     "data": {
      "text/plain": [
       "Loan Status                  0\n",
       "Current Loan Amount          0\n",
       "Term                         0\n",
       "Annual Income                0\n",
       "Years in current job         0\n",
       "Home Ownership               0\n",
       "Purpose                      0\n",
       "Monthly Debt                 0\n",
       "Years of Credit History      0\n",
       "Number of Open Accounts      0\n",
       "Number of Credit Problems    0\n",
       "Current Credit Balance       0\n",
       "Maximum Open Credit          0\n",
       "Bankruptcies                 0\n",
       "Tax Liens                    0\n",
       "Credit Score new             0\n",
       "dtype: int64"
      ]
     },
     "execution_count": 79,
     "metadata": {},
     "output_type": "execute_result"
    }
   ],
   "source": [
    "df.isna().sum()"
   ]
  },
  {
   "cell_type": "markdown",
   "id": "de9f2241",
   "metadata": {},
   "source": [
    "### Creating a correlation Matrix "
   ]
  },
  {
   "cell_type": "code",
   "execution_count": 80,
   "id": "5781f9bd",
   "metadata": {},
   "outputs": [
    {
     "name": "stdout",
     "output_type": "stream",
     "text": [
      "\n",
      "Top Absolute Correlations\n",
      "Number of Credit Problems  Bankruptcies               0.753661\n",
      "                           Tax Liens                  0.577648\n",
      "Monthly Debt               Current Credit Balance     0.491139\n",
      "Annual Income              Monthly Debt               0.483560\n",
      "Monthly Debt               Number of Open Accounts    0.414215\n",
      "dtype: float64\n"
     ]
    }
   ],
   "source": [
    "# Create correlation matrix\n",
    "\n",
    "def get_redundant_pairs():\n",
    "    '''Get diagonal and lower triangular pairs of correlation matrix'''\n",
    "    pairs_to_drop = set()\n",
    "    cols = df.columns\n",
    "    for i in range(0, df.shape[1]):\n",
    "        for j in range(0, i+1):\n",
    "            pairs_to_drop.add((cols[i], cols[j]))\n",
    "    return pairs_to_drop\n",
    "\n",
    "def get_top_abs_correlations():\n",
    "    au_corr = df.corr().abs().unstack()\n",
    "    labels_to_drop = get_redundant_pairs()\n",
    "    au_corr = au_corr.drop(labels=labels_to_drop).sort_values(ascending=False)\n",
    "    return au_corr[0:5]\n",
    "\n",
    "print(\"\\nTop Absolute Correlations\")\n",
    "print(get_top_abs_correlations())"
   ]
  },
  {
   "cell_type": "code",
   "execution_count": 81,
   "id": "ef30897c",
   "metadata": {},
   "outputs": [
    {
     "data": {
      "text/plain": [
       "Loan Status                    int64\n",
       "Current Loan Amount          float64\n",
       "Term                           int64\n",
       "Annual Income                float64\n",
       "Years in current job         float64\n",
       "Home Ownership                 int64\n",
       "Purpose                        int64\n",
       "Monthly Debt                 float64\n",
       "Years of Credit History      float64\n",
       "Number of Open Accounts      float64\n",
       "Number of Credit Problems    float64\n",
       "Current Credit Balance       float64\n",
       "Maximum Open Credit          float64\n",
       "Bankruptcies                 float64\n",
       "Tax Liens                    float64\n",
       "Credit Score new             float64\n",
       "dtype: object"
      ]
     },
     "execution_count": 81,
     "metadata": {},
     "output_type": "execute_result"
    }
   ],
   "source": [
    "df.dtypes"
   ]
  },
  {
   "cell_type": "code",
   "execution_count": 82,
   "id": "18707d44",
   "metadata": {
    "scrolled": true
   },
   "outputs": [
    {
     "data": {
      "text/plain": [
       "Loan Status                  0\n",
       "Current Loan Amount          0\n",
       "Term                         0\n",
       "Annual Income                0\n",
       "Years in current job         0\n",
       "Home Ownership               0\n",
       "Purpose                      0\n",
       "Monthly Debt                 0\n",
       "Years of Credit History      0\n",
       "Number of Open Accounts      0\n",
       "Number of Credit Problems    0\n",
       "Current Credit Balance       0\n",
       "Maximum Open Credit          0\n",
       "Bankruptcies                 0\n",
       "Tax Liens                    0\n",
       "Credit Score new             0\n",
       "dtype: int64"
      ]
     },
     "execution_count": 82,
     "metadata": {},
     "output_type": "execute_result"
    }
   ],
   "source": [
    "df.isna().sum()"
   ]
  },
  {
   "cell_type": "markdown",
   "id": "ea44dd3b",
   "metadata": {},
   "source": [
    "## Balance the data¶"
   ]
  },
  {
   "cell_type": "code",
   "execution_count": 83,
   "id": "f9173e89",
   "metadata": {},
   "outputs": [
    {
     "data": {
      "text/plain": [
       "0    76951\n",
       "1    17921\n",
       "Name: Loan Status, dtype: int64"
      ]
     },
     "execution_count": 83,
     "metadata": {},
     "output_type": "execute_result"
    }
   ],
   "source": [
    "df['Loan Status'].value_counts()"
   ]
  },
  {
   "cell_type": "code",
   "execution_count": 84,
   "id": "ac9099d5",
   "metadata": {},
   "outputs": [
    {
     "data": {
      "text/html": [
       "<div>\n",
       "<style scoped>\n",
       "    .dataframe tbody tr th:only-of-type {\n",
       "        vertical-align: middle;\n",
       "    }\n",
       "\n",
       "    .dataframe tbody tr th {\n",
       "        vertical-align: top;\n",
       "    }\n",
       "\n",
       "    .dataframe thead th {\n",
       "        text-align: right;\n",
       "    }\n",
       "</style>\n",
       "<table border=\"1\" class=\"dataframe\">\n",
       "  <thead>\n",
       "    <tr style=\"text-align: right;\">\n",
       "      <th></th>\n",
       "      <th>Loan Status</th>\n",
       "      <th>Current Loan Amount</th>\n",
       "      <th>Term</th>\n",
       "      <th>Annual Income</th>\n",
       "      <th>Years in current job</th>\n",
       "      <th>Home Ownership</th>\n",
       "      <th>Purpose</th>\n",
       "      <th>Monthly Debt</th>\n",
       "      <th>Years of Credit History</th>\n",
       "      <th>Number of Open Accounts</th>\n",
       "      <th>Number of Credit Problems</th>\n",
       "      <th>Current Credit Balance</th>\n",
       "      <th>Maximum Open Credit</th>\n",
       "      <th>Bankruptcies</th>\n",
       "      <th>Tax Liens</th>\n",
       "      <th>Credit Score new</th>\n",
       "    </tr>\n",
       "  </thead>\n",
       "  <tbody>\n",
       "    <tr>\n",
       "      <th>41727</th>\n",
       "      <td>0</td>\n",
       "      <td>435424.0</td>\n",
       "      <td>0</td>\n",
       "      <td>1.173754e+06</td>\n",
       "      <td>10.0</td>\n",
       "      <td>3</td>\n",
       "      <td>3</td>\n",
       "      <td>15135.02</td>\n",
       "      <td>18.0</td>\n",
       "      <td>5.0</td>\n",
       "      <td>0.0</td>\n",
       "      <td>373901.0</td>\n",
       "      <td>439978.0</td>\n",
       "      <td>0.0</td>\n",
       "      <td>0.0</td>\n",
       "      <td>726.500000</td>\n",
       "    </tr>\n",
       "    <tr>\n",
       "      <th>31209</th>\n",
       "      <td>0</td>\n",
       "      <td>395054.0</td>\n",
       "      <td>1</td>\n",
       "      <td>1.537110e+06</td>\n",
       "      <td>10.0</td>\n",
       "      <td>1</td>\n",
       "      <td>3</td>\n",
       "      <td>21481.59</td>\n",
       "      <td>18.5</td>\n",
       "      <td>20.0</td>\n",
       "      <td>0.0</td>\n",
       "      <td>471219.0</td>\n",
       "      <td>1364088.0</td>\n",
       "      <td>0.0</td>\n",
       "      <td>0.0</td>\n",
       "      <td>713.000000</td>\n",
       "    </tr>\n",
       "    <tr>\n",
       "      <th>98890</th>\n",
       "      <td>0</td>\n",
       "      <td>48708.0</td>\n",
       "      <td>1</td>\n",
       "      <td>1.147410e+06</td>\n",
       "      <td>2.0</td>\n",
       "      <td>3</td>\n",
       "      <td>3</td>\n",
       "      <td>13482.02</td>\n",
       "      <td>15.0</td>\n",
       "      <td>5.0</td>\n",
       "      <td>0.0</td>\n",
       "      <td>58995.0</td>\n",
       "      <td>110726.0</td>\n",
       "      <td>0.0</td>\n",
       "      <td>0.0</td>\n",
       "      <td>717.000000</td>\n",
       "    </tr>\n",
       "    <tr>\n",
       "      <th>79105</th>\n",
       "      <td>0</td>\n",
       "      <td>528154.0</td>\n",
       "      <td>1</td>\n",
       "      <td>1.710513e+06</td>\n",
       "      <td>1.0</td>\n",
       "      <td>1</td>\n",
       "      <td>3</td>\n",
       "      <td>26940.67</td>\n",
       "      <td>13.5</td>\n",
       "      <td>20.0</td>\n",
       "      <td>0.0</td>\n",
       "      <td>931456.0</td>\n",
       "      <td>1346466.0</td>\n",
       "      <td>0.0</td>\n",
       "      <td>0.0</td>\n",
       "      <td>723.000000</td>\n",
       "    </tr>\n",
       "    <tr>\n",
       "      <th>58991</th>\n",
       "      <td>0</td>\n",
       "      <td>579260.0</td>\n",
       "      <td>0</td>\n",
       "      <td>1.138062e+06</td>\n",
       "      <td>10.0</td>\n",
       "      <td>3</td>\n",
       "      <td>3</td>\n",
       "      <td>27408.26</td>\n",
       "      <td>31.8</td>\n",
       "      <td>20.0</td>\n",
       "      <td>0.0</td>\n",
       "      <td>728422.0</td>\n",
       "      <td>2430626.0</td>\n",
       "      <td>0.0</td>\n",
       "      <td>0.0</td>\n",
       "      <td>729.000000</td>\n",
       "    </tr>\n",
       "    <tr>\n",
       "      <th>...</th>\n",
       "      <td>...</td>\n",
       "      <td>...</td>\n",
       "      <td>...</td>\n",
       "      <td>...</td>\n",
       "      <td>...</td>\n",
       "      <td>...</td>\n",
       "      <td>...</td>\n",
       "      <td>...</td>\n",
       "      <td>...</td>\n",
       "      <td>...</td>\n",
       "      <td>...</td>\n",
       "      <td>...</td>\n",
       "      <td>...</td>\n",
       "      <td>...</td>\n",
       "      <td>...</td>\n",
       "      <td>...</td>\n",
       "    </tr>\n",
       "    <tr>\n",
       "      <th>99963</th>\n",
       "      <td>1</td>\n",
       "      <td>380204.0</td>\n",
       "      <td>1</td>\n",
       "      <td>1.046805e+06</td>\n",
       "      <td>9.0</td>\n",
       "      <td>2</td>\n",
       "      <td>3</td>\n",
       "      <td>32625.28</td>\n",
       "      <td>16.9</td>\n",
       "      <td>8.0</td>\n",
       "      <td>0.0</td>\n",
       "      <td>268964.0</td>\n",
       "      <td>415800.0</td>\n",
       "      <td>0.0</td>\n",
       "      <td>0.0</td>\n",
       "      <td>728.000000</td>\n",
       "    </tr>\n",
       "    <tr>\n",
       "      <th>99975</th>\n",
       "      <td>1</td>\n",
       "      <td>274076.0</td>\n",
       "      <td>1</td>\n",
       "      <td>7.096500e+05</td>\n",
       "      <td>10.0</td>\n",
       "      <td>3</td>\n",
       "      <td>3</td>\n",
       "      <td>4204.70</td>\n",
       "      <td>35.3</td>\n",
       "      <td>13.0</td>\n",
       "      <td>0.0</td>\n",
       "      <td>102866.0</td>\n",
       "      <td>844712.0</td>\n",
       "      <td>0.0</td>\n",
       "      <td>0.0</td>\n",
       "      <td>736.000000</td>\n",
       "    </tr>\n",
       "    <tr>\n",
       "      <th>99981</th>\n",
       "      <td>1</td>\n",
       "      <td>666666.0</td>\n",
       "      <td>1</td>\n",
       "      <td>3.838380e+06</td>\n",
       "      <td>7.0</td>\n",
       "      <td>1</td>\n",
       "      <td>3</td>\n",
       "      <td>48939.44</td>\n",
       "      <td>12.4</td>\n",
       "      <td>18.0</td>\n",
       "      <td>0.0</td>\n",
       "      <td>507414.0</td>\n",
       "      <td>1004322.0</td>\n",
       "      <td>0.0</td>\n",
       "      <td>0.0</td>\n",
       "      <td>725.000000</td>\n",
       "    </tr>\n",
       "    <tr>\n",
       "      <th>99988</th>\n",
       "      <td>1</td>\n",
       "      <td>309474.0</td>\n",
       "      <td>1</td>\n",
       "      <td>9.749533e+05</td>\n",
       "      <td>10.0</td>\n",
       "      <td>1</td>\n",
       "      <td>3</td>\n",
       "      <td>13817.18</td>\n",
       "      <td>26.9</td>\n",
       "      <td>15.0</td>\n",
       "      <td>0.0</td>\n",
       "      <td>225872.0</td>\n",
       "      <td>892606.0</td>\n",
       "      <td>0.0</td>\n",
       "      <td>0.0</td>\n",
       "      <td>721.333333</td>\n",
       "    </tr>\n",
       "    <tr>\n",
       "      <th>99989</th>\n",
       "      <td>1</td>\n",
       "      <td>429132.0</td>\n",
       "      <td>1</td>\n",
       "      <td>1.082500e+06</td>\n",
       "      <td>10.0</td>\n",
       "      <td>1</td>\n",
       "      <td>3</td>\n",
       "      <td>28948.02</td>\n",
       "      <td>16.3</td>\n",
       "      <td>16.0</td>\n",
       "      <td>0.0</td>\n",
       "      <td>485279.0</td>\n",
       "      <td>656414.0</td>\n",
       "      <td>0.0</td>\n",
       "      <td>0.0</td>\n",
       "      <td>731.666667</td>\n",
       "    </tr>\n",
       "  </tbody>\n",
       "</table>\n",
       "<p>35842 rows × 16 columns</p>\n",
       "</div>"
      ],
      "text/plain": [
       "       Loan Status  Current Loan Amount  Term  Annual Income  \\\n",
       "41727            0             435424.0     0   1.173754e+06   \n",
       "31209            0             395054.0     1   1.537110e+06   \n",
       "98890            0              48708.0     1   1.147410e+06   \n",
       "79105            0             528154.0     1   1.710513e+06   \n",
       "58991            0             579260.0     0   1.138062e+06   \n",
       "...            ...                  ...   ...            ...   \n",
       "99963            1             380204.0     1   1.046805e+06   \n",
       "99975            1             274076.0     1   7.096500e+05   \n",
       "99981            1             666666.0     1   3.838380e+06   \n",
       "99988            1             309474.0     1   9.749533e+05   \n",
       "99989            1             429132.0     1   1.082500e+06   \n",
       "\n",
       "       Years in current job  Home Ownership  Purpose  Monthly Debt  \\\n",
       "41727                  10.0               3        3      15135.02   \n",
       "31209                  10.0               1        3      21481.59   \n",
       "98890                   2.0               3        3      13482.02   \n",
       "79105                   1.0               1        3      26940.67   \n",
       "58991                  10.0               3        3      27408.26   \n",
       "...                     ...             ...      ...           ...   \n",
       "99963                   9.0               2        3      32625.28   \n",
       "99975                  10.0               3        3       4204.70   \n",
       "99981                   7.0               1        3      48939.44   \n",
       "99988                  10.0               1        3      13817.18   \n",
       "99989                  10.0               1        3      28948.02   \n",
       "\n",
       "       Years of Credit History  Number of Open Accounts  \\\n",
       "41727                     18.0                      5.0   \n",
       "31209                     18.5                     20.0   \n",
       "98890                     15.0                      5.0   \n",
       "79105                     13.5                     20.0   \n",
       "58991                     31.8                     20.0   \n",
       "...                        ...                      ...   \n",
       "99963                     16.9                      8.0   \n",
       "99975                     35.3                     13.0   \n",
       "99981                     12.4                     18.0   \n",
       "99988                     26.9                     15.0   \n",
       "99989                     16.3                     16.0   \n",
       "\n",
       "       Number of Credit Problems  Current Credit Balance  Maximum Open Credit  \\\n",
       "41727                        0.0                373901.0             439978.0   \n",
       "31209                        0.0                471219.0            1364088.0   \n",
       "98890                        0.0                 58995.0             110726.0   \n",
       "79105                        0.0                931456.0            1346466.0   \n",
       "58991                        0.0                728422.0            2430626.0   \n",
       "...                          ...                     ...                  ...   \n",
       "99963                        0.0                268964.0             415800.0   \n",
       "99975                        0.0                102866.0             844712.0   \n",
       "99981                        0.0                507414.0            1004322.0   \n",
       "99988                        0.0                225872.0             892606.0   \n",
       "99989                        0.0                485279.0             656414.0   \n",
       "\n",
       "       Bankruptcies  Tax Liens  Credit Score new  \n",
       "41727           0.0        0.0        726.500000  \n",
       "31209           0.0        0.0        713.000000  \n",
       "98890           0.0        0.0        717.000000  \n",
       "79105           0.0        0.0        723.000000  \n",
       "58991           0.0        0.0        729.000000  \n",
       "...             ...        ...               ...  \n",
       "99963           0.0        0.0        728.000000  \n",
       "99975           0.0        0.0        736.000000  \n",
       "99981           0.0        0.0        725.000000  \n",
       "99988           0.0        0.0        721.333333  \n",
       "99989           0.0        0.0        731.666667  \n",
       "\n",
       "[35842 rows x 16 columns]"
      ]
     },
     "execution_count": 84,
     "metadata": {},
     "output_type": "execute_result"
    }
   ],
   "source": [
    "majo = df[df['Loan Status'] == 0]\n",
    "mino = df[df['Loan Status'] == 1]\n",
    " \n",
    "# Downsample majority class\n",
    "majority = resample(majo, n_samples=len(mino))\n",
    "\n",
    "# Combine minority class with downsampled majority class\n",
    "df1 = pd.concat([majority, mino])\n",
    "\n",
    "df1['Loan Status'].value_counts()\n",
    "\n",
    "df1"
   ]
  },
  {
   "cell_type": "markdown",
   "id": "683119c6",
   "metadata": {},
   "source": [
    "## Split "
   ]
  },
  {
   "cell_type": "code",
   "execution_count": 85,
   "id": "df8c8103",
   "metadata": {},
   "outputs": [],
   "source": [
    "Y = df1['Loan Status']\n",
    "x = df1.drop('Loan Status', axis=1)\n",
    "x_train, x_test, Y_train, Y_test= train_test_split(x, Y, test_size=0.2)"
   ]
  },
  {
   "cell_type": "markdown",
   "id": "e32e83be",
   "metadata": {},
   "source": [
    "### Balanced  data"
   ]
  },
  {
   "cell_type": "code",
   "execution_count": 86,
   "id": "cc4dc9ca",
   "metadata": {},
   "outputs": [
    {
     "data": {
      "text/plain": [
       "1    14340\n",
       "0    14333\n",
       "Name: Loan Status, dtype: int64"
      ]
     },
     "execution_count": 86,
     "metadata": {},
     "output_type": "execute_result"
    }
   ],
   "source": [
    "Y_train.value_counts()"
   ]
  },
  {
   "cell_type": "markdown",
   "id": "b7af54a2",
   "metadata": {},
   "source": [
    "## Feature selection"
   ]
  },
  {
   "cell_type": "code",
   "execution_count": 87,
   "id": "f2d7170b",
   "metadata": {},
   "outputs": [],
   "source": [
    "# SelectFromModel: Meta-transformer for selecting features based on importance weights.\n",
    "SFM = SelectFromModel(estimator=RandomForestClassifier())\n",
    "s=SFM.fit(x, Y)"
   ]
  },
  {
   "cell_type": "code",
   "execution_count": 88,
   "id": "3a76a90d",
   "metadata": {},
   "outputs": [
    {
     "data": {
      "text/plain": [
       "8"
      ]
     },
     "execution_count": 88,
     "metadata": {},
     "output_type": "execute_result"
    }
   ],
   "source": [
    "n_features = s.transform(x).shape[1]\n",
    "n_features"
   ]
  },
  {
   "cell_type": "code",
   "execution_count": 89,
   "id": "98bc6827",
   "metadata": {},
   "outputs": [
    {
     "data": {
      "text/plain": [
       "Index(['Current Loan Amount', 'Annual Income', 'Monthly Debt',\n",
       "       'Years of Credit History', 'Number of Open Accounts',\n",
       "       'Current Credit Balance', 'Maximum Open Credit', 'Credit Score new'],\n",
       "      dtype='object')"
      ]
     },
     "execution_count": 89,
     "metadata": {},
     "output_type": "execute_result"
    }
   ],
   "source": [
    "feature_idx = s.get_support()\n",
    "feature_name = x.columns[feature_idx]\n",
    "feature_name"
   ]
  },
  {
   "cell_type": "markdown",
   "id": "81f7a995",
   "metadata": {},
   "source": [
    "## Second split with the selected features "
   ]
  },
  {
   "cell_type": "code",
   "execution_count": 90,
   "id": "d1ca414c",
   "metadata": {},
   "outputs": [],
   "source": [
    "y = df1['Loan Status']\n",
    "X = df1[['Current Loan Amount', 'Annual Income', 'Monthly Debt',\n",
    "       'Years of Credit History', 'Number of Open Accounts',\n",
    "       'Current Credit Balance', 'Maximum Open Credit', 'Credit Score new']]\n",
    "X_train, X_test, y_train, y_test= train_test_split(X, y, test_size=0.2)"
   ]
  },
  {
   "cell_type": "markdown",
   "id": "671c093e",
   "metadata": {},
   "source": [
    "## Logistic Regression"
   ]
  },
  {
   "cell_type": "code",
   "execution_count": 91,
   "id": "5b11db39",
   "metadata": {},
   "outputs": [
    {
     "name": "stdout",
     "output_type": "stream",
     "text": [
      "[[ 2.15571475e-06 -3.60484919e-07  3.99729289e-06 -7.34081918e-06\n",
      "  -1.31991372e-06 -1.98633473e-07 -3.08364141e-08 -2.24670686e-04]]\n",
      "[-2.13717093e-07]\n"
     ]
    }
   ],
   "source": [
    "# Create and fit the logistic regression model\n",
    "clf_logistic= LogisticRegression(solver='lbfgs')\n",
    "clf_logistic.fit(X_train, y_train)\n",
    "\n",
    "# Print the models coefficients\n",
    "print(clf_logistic.coef_)\n",
    "\n",
    "# Print the intercept of the model\n",
    "print(clf_logistic.intercept_)"
   ]
  },
  {
   "cell_type": "code",
   "execution_count": 92,
   "id": "245d7aa7",
   "metadata": {},
   "outputs": [],
   "source": [
    "# Train the logistic regression model on the training data\n",
    "clf_logistic = LogisticRegression(solver='lbfgs').fit(X_train, np.ravel(y_train))"
   ]
  },
  {
   "cell_type": "code",
   "execution_count": 93,
   "id": "1271b8da",
   "metadata": {},
   "outputs": [
    {
     "name": "stdout",
     "output_type": "stream",
     "text": [
      "[[ 854 2715]\n",
      " [ 326 3274]]\n",
      "              precision    recall  f1-score   support\n",
      "\n",
      " Non Default       0.72      0.24      0.36      3569\n",
      "     Default       0.55      0.91      0.68      3600\n",
      "\n",
      "    accuracy                           0.58      7169\n",
      "   macro avg       0.64      0.57      0.52      7169\n",
      "weighted avg       0.63      0.58      0.52      7169\n",
      "\n"
     ]
    }
   ],
   "source": [
    "# Create predictions of probability for loan status using test data\n",
    "preds = clf_logistic.predict_proba(X_test)\n",
    "\n",
    "# Create a dataframe for the probabilities of default\n",
    "preds_df = pd.DataFrame(preds[:,1], columns = ['prob_default'])\n",
    "true_df = y_test\n",
    "\n",
    "# Concatenate and print the two data frames for comparison\n",
    "preds_df = pd.concat([true_df.reset_index(drop = True), preds_df], axis = 1)\n",
    "\n",
    "# Reassign loan status based on the threshold\n",
    "preds_df['loan_status_predicted'] = preds_df['prob_default'].apply(lambda x: 1 if x > 0.4 else 0)\n",
    "preds_df['predicted_status']= preds_df['prob_default'].apply(lambda x: 'Non Default' if x > 0.4 else 'Default')\n",
    "# Print the confusion matrix\n",
    "print(confusion_matrix(y_test,preds_df['loan_status_predicted']))\n",
    "\n",
    "# Print the classification report\n",
    "target_names = ['Non Default','Default']\n",
    "print(classification_report(y_test, preds_df['loan_status_predicted'], target_names=target_names))"
   ]
  },
  {
   "cell_type": "code",
   "execution_count": 94,
   "id": "ebf59614",
   "metadata": {},
   "outputs": [
    {
     "data": {
      "text/html": [
       "<div>\n",
       "<style scoped>\n",
       "    .dataframe tbody tr th:only-of-type {\n",
       "        vertical-align: middle;\n",
       "    }\n",
       "\n",
       "    .dataframe tbody tr th {\n",
       "        vertical-align: top;\n",
       "    }\n",
       "\n",
       "    .dataframe thead th {\n",
       "        text-align: right;\n",
       "    }\n",
       "</style>\n",
       "<table border=\"1\" class=\"dataframe\">\n",
       "  <thead>\n",
       "    <tr style=\"text-align: right;\">\n",
       "      <th>predicted_status</th>\n",
       "      <th>Default</th>\n",
       "      <th>Non Default</th>\n",
       "      <th>All</th>\n",
       "    </tr>\n",
       "    <tr>\n",
       "      <th>Loan Status</th>\n",
       "      <th></th>\n",
       "      <th></th>\n",
       "      <th></th>\n",
       "    </tr>\n",
       "  </thead>\n",
       "  <tbody>\n",
       "    <tr>\n",
       "      <th>0</th>\n",
       "      <td>854</td>\n",
       "      <td>2715</td>\n",
       "      <td>3569</td>\n",
       "    </tr>\n",
       "    <tr>\n",
       "      <th>1</th>\n",
       "      <td>326</td>\n",
       "      <td>3274</td>\n",
       "      <td>3600</td>\n",
       "    </tr>\n",
       "    <tr>\n",
       "      <th>All</th>\n",
       "      <td>1180</td>\n",
       "      <td>5989</td>\n",
       "      <td>7169</td>\n",
       "    </tr>\n",
       "  </tbody>\n",
       "</table>\n",
       "</div>"
      ],
      "text/plain": [
       "predicted_status  Default  Non Default   All\n",
       "Loan Status                                 \n",
       "0                     854         2715  3569\n",
       "1                     326         3274  3600\n",
       "All                  1180         5989  7169"
      ]
     },
     "execution_count": 94,
     "metadata": {},
     "output_type": "execute_result"
    }
   ],
   "source": [
    "pd.crosstab(preds_df['Loan Status'], preds_df['predicted_status'], margins = True)"
   ]
  },
  {
   "cell_type": "code",
   "execution_count": 95,
   "id": "221a4645",
   "metadata": {},
   "outputs": [
    {
     "name": "stdout",
     "output_type": "stream",
     "text": [
      "0.5773469103082717\n"
     ]
    },
    {
     "data": {
      "image/png": "[encoded data removed]",
      "text/plain": [
       "<Figure size 432x288 with 1 Axes>"
      ]
     },
     "metadata": {
      "needs_background": "light"
     },
     "output_type": "display_data"
    },
    {
     "data": {
      "text/plain": [
       "0.6189453161483142"
      ]
     },
     "execution_count": 95,
     "metadata": {},
     "output_type": "execute_result"
    }
   ],
   "source": [
    "# Print the accuracy score the model\n",
    "score= clf_logistic.score(X_test, y_test)\n",
    "print(score)\n",
    "# Plot the ROC curve of the probabilities of default\n",
    "prob_default1 = preds[:, 1]\n",
    "w=fallout, sensitivity, thresholds = metrics.roc_curve(y_test, prob_default1)\n",
    "plt.plot(fallout, sensitivity, color = 'darkorange')\n",
    "plt.plot([0, 1], [0, 1], linestyle='--')\n",
    "plt.show()\n",
    "\n",
    "# Compute the AUC and store it in a variable\n",
    "auc1 = roc_auc_score(y_test, prob_default1)\n",
    "auc1"
   ]
  },
  {
   "cell_type": "code",
   "execution_count": null,
   "id": "30d33233",
   "metadata": {},
   "outputs": [],
   "source": []
  },
  {
   "cell_type": "markdown",
   "id": "ea85fbe2",
   "metadata": {},
   "source": [
    "## Decision tree model xgboost"
   ]
  },
  {
   "cell_type": "code",
   "execution_count": 96,
   "id": "0eec5426",
   "metadata": {},
   "outputs": [
    {
     "name": "stdout",
     "output_type": "stream",
     "text": [
      "[11:06:37] WARNING: ../src/learner.cc:1115: Starting in XGBoost 1.3.0, the default evaluation metric used with the objective 'binary:logistic' was changed from 'error' to 'logloss'. Explicitly set eval_metric if you'd like to restore the old behavior.\n"
     ]
    }
   ],
   "source": [
    "# Running the Model\n",
    "xgb_clf= xgb.XGBClassifier()\n",
    "\n",
    "# Fitting the model\n",
    "xgb_clf.fit(X_train,y_train)\n",
    "\n",
    "# Predicting the model\n",
    "xgb_predict= xgb_clf.predict(X_test)"
   ]
  },
  {
   "cell_type": "markdown",
   "id": "4cfbbd98",
   "metadata": {},
   "source": [
    "### Hyper Parameter Optimization"
   ]
  },
  {
   "cell_type": "code",
   "execution_count": 97,
   "id": "3098f48f",
   "metadata": {},
   "outputs": [
    {
     "name": "stdout",
     "output_type": "stream",
     "text": [
      "Fitting 5 folds for each of 5 candidates, totalling 25 fits\n"
     ]
    },
    {
     "name": "stderr",
     "output_type": "stream",
     "text": [
      "/Users/dehilinesma/opt/anaconda3/lib/python3.9/site-packages/xgboost/sklearn.py:1224: UserWarning: The use of label encoder in XGBClassifier is deprecated and will be removed in a future release. To remove this warning, do the following: 1) Pass option use_label_encoder=False when constructing XGBClassifier object; and 2) Encode your labels (y) as integers starting with 0, i.e. 0, 1, 2, ..., [num_class - 1].\n",
      "  warnings.warn(label_encoder_deprecation_msg, UserWarning)\n",
      "/Users/dehilinesma/opt/anaconda3/lib/python3.9/site-packages/xgboost/sklearn.py:1224: UserWarning: The use of label encoder in XGBClassifier is deprecated and will be removed in a future release. To remove this warning, do the following: 1) Pass option use_label_encoder=False when constructing XGBClassifier object; and 2) Encode your labels (y) as integers starting with 0, i.e. 0, 1, 2, ..., [num_class - 1].\n",
      "  warnings.warn(label_encoder_deprecation_msg, UserWarning)\n",
      "/Users/dehilinesma/opt/anaconda3/lib/python3.9/site-packages/xgboost/sklearn.py:1224: UserWarning: The use of label encoder in XGBClassifier is deprecated and will be removed in a future release. To remove this warning, do the following: 1) Pass option use_label_encoder=False when constructing XGBClassifier object; and 2) Encode your labels (y) as integers starting with 0, i.e. 0, 1, 2, ..., [num_class - 1].\n",
      "  warnings.warn(label_encoder_deprecation_msg, UserWarning)\n",
      "/Users/dehilinesma/opt/anaconda3/lib/python3.9/site-packages/xgboost/sklearn.py:1224: UserWarning: The use of label encoder in XGBClassifier is deprecated and will be removed in a future release. To remove this warning, do the following: 1) Pass option use_label_encoder=False when constructing XGBClassifier object; and 2) Encode your labels (y) as integers starting with 0, i.e. 0, 1, 2, ..., [num_class - 1].\n",
      "  warnings.warn(label_encoder_deprecation_msg, UserWarning)\n",
      "/Users/dehilinesma/opt/anaconda3/lib/python3.9/site-packages/xgboost/sklearn.py:1224: UserWarning: The use of label encoder in XGBClassifier is deprecated and will be removed in a future release. To remove this warning, do the following: 1) Pass option use_label_encoder=False when constructing XGBClassifier object; and 2) Encode your labels (y) as integers starting with 0, i.e. 0, 1, 2, ..., [num_class - 1].\n",
      "  warnings.warn(label_encoder_deprecation_msg, UserWarning)\n",
      "/Users/dehilinesma/opt/anaconda3/lib/python3.9/site-packages/xgboost/sklearn.py:1224: UserWarning: The use of label encoder in XGBClassifier is deprecated and will be removed in a future release. To remove this warning, do the following: 1) Pass option use_label_encoder=False when constructing XGBClassifier object; and 2) Encode your labels (y) as integers starting with 0, i.e. 0, 1, 2, ..., [num_class - 1].\n",
      "  warnings.warn(label_encoder_deprecation_msg, UserWarning)\n",
      "/Users/dehilinesma/opt/anaconda3/lib/python3.9/site-packages/xgboost/sklearn.py:1224: UserWarning: The use of label encoder in XGBClassifier is deprecated and will be removed in a future release. To remove this warning, do the following: 1) Pass option use_label_encoder=False when constructing XGBClassifier object; and 2) Encode your labels (y) as integers starting with 0, i.e. 0, 1, 2, ..., [num_class - 1].\n",
      "  warnings.warn(label_encoder_deprecation_msg, UserWarning)\n",
      "/Users/dehilinesma/opt/anaconda3/lib/python3.9/site-packages/xgboost/sklearn.py:1224: UserWarning: The use of label encoder in XGBClassifier is deprecated and will be removed in a future release. To remove this warning, do the following: 1) Pass option use_label_encoder=False when constructing XGBClassifier object; and 2) Encode your labels (y) as integers starting with 0, i.e. 0, 1, 2, ..., [num_class - 1].\n",
      "  warnings.warn(label_encoder_deprecation_msg, UserWarning)\n",
      "/Users/dehilinesma/opt/anaconda3/lib/python3.9/site-packages/xgboost/sklearn.py:1224: UserWarning: The use of label encoder in XGBClassifier is deprecated and will be removed in a future release. To remove this warning, do the following: 1) Pass option use_label_encoder=False when constructing XGBClassifier object; and 2) Encode your labels (y) as integers starting with 0, i.e. 0, 1, 2, ..., [num_class - 1].\n",
      "  warnings.warn(label_encoder_deprecation_msg, UserWarning)\n",
      "/Users/dehilinesma/opt/anaconda3/lib/python3.9/site-packages/xgboost/sklearn.py:1224: UserWarning: The use of label encoder in XGBClassifier is deprecated and will be removed in a future release. To remove this warning, do the following: 1) Pass option use_label_encoder=False when constructing XGBClassifier object; and 2) Encode your labels (y) as integers starting with 0, i.e. 0, 1, 2, ..., [num_class - 1].\n",
      "  warnings.warn(label_encoder_deprecation_msg, UserWarning)\n",
      "/Users/dehilinesma/opt/anaconda3/lib/python3.9/site-packages/xgboost/sklearn.py:1224: UserWarning: The use of label encoder in XGBClassifier is deprecated and will be removed in a future release. To remove this warning, do the following: 1) Pass option use_label_encoder=False when constructing XGBClassifier object; and 2) Encode your labels (y) as integers starting with 0, i.e. 0, 1, 2, ..., [num_class - 1].\n",
      "  warnings.warn(label_encoder_deprecation_msg, UserWarning)\n",
      "/Users/dehilinesma/opt/anaconda3/lib/python3.9/site-packages/xgboost/sklearn.py:1224: UserWarning: The use of label encoder in XGBClassifier is deprecated and will be removed in a future release. To remove this warning, do the following: 1) Pass option use_label_encoder=False when constructing XGBClassifier object; and 2) Encode your labels (y) as integers starting with 0, i.e. 0, 1, 2, ..., [num_class - 1].\n",
      "  warnings.warn(label_encoder_deprecation_msg, UserWarning)\n",
      "/Users/dehilinesma/opt/anaconda3/lib/python3.9/site-packages/xgboost/sklearn.py:1224: UserWarning: The use of label encoder in XGBClassifier is deprecated and will be removed in a future release. To remove this warning, do the following: 1) Pass option use_label_encoder=False when constructing XGBClassifier object; and 2) Encode your labels (y) as integers starting with 0, i.e. 0, 1, 2, ..., [num_class - 1].\n",
      "  warnings.warn(label_encoder_deprecation_msg, UserWarning)\n",
      "/Users/dehilinesma/opt/anaconda3/lib/python3.9/site-packages/xgboost/sklearn.py:1224: UserWarning: The use of label encoder in XGBClassifier is deprecated and will be removed in a future release. To remove this warning, do the following: 1) Pass option use_label_encoder=False when constructing XGBClassifier object; and 2) Encode your labels (y) as integers starting with 0, i.e. 0, 1, 2, ..., [num_class - 1].\n",
      "  warnings.warn(label_encoder_deprecation_msg, UserWarning)\n",
      "/Users/dehilinesma/opt/anaconda3/lib/python3.9/site-packages/xgboost/sklearn.py:1224: UserWarning: The use of label encoder in XGBClassifier is deprecated and will be removed in a future release. To remove this warning, do the following: 1) Pass option use_label_encoder=False when constructing XGBClassifier object; and 2) Encode your labels (y) as integers starting with 0, i.e. 0, 1, 2, ..., [num_class - 1].\n",
      "  warnings.warn(label_encoder_deprecation_msg, UserWarning)\n",
      "/Users/dehilinesma/opt/anaconda3/lib/python3.9/site-packages/xgboost/sklearn.py:1224: UserWarning: The use of label encoder in XGBClassifier is deprecated and will be removed in a future release. To remove this warning, do the following: 1) Pass option use_label_encoder=False when constructing XGBClassifier object; and 2) Encode your labels (y) as integers starting with 0, i.e. 0, 1, 2, ..., [num_class - 1].\n",
      "  warnings.warn(label_encoder_deprecation_msg, UserWarning)\n",
      "/Users/dehilinesma/opt/anaconda3/lib/python3.9/site-packages/xgboost/sklearn.py:1224: UserWarning: The use of label encoder in XGBClassifier is deprecated and will be removed in a future release. To remove this warning, do the following: 1) Pass option use_label_encoder=False when constructing XGBClassifier object; and 2) Encode your labels (y) as integers starting with 0, i.e. 0, 1, 2, ..., [num_class - 1].\n",
      "  warnings.warn(label_encoder_deprecation_msg, UserWarning)\n",
      "/Users/dehilinesma/opt/anaconda3/lib/python3.9/site-packages/xgboost/sklearn.py:1224: UserWarning: The use of label encoder in XGBClassifier is deprecated and will be removed in a future release. To remove this warning, do the following: 1) Pass option use_label_encoder=False when constructing XGBClassifier object; and 2) Encode your labels (y) as integers starting with 0, i.e. 0, 1, 2, ..., [num_class - 1].\n",
      "  warnings.warn(label_encoder_deprecation_msg, UserWarning)\n",
      "/Users/dehilinesma/opt/anaconda3/lib/python3.9/site-packages/xgboost/sklearn.py:1224: UserWarning: The use of label encoder in XGBClassifier is deprecated and will be removed in a future release. To remove this warning, do the following: 1) Pass option use_label_encoder=False when constructing XGBClassifier object; and 2) Encode your labels (y) as integers starting with 0, i.e. 0, 1, 2, ..., [num_class - 1].\n",
      "  warnings.warn(label_encoder_deprecation_msg, UserWarning)\n",
      "/Users/dehilinesma/opt/anaconda3/lib/python3.9/site-packages/xgboost/sklearn.py:1224: UserWarning: The use of label encoder in XGBClassifier is deprecated and will be removed in a future release. To remove this warning, do the following: 1) Pass option use_label_encoder=False when constructing XGBClassifier object; and 2) Encode your labels (y) as integers starting with 0, i.e. 0, 1, 2, ..., [num_class - 1].\n",
      "  warnings.warn(label_encoder_deprecation_msg, UserWarning)\n",
      "/Users/dehilinesma/opt/anaconda3/lib/python3.9/site-packages/xgboost/sklearn.py:1224: UserWarning: The use of label encoder in XGBClassifier is deprecated and will be removed in a future release. To remove this warning, do the following: 1) Pass option use_label_encoder=False when constructing XGBClassifier object; and 2) Encode your labels (y) as integers starting with 0, i.e. 0, 1, 2, ..., [num_class - 1].\n",
      "  warnings.warn(label_encoder_deprecation_msg, UserWarning)\n"
     ]
    },
    {
     "name": "stderr",
     "output_type": "stream",
     "text": [
      "/Users/dehilinesma/opt/anaconda3/lib/python3.9/site-packages/xgboost/sklearn.py:1224: UserWarning: The use of label encoder in XGBClassifier is deprecated and will be removed in a future release. To remove this warning, do the following: 1) Pass option use_label_encoder=False when constructing XGBClassifier object; and 2) Encode your labels (y) as integers starting with 0, i.e. 0, 1, 2, ..., [num_class - 1].\n",
      "  warnings.warn(label_encoder_deprecation_msg, UserWarning)\n",
      "/Users/dehilinesma/opt/anaconda3/lib/python3.9/site-packages/xgboost/sklearn.py:1224: UserWarning: The use of label encoder in XGBClassifier is deprecated and will be removed in a future release. To remove this warning, do the following: 1) Pass option use_label_encoder=False when constructing XGBClassifier object; and 2) Encode your labels (y) as integers starting with 0, i.e. 0, 1, 2, ..., [num_class - 1].\n",
      "  warnings.warn(label_encoder_deprecation_msg, UserWarning)\n",
      "/Users/dehilinesma/opt/anaconda3/lib/python3.9/site-packages/xgboost/sklearn.py:1224: UserWarning: The use of label encoder in XGBClassifier is deprecated and will be removed in a future release. To remove this warning, do the following: 1) Pass option use_label_encoder=False when constructing XGBClassifier object; and 2) Encode your labels (y) as integers starting with 0, i.e. 0, 1, 2, ..., [num_class - 1].\n",
      "  warnings.warn(label_encoder_deprecation_msg, UserWarning)\n",
      "/Users/dehilinesma/opt/anaconda3/lib/python3.9/site-packages/xgboost/sklearn.py:1224: UserWarning: The use of label encoder in XGBClassifier is deprecated and will be removed in a future release. To remove this warning, do the following: 1) Pass option use_label_encoder=False when constructing XGBClassifier object; and 2) Encode your labels (y) as integers starting with 0, i.e. 0, 1, 2, ..., [num_class - 1].\n",
      "  warnings.warn(label_encoder_deprecation_msg, UserWarning)\n"
     ]
    },
    {
     "name": "stdout",
     "output_type": "stream",
     "text": [
      "[11:07:18] WARNING: ../src/learner.cc:1115: Starting in XGBoost 1.3.0, the default evaluation metric used with the objective 'binary:logistic' was changed from 'error' to 'logloss'. Explicitly set eval_metric if you'd like to restore the old behavior.\n"
     ]
    },
    {
     "data": {
      "text/plain": [
       "RandomizedSearchCV(cv=5,\n",
       "                   estimator=XGBClassifier(base_score=0.5, booster='gbtree',\n",
       "                                           colsample_bylevel=1,\n",
       "                                           colsample_bynode=1,\n",
       "                                           colsample_bytree=1,\n",
       "                                           enable_categorical=False, gamma=0,\n",
       "                                           gpu_id=-1, importance_type=None,\n",
       "                                           interaction_constraints='',\n",
       "                                           learning_rate=0.300000012,\n",
       "                                           max_delta_step=0, max_depth=6,\n",
       "                                           min_child_weight=1, missing=nan,\n",
       "                                           monotone_constraints='()',\n",
       "                                           n_estimat...\n",
       "                                           reg_alpha=0, reg_lambda=1,\n",
       "                                           scale_pos_weight=1, subsample=1,\n",
       "                                           tree_method='exact',\n",
       "                                           validate_parameters=1,\n",
       "                                           verbosity=None),\n",
       "                   n_iter=5, n_jobs=-1,\n",
       "                   param_distributions={'colsample_bytree': [0.3, 0.4, 0.5,\n",
       "                                                             0.7],\n",
       "                                        'gamma': [0.0, 0.1, 0.2, 0.3, 0.4],\n",
       "                                        'learning_rate': [0.05, 0.1, 0.15, 0.2,\n",
       "                                                          0.25, 0.3],\n",
       "                                        'max_depth': [3, 4, 5, 6, 8, 10, 12,\n",
       "                                                      15],\n",
       "                                        'min_child_weight': [1, 3, 5, 7]},\n",
       "                   scoring='roc_auc', verbose=3)"
      ]
     },
     "execution_count": 97,
     "metadata": {},
     "output_type": "execute_result"
    }
   ],
   "source": [
    "# Hyper Parameter Optimization\n",
    "\n",
    "params={\n",
    " \"learning_rate\"    : [0.05, 0.10, 0.15, 0.20, 0.25, 0.30 ] ,\n",
    " \"max_depth\"        : [ 3, 4, 5, 6, 8, 10, 12, 15],\n",
    " \"min_child_weight\" : [ 1, 3, 5, 7 ],\n",
    " \"gamma\"            : [ 0.0, 0.1, 0.2 , 0.3, 0.4 ],\n",
    " \"colsample_bytree\" : [ 0.3, 0.4, 0.5 , 0.7 ]\n",
    "    \n",
    "}\n",
    "# Hyperparameter optimization using RandomizedSearchCV\n",
    "\n",
    "random_search=RandomizedSearchCV(xgb_clf,param_distributions=params,n_iter=5,scoring='roc_auc',n_jobs=-1,cv=5,verbose=3)\n",
    "\n",
    "# fitting the RandomizedSearchCV\n",
    "random_search.fit(X_train,y_train)"
   ]
  },
  {
   "cell_type": "code",
   "execution_count": 98,
   "id": "645bee7f",
   "metadata": {},
   "outputs": [
    {
     "data": {
      "text/plain": [
       "XGBClassifier(base_score=0.5, booster='gbtree', colsample_bylevel=1,\n",
       "              colsample_bynode=1, colsample_bytree=0.7,\n",
       "              enable_categorical=False, gamma=0.2, gpu_id=-1,\n",
       "              importance_type=None, interaction_constraints='',\n",
       "              learning_rate=0.25, max_delta_step=0, max_depth=15,\n",
       "              min_child_weight=5, missing=nan, monotone_constraints='()',\n",
       "              n_estimators=100, n_jobs=8, num_parallel_tree=1, predictor='auto',\n",
       "              random_state=0, reg_alpha=0, reg_lambda=1, scale_pos_weight=1,\n",
       "              subsample=1, tree_method='exact', validate_parameters=1,\n",
       "              verbosity=None)"
      ]
     },
     "execution_count": 98,
     "metadata": {},
     "output_type": "execute_result"
    }
   ],
   "source": [
    "# Finding the best estimators\n",
    "random_search.best_estimator_\n"
   ]
  },
  {
   "cell_type": "code",
   "execution_count": 99,
   "id": "813b95ff",
   "metadata": {},
   "outputs": [
    {
     "data": {
      "text/plain": [
       "{'min_child_weight': 5,\n",
       " 'max_depth': 15,\n",
       " 'learning_rate': 0.25,\n",
       " 'gamma': 0.2,\n",
       " 'colsample_bytree': 0.7}"
      ]
     },
     "execution_count": 99,
     "metadata": {},
     "output_type": "execute_result"
    }
   ],
   "source": [
    "# Finding the best param\n",
    "random_search.best_params_"
   ]
  },
  {
   "cell_type": "markdown",
   "id": "789e830f",
   "metadata": {},
   "source": [
    "### XGBClassifier with optimal parameters"
   ]
  },
  {
   "cell_type": "code",
   "execution_count": 100,
   "id": "d1e59d40",
   "metadata": {},
   "outputs": [
    {
     "name": "stdout",
     "output_type": "stream",
     "text": [
      "[11:07:21] WARNING: ../src/learner.cc:1115: Starting in XGBoost 1.3.0, the default evaluation metric used with the objective 'binary:logistic' was changed from 'error' to 'logloss'. Explicitly set eval_metric if you'd like to restore the old behavior.\n"
     ]
    },
    {
     "data": {
      "text/plain": [
       "XGBClassifier(base_score=0.5, booster='gbtree', colsample_bylevel=1,\n",
       "              colsample_bynode=1, colsample_bytree=0.7,\n",
       "              enable_categorical=False, gamma=0.4, gpu_id=-1,\n",
       "              importance_type=None, interaction_constraints='',\n",
       "              learning_rate=0.15, max_delta_step=0, max_depth=3,\n",
       "              min_child_weight=7, missing=nan, monotone_constraints='()',\n",
       "              n_estimators=100, n_jobs=8, num_parallel_tree=1, predictor='auto',\n",
       "              random_state=0, reg_alpha=0, reg_lambda=1, scale_pos_weight=1,\n",
       "              subsample=1, tree_method='exact', validate_parameters=1,\n",
       "              verbosity=None)"
      ]
     },
     "execution_count": 100,
     "metadata": {},
     "output_type": "execute_result"
    }
   ],
   "source": [
    "# XGBClassifier with optimal parameters\n",
    "xgb_clf= xgb.XGBClassifier( min_child_weight= 7,\n",
    "                            max_depth = 3,\n",
    "                            learning_rate = 0.15,\n",
    "                            gamma = 0.4,\n",
    "                            colsample_bytree = 0.7)\n",
    "# Fitting the model\n",
    "xgb_clf.fit(X_train,np.ravel(y_train))\n"
   ]
  },
  {
   "cell_type": "code",
   "execution_count": 101,
   "id": "0d4cabf2",
   "metadata": {},
   "outputs": [
    {
     "name": "stdout",
     "output_type": "stream",
     "text": [
      "[[ 902 2667]\n",
      " [ 163 3437]]\n",
      "              precision    recall  f1-score   support\n",
      "\n",
      " Non Default       0.85      0.25      0.39      3569\n",
      "     Default       0.56      0.95      0.71      3600\n",
      "\n",
      "    accuracy                           0.61      7169\n",
      "   macro avg       0.71      0.60      0.55      7169\n",
      "weighted avg       0.70      0.61      0.55      7169\n",
      "\n",
      "{'Current Loan Amount': 94.0, 'Annual Income': 102.0, 'Monthly Debt': 65.0, 'Years of Credit History': 46.0, 'Number of Open Accounts': 22.0, 'Current Credit Balance': 44.0, 'Maximum Open Credit': 90.0, 'Credit Score new': 93.0}\n"
     ]
    },
    {
     "data": {
      "image/png": "[encoded data removed]",
      "text/plain": [
       "<Figure size 432x288 with 1 Axes>"
      ]
     },
     "metadata": {
      "needs_background": "light"
     },
     "output_type": "display_data"
    }
   ],
   "source": [
    "# Create predictions of probability for loan status using test data\n",
    "preds2 = xgb_clf.predict_proba(X_test)\n",
    "\n",
    "# Create a dataframe for the probabilities of default\n",
    "preds_df2 = pd.DataFrame(preds2[:,1], columns = ['prob_default'])\n",
    "true_df = y_test\n",
    "\n",
    "# Concatenate and print the two data frames for comparison\n",
    "preds_df2 = pd.concat([true_df.reset_index(drop = True), preds_df2], axis = 1)\n",
    "\n",
    "# Reassign loan status based on the threshold\n",
    "preds_df2['loan_status_predicted'] = preds_df2['prob_default'].apply(lambda x: 1 if x > 0.4 else 0)\n",
    "preds_df2['predicted_status']= preds_df2['prob_default'].apply(lambda x: 'Non Default' if x > 0.4 else 'Default')\n",
    "# Print the confusion matrix\n",
    "print(confusion_matrix(y_test,preds_df2['loan_status_predicted']))\n",
    "\n",
    "# Print the classification report\n",
    "target_names = ['Non Default','Default']\n",
    "print(classification_report(y_test, preds_df2['loan_status_predicted'], target_names=target_names))\n",
    "\n",
    "# Print the column importances from the model\n",
    "print(xgb_clf.get_booster().get_score(importance_type = 'weight'))\n",
    "\n",
    "# Plot the column importance for this model\n",
    "xgb.plot_importance(xgb_clf, importance_type = 'weight')\n",
    "plt.show()\n"
   ]
  },
  {
   "cell_type": "code",
   "execution_count": 102,
   "id": "4e6e7e19",
   "metadata": {},
   "outputs": [
    {
     "name": "stdout",
     "output_type": "stream",
     "text": [
      "The accuracy of the XGB is: 62.379690333379834 %\n"
     ]
    },
    {
     "data": {
      "image/png": "[encoded data removed]",
      "text/plain": [
       "<Figure size 432x288 with 1 Axes>"
      ]
     },
     "metadata": {
      "needs_background": "light"
     },
     "output_type": "display_data"
    },
    {
     "data": {
      "text/plain": [
       "0.6884554497058"
      ]
     },
     "execution_count": 102,
     "metadata": {},
     "output_type": "execute_result"
    }
   ],
   "source": [
    "# Print the accuracy score the model\n",
    "score2= xgb_clf.score(X_test, y_test)\n",
    "print('The accuracy of the XGB is:', score2 * 100, '%')\n",
    "\n",
    "# Plot the ROC curve of the probabilities of default\n",
    "prob_default2 = preds2[:, 1]\n",
    "x=fallout_xgb, sensitivity_xgb, thresholds_xgb = metrics.roc_curve(y_test, prob_default2)\n",
    "plt.plot(fallout_xgb, sensitivity_xgb, color = 'darkorange')\n",
    "plt.plot([0, 1], [0, 1], linestyle='--')\n",
    "plt.show()\n",
    "\n",
    "# Compute the AUC and store it in a variable\n",
    "auc2 = roc_auc_score(y_test, preds2[:, 1])\n",
    "auc2"
   ]
  },
  {
   "cell_type": "code",
   "execution_count": null,
   "id": "eb1c58a1",
   "metadata": {},
   "outputs": [],
   "source": []
  },
  {
   "cell_type": "markdown",
   "id": "324aa215",
   "metadata": {},
   "source": [
    "### Cross validating"
   ]
  },
  {
   "cell_type": "code",
   "execution_count": 103,
   "id": "9d6224be",
   "metadata": {},
   "outputs": [],
   "source": [
    "# Set the number of folds\n",
    "n_folds = 2\n",
    "# Set early stopping number\n",
    "early_stop = 5\n",
    "# Set any specific parameters for cross validation\n",
    "params = {'objective': 'binary:logistic','seed': 99, 'eval_metric':'auc'}"
   ]
  },
  {
   "cell_type": "code",
   "execution_count": 104,
   "id": "0e743fa8",
   "metadata": {},
   "outputs": [
    {
     "data": {
      "text/html": [
       "<div>\n",
       "<style scoped>\n",
       "    .dataframe tbody tr th:only-of-type {\n",
       "        vertical-align: middle;\n",
       "    }\n",
       "\n",
       "    .dataframe tbody tr th {\n",
       "        vertical-align: top;\n",
       "    }\n",
       "\n",
       "    .dataframe thead th {\n",
       "        text-align: right;\n",
       "    }\n",
       "</style>\n",
       "<table border=\"1\" class=\"dataframe\">\n",
       "  <thead>\n",
       "    <tr style=\"text-align: right;\">\n",
       "      <th></th>\n",
       "      <th>train-auc-mean</th>\n",
       "      <th>train-auc-std</th>\n",
       "      <th>test-auc-mean</th>\n",
       "      <th>test-auc-std</th>\n",
       "    </tr>\n",
       "  </thead>\n",
       "  <tbody>\n",
       "    <tr>\n",
       "      <th>0</th>\n",
       "      <td>0.661833</td>\n",
       "      <td>0.002809</td>\n",
       "      <td>0.645696</td>\n",
       "      <td>0.009622</td>\n",
       "    </tr>\n",
       "    <tr>\n",
       "      <th>1</th>\n",
       "      <td>0.675580</td>\n",
       "      <td>0.001667</td>\n",
       "      <td>0.655188</td>\n",
       "      <td>0.009963</td>\n",
       "    </tr>\n",
       "    <tr>\n",
       "      <th>2</th>\n",
       "      <td>0.683440</td>\n",
       "      <td>0.002557</td>\n",
       "      <td>0.658438</td>\n",
       "      <td>0.007788</td>\n",
       "    </tr>\n",
       "    <tr>\n",
       "      <th>3</th>\n",
       "      <td>0.690618</td>\n",
       "      <td>0.003272</td>\n",
       "      <td>0.661068</td>\n",
       "      <td>0.008993</td>\n",
       "    </tr>\n",
       "    <tr>\n",
       "      <th>4</th>\n",
       "      <td>0.697008</td>\n",
       "      <td>0.002436</td>\n",
       "      <td>0.663034</td>\n",
       "      <td>0.008835</td>\n",
       "    </tr>\n",
       "    <tr>\n",
       "      <th>...</th>\n",
       "      <td>...</td>\n",
       "      <td>...</td>\n",
       "      <td>...</td>\n",
       "      <td>...</td>\n",
       "    </tr>\n",
       "    <tr>\n",
       "      <th>595</th>\n",
       "      <td>0.999093</td>\n",
       "      <td>0.000108</td>\n",
       "      <td>0.689272</td>\n",
       "      <td>0.008074</td>\n",
       "    </tr>\n",
       "    <tr>\n",
       "      <th>596</th>\n",
       "      <td>0.999115</td>\n",
       "      <td>0.000108</td>\n",
       "      <td>0.689353</td>\n",
       "      <td>0.008110</td>\n",
       "    </tr>\n",
       "    <tr>\n",
       "      <th>597</th>\n",
       "      <td>0.999131</td>\n",
       "      <td>0.000106</td>\n",
       "      <td>0.689371</td>\n",
       "      <td>0.008211</td>\n",
       "    </tr>\n",
       "    <tr>\n",
       "      <th>598</th>\n",
       "      <td>0.999139</td>\n",
       "      <td>0.000105</td>\n",
       "      <td>0.689384</td>\n",
       "      <td>0.008103</td>\n",
       "    </tr>\n",
       "    <tr>\n",
       "      <th>599</th>\n",
       "      <td>0.999151</td>\n",
       "      <td>0.000104</td>\n",
       "      <td>0.689337</td>\n",
       "      <td>0.008085</td>\n",
       "    </tr>\n",
       "  </tbody>\n",
       "</table>\n",
       "<p>600 rows × 4 columns</p>\n",
       "</div>"
      ],
      "text/plain": [
       "     train-auc-mean  train-auc-std  test-auc-mean  test-auc-std\n",
       "0          0.661833       0.002809       0.645696      0.009622\n",
       "1          0.675580       0.001667       0.655188      0.009963\n",
       "2          0.683440       0.002557       0.658438      0.007788\n",
       "3          0.690618       0.003272       0.661068      0.008993\n",
       "4          0.697008       0.002436       0.663034      0.008835\n",
       "..              ...            ...            ...           ...\n",
       "595        0.999093       0.000108       0.689272      0.008074\n",
       "596        0.999115       0.000108       0.689353      0.008110\n",
       "597        0.999131       0.000106       0.689371      0.008211\n",
       "598        0.999139       0.000105       0.689384      0.008103\n",
       "599        0.999151       0.000104       0.689337      0.008085\n",
       "\n",
       "[600 rows x 4 columns]"
      ]
     },
     "execution_count": 104,
     "metadata": {},
     "output_type": "execute_result"
    }
   ],
   "source": [
    "# Restructure the train data for xgboost\n",
    "DTrain = xgb.DMatrix(X_train, label = y_train)\n",
    "# Perform cross validation\n",
    "cv = xgb.cv(params, DTrain, num_boost_round = 600, nfold=10,\n",
    "            shuffle = True)\n",
    "cv"
   ]
  },
  {
   "cell_type": "code",
   "execution_count": 105,
   "id": "3d164341",
   "metadata": {},
   "outputs": [
    {
     "name": "stdout",
     "output_type": "stream",
     "text": [
      "0.6820213663333335\n"
     ]
    },
    {
     "data": {
      "image/png": "[encoded data removed]",
      "text/plain": [
       "<Figure size 432x288 with 1 Axes>"
      ]
     },
     "metadata": {
      "needs_background": "light"
     },
     "output_type": "display_data"
    }
   ],
   "source": [
    "# Calculate the mean of the test AUC scores\n",
    "print(np.mean(cv['test-auc-mean']))\n",
    "\n",
    "# Plot the test AUC scores for each iteration\n",
    "plt.plot(cv['test-auc-mean'])\n",
    "plt.title('Test AUC Score Over 600 Iterations')\n",
    "plt.xlabel('Iteration Number')\n",
    "plt.ylabel('Test AUC Score')\n",
    "plt.show()"
   ]
  },
  {
   "cell_type": "code",
   "execution_count": 106,
   "id": "616a6bb0",
   "metadata": {},
   "outputs": [
    {
     "name": "stdout",
     "output_type": "stream",
     "text": [
      "[11:08:53] WARNING: ../src/learner.cc:1115: Starting in XGBoost 1.3.0, the default evaluation metric used with the objective 'binary:logistic' was changed from 'error' to 'logloss'. Explicitly set eval_metric if you'd like to restore the old behavior.\n",
      "[11:08:54] WARNING: ../src/learner.cc:1115: Starting in XGBoost 1.3.0, the default evaluation metric used with the objective 'binary:logistic' was changed from 'error' to 'logloss'. Explicitly set eval_metric if you'd like to restore the old behavior.\n",
      "[11:08:54] WARNING: ../src/learner.cc:1115: Starting in XGBoost 1.3.0, the default evaluation metric used with the objective 'binary:logistic' was changed from 'error' to 'logloss'. Explicitly set eval_metric if you'd like to restore the old behavior.\n",
      "[11:08:55] WARNING: ../src/learner.cc:1115: Starting in XGBoost 1.3.0, the default evaluation metric used with the objective 'binary:logistic' was changed from 'error' to 'logloss'. Explicitly set eval_metric if you'd like to restore the old behavior.\n",
      "Average accuracy: 0.62 (+/- 0.01)\n"
     ]
    }
   ],
   "source": [
    "cv_scores = cross_val_score(xgb_clf, X_train, y_train, cv = 4)\n",
    "\n",
    "# Print the average accuracy and standard deviation of the scores\n",
    "print(\"Average accuracy: %0.2f (+/- %0.2f)\" % (cv_scores.mean(),\n",
    "                                              cv_scores.std() * 2))"
   ]
  },
  {
   "cell_type": "markdown",
   "id": "c286938f",
   "metadata": {},
   "source": [
    "## Hyper Tunning RandomForestClassifier"
   ]
  },
  {
   "cell_type": "code",
   "execution_count": 107,
   "id": "75cb821d",
   "metadata": {},
   "outputs": [
    {
     "data": {
      "text/plain": [
       "RandomForestClassifier()"
      ]
     },
     "execution_count": 107,
     "metadata": {},
     "output_type": "execute_result"
    }
   ],
   "source": [
    "rfc = RandomForestClassifier()\n",
    "rfc.fit(X_train, y_train)"
   ]
  },
  {
   "cell_type": "code",
   "execution_count": 108,
   "id": "de32538f",
   "metadata": {},
   "outputs": [
    {
     "name": "stdout",
     "output_type": "stream",
     "text": [
      "Fitting 5 folds for each of 10 candidates, totalling 50 fits\n",
      "[11:06:41] WARNING: ../src/learner.cc:1115: Starting in XGBoost 1.3.0, the default evaluation metric used with the objective 'binary:logistic' was changed from 'error' to 'logloss'. Explicitly set eval_metric if you'd like to restore the old behavior.\n",
      "[CV 2/5] END colsample_bytree=0.3, gamma=0.4, learning_rate=0.2, max_depth=15, min_child_weight=7;, score=0.680 total time=  12.0s\n",
      "[11:06:53] WARNING: ../src/learner.cc:1115: Starting in XGBoost 1.3.0, the default evaluation metric used with the objective 'binary:logistic' was changed from 'error' to 'logloss'. Explicitly set eval_metric if you'd like to restore the old behavior.\n",
      "[CV 1/5] END colsample_bytree=0.4, gamma=0.3, learning_rate=0.1, max_depth=5, min_child_weight=7;, score=0.679 total time=   5.0s\n",
      "[11:06:58] WARNING: ../src/learner.cc:1115: Starting in XGBoost 1.3.0, the default evaluation metric used with the objective 'binary:logistic' was changed from 'error' to 'logloss'. Explicitly set eval_metric if you'd like to restore the old behavior.\n",
      "[CV 2/5] END colsample_bytree=0.3, gamma=0.4, learning_rate=0.25, max_depth=12, min_child_weight=5;, score=0.671 total time=  10.8s\n",
      "[11:06:41] WARNING: ../src/learner.cc:1115: Starting in XGBoost 1.3.0, the default evaluation metric used with the objective 'binary:logistic' was changed from 'error' to 'logloss'. Explicitly set eval_metric if you'd like to restore the old behavior.\n",
      "[CV 4/5] END colsample_bytree=0.3, gamma=0.4, learning_rate=0.2, max_depth=15, min_child_weight=7;, score=0.670 total time=  12.2s\n",
      "[11:06:53] WARNING: ../src/learner.cc:1115: Starting in XGBoost 1.3.0, the default evaluation metric used with the objective 'binary:logistic' was changed from 'error' to 'logloss'. Explicitly set eval_metric if you'd like to restore the old behavior.\n",
      "[CV 5/5] END colsample_bytree=0.4, gamma=0.3, learning_rate=0.1, max_depth=5, min_child_weight=7;, score=0.662 total time=   5.0s\n",
      "[11:06:58] WARNING: ../src/learner.cc:1115: Starting in XGBoost 1.3.0, the default evaluation metric used with the objective 'binary:logistic' was changed from 'error' to 'logloss'. Explicitly set eval_metric if you'd like to restore the old behavior.\n",
      "[CV 5/5] END colsample_bytree=0.3, gamma=0.4, learning_rate=0.25, max_depth=12, min_child_weight=5;, score=0.670 total time=  10.7s\n",
      "[11:06:41] WARNING: ../src/learner.cc:1115: Starting in XGBoost 1.3.0, the default evaluation metric used with the objective 'binary:logistic' was changed from 'error' to 'logloss'. Explicitly set eval_metric if you'd like to restore the old behavior.\n",
      "[CV 2/5] END colsample_bytree=0.3, gamma=0.0, learning_rate=0.3, max_depth=15, min_child_weight=7;, score=0.675 total time=  11.7s\n",
      "[11:06:53] WARNING: ../src/learner.cc:1115: Starting in XGBoost 1.3.0, the default evaluation metric used with the objective 'binary:logistic' was changed from 'error' to 'logloss'. Explicitly set eval_metric if you'd like to restore the old behavior.\n",
      "[CV 5/5] END colsample_bytree=0.3, gamma=0.0, learning_rate=0.3, max_depth=15, min_child_weight=7;, score=0.661 total time=  13.3s\n",
      "[11:07:06] WARNING: ../src/learner.cc:1115: Starting in XGBoost 1.3.0, the default evaluation metric used with the objective 'binary:logistic' was changed from 'error' to 'logloss'. Explicitly set eval_metric if you'd like to restore the old behavior.\n",
      "[CV 4/5] END colsample_bytree=0.7, gamma=0.2, learning_rate=0.25, max_depth=15, min_child_weight=5;, score=0.679 total time=  11.7s\n",
      "[11:06:41] WARNING: ../src/learner.cc:1115: Starting in XGBoost 1.3.0, the default evaluation metric used with the objective 'binary:logistic' was changed from 'error' to 'logloss'. Explicitly set eval_metric if you'd like to restore the old behavior.\n",
      "[CV 3/5] END colsample_bytree=0.3, gamma=0.4, learning_rate=0.2, max_depth=15, min_child_weight=7;, score=0.676 total time=  12.1s\n",
      "[11:06:53] WARNING: ../src/learner.cc:1115: Starting in XGBoost 1.3.0, the default evaluation metric used with the objective 'binary:logistic' was changed from 'error' to 'logloss'. Explicitly set eval_metric if you'd like to restore the old behavior.\n",
      "[CV 3/5] END colsample_bytree=0.4, gamma=0.3, learning_rate=0.1, max_depth=5, min_child_weight=7;, score=0.678 total time=   5.0s\n",
      "[11:06:58] WARNING: ../src/learner.cc:1115: Starting in XGBoost 1.3.0, the default evaluation metric used with the objective 'binary:logistic' was changed from 'error' to 'logloss'. Explicitly set eval_metric if you'd like to restore the old behavior.\n",
      "[CV 4/5] END colsample_bytree=0.3, gamma=0.4, learning_rate=0.25, max_depth=12, min_child_weight=5;, score=0.660 total time=  10.7s\n",
      "[11:06:41] WARNING: ../src/learner.cc:1115: Starting in XGBoost 1.3.0, the default evaluation metric used with the objective 'binary:logistic' was changed from 'error' to 'logloss'. Explicitly set eval_metric if you'd like to restore the old behavior.\n",
      "[CV 1/5] END colsample_bytree=0.3, gamma=0.4, learning_rate=0.2, max_depth=15, min_child_weight=7;, score=0.674 total time=  12.3s\n",
      "[11:06:53] WARNING: ../src/learner.cc:1115: Starting in XGBoost 1.3.0, the default evaluation metric used with the objective 'binary:logistic' was changed from 'error' to 'logloss'. Explicitly set eval_metric if you'd like to restore the old behavior.\n",
      "[CV 1/5] END colsample_bytree=0.3, gamma=0.4, learning_rate=0.25, max_depth=12, min_child_weight=5;, score=0.671 total time=  10.3s\n",
      "[11:07:03] WARNING: ../src/learner.cc:1115: Starting in XGBoost 1.3.0, the default evaluation metric used with the objective 'binary:logistic' was changed from 'error' to 'logloss'. Explicitly set eval_metric if you'd like to restore the old behavior.\n",
      "[CV 2/5] END colsample_bytree=0.7, gamma=0.2, learning_rate=0.25, max_depth=15, min_child_weight=5;, score=0.684 total time=  13.0s\n"
     ]
    },
    {
     "data": {
      "text/plain": [
       "RandomizedSearchCV(cv=5, estimator=RandomForestClassifier(random_state=0),\n",
       "                   n_jobs=-1,\n",
       "                   param_distributions={'n_estimators': array([  5,  10,  15,  20,  25,  30,  35,  40,  45,  50,  55,  60,  65,\n",
       "        70,  75,  80,  85,  90,  95, 100, 105, 110, 115, 120, 125, 130,\n",
       "       135, 140, 145, 150, 155, 160, 165, 170, 175, 180, 185, 190, 195])},\n",
       "                   scoring='accuracy', verbose=1)"
      ]
     },
     "execution_count": 108,
     "metadata": {},
     "output_type": "execute_result"
    }
   ],
   "source": [
    "rand_search = RandomizedSearchCV(RandomForestClassifier(random_state=0),\n",
    "                           {\n",
    "                              'n_estimators':np.arange(5,200,5)\n",
    "                            \n",
    "                            },cv=5, scoring=\"accuracy\",verbose=1,n_jobs=-1\n",
    "                           )\n",
    "rand_search.fit(X_train,y_train)"
   ]
  },
  {
   "cell_type": "code",
   "execution_count": 109,
   "id": "86aa7f2f",
   "metadata": {},
   "outputs": [
    {
     "data": {
      "text/plain": [
       "{'n_estimators': 195}"
      ]
     },
     "execution_count": 109,
     "metadata": {},
     "output_type": "execute_result"
    }
   ],
   "source": [
    "rand_search.best_params_"
   ]
  },
  {
   "cell_type": "code",
   "execution_count": 110,
   "id": "ff7aea4a",
   "metadata": {},
   "outputs": [
    {
     "data": {
      "text/plain": [
       "0.6494258600331037"
      ]
     },
     "execution_count": 110,
     "metadata": {},
     "output_type": "execute_result"
    }
   ],
   "source": [
    "rand_search.best_score_"
   ]
  },
  {
   "cell_type": "code",
   "execution_count": 111,
   "id": "233a9f33",
   "metadata": {},
   "outputs": [],
   "source": [
    "def generate_results(model, predictions, name):\n",
    "    cl_rep = classification_report(y_test, predictions)\n",
    "    print(\"\\nThe classification report for \" + name + \" is:\", cl_rep, sep = \"\\n\")\n",
    "    cm_model = confusion_matrix(y_test, predictions)\n",
    "    plt.figure(figsize = (8, 6))\n",
    "    sns.heatmap(cm_model, annot = True, cmap = 'Blues', annot_kws = {'size': 15}, square = True)\n",
    "    plt.title('Confusion Matrix for ' + name, size = 15)\n",
    "    plt.xticks(size = 15)\n",
    "    plt.yticks(size = 15)\n",
    "    plt.show() \n"
   ]
  },
  {
   "cell_type": "code",
   "execution_count": 112,
   "id": "7cd46509",
   "metadata": {},
   "outputs": [],
   "source": [
    "rfc = RandomForestClassifier(criterion= 'gini', max_features='auto', n_estimators=190)"
   ]
  },
  {
   "cell_type": "code",
   "execution_count": 113,
   "id": "c31d215f",
   "metadata": {},
   "outputs": [
    {
     "data": {
      "text/plain": [
       "RandomForestClassifier(n_estimators=190)"
      ]
     },
     "execution_count": 113,
     "metadata": {},
     "output_type": "execute_result"
    }
   ],
   "source": [
    "# Train the  model on the training data\n",
    "rfc.fit(X_train, np.ravel(y_train))"
   ]
  },
  {
   "cell_type": "code",
   "execution_count": 114,
   "id": "c297d709",
   "metadata": {},
   "outputs": [
    {
     "name": "stdout",
     "output_type": "stream",
     "text": [
      "[[1525 2044]\n",
      " [ 223 3377]]\n",
      "              precision    recall  f1-score   support\n",
      "\n",
      " Non Default       0.87      0.43      0.57      3569\n",
      "     Default       0.62      0.94      0.75      3600\n",
      "\n",
      "    accuracy                           0.68      7169\n",
      "   macro avg       0.75      0.68      0.66      7169\n",
      "weighted avg       0.75      0.68      0.66      7169\n",
      "\n"
     ]
    }
   ],
   "source": [
    "# Create predictions of probability for loan status using test data\n",
    "preds3 = rfc.predict_proba(X_test)\n",
    "# Create a dataframe for the probabilities of default\n",
    "\n",
    "preds_df3 = pd.DataFrame(preds3[:,1], columns = ['prob_default'])\n",
    "true_df = y_test\n",
    "\n",
    "# Concatenate and print the two data frames for comparison\n",
    "preds_df3 = pd.concat([true_df.reset_index(drop = True), preds_df3], axis = 1)\n",
    "\n",
    "# Reassign loan status based on the threshold\n",
    "preds_df3['loan_status_predicted'] = preds_df3['prob_default'].apply(lambda x: 1 if x > 0.4 else 0)\n",
    "preds_df3['predicted_status']= preds_df3['prob_default'].apply(lambda x: 'Non Default' if x > 0.4 else 'Default')\n",
    "# Print the confusion matrix\n",
    "print(confusion_matrix(y_test,preds_df3['loan_status_predicted']))\n",
    "\n",
    "# Print the classification report\n",
    "target_names = ['Non Default','Default']\n",
    "print(classification_report(y_test, preds_df3['loan_status_predicted'], target_names=target_names))"
   ]
  },
  {
   "cell_type": "code",
   "execution_count": 115,
   "id": "49a6991b",
   "metadata": {},
   "outputs": [
    {
     "name": "stdout",
     "output_type": "stream",
     "text": [
      "The accuracy of the Random Forest Classifier is: 67.10838331705956 %\n"
     ]
    },
    {
     "data": {
      "image/png": "[encoded data removed]",
      "text/plain": [
       "<Figure size 432x288 with 1 Axes>"
      ]
     },
     "metadata": {
      "needs_background": "light"
     },
     "output_type": "display_data"
    },
    {
     "data": {
      "text/plain": [
       "0.7427783615080477"
      ]
     },
     "execution_count": 115,
     "metadata": {},
     "output_type": "execute_result"
    }
   ],
   "source": [
    "# Print the accuracy score the model\n",
    "score3= rfc.score(X_test, y_test)\n",
    "print('The accuracy of the Random Forest Classifier is:', score3 * 100, '%')\n",
    "\n",
    "# Plot the ROC curve of the probabilities of default\n",
    "prob_default3 = preds3[:, 1]\n",
    "c=fallout_rfc, sensitivity_rfc, thresholds_rfc = metrics.roc_curve(y_test, prob_default3)\n",
    "plt.plot(fallout_rfc, sensitivity_rfc, color = 'darkorange')\n",
    "plt.plot([0, 1], [0, 1], linestyle='--')\n",
    "plt.show()\n",
    "\n",
    "# Compute the AUC and store it in a variable\n",
    "auc3 = roc_auc_score(y_test, preds3[:,1])\n",
    "auc3"
   ]
  },
  {
   "cell_type": "code",
   "execution_count": 116,
   "id": "a64fbbc9",
   "metadata": {},
   "outputs": [],
   "source": [
    "predsRFC = rfc.predict(X_test)"
   ]
  },
  {
   "cell_type": "code",
   "execution_count": 117,
   "id": "6d60e63d",
   "metadata": {},
   "outputs": [
    {
     "name": "stdout",
     "output_type": "stream",
     "text": [
      "\n",
      "The classification report for Random Forest Classifier is:\n",
      "              precision    recall  f1-score   support\n",
      "\n",
      "           0       0.70      0.59      0.64      3569\n",
      "           1       0.65      0.75      0.70      3600\n",
      "\n",
      "    accuracy                           0.67      7169\n",
      "   macro avg       0.67      0.67      0.67      7169\n",
      "weighted avg       0.67      0.67      0.67      7169\n",
      "\n"
     ]
    },
    {
     "data": {
      "image/png": "[encoded data removed]",
      "text/plain": [
       "<Figure size 576x432 with 2 Axes>"
      ]
     },
     "metadata": {
      "needs_background": "light"
     },
     "output_type": "display_data"
    }
   ],
   "source": [
    "generate_results(rfc, predsRFC, 'Random Forest Classifier')"
   ]
  },
  {
   "cell_type": "markdown",
   "id": "e7ba7c90",
   "metadata": {},
   "source": [
    "## Tpot"
   ]
  },
  {
   "cell_type": "code",
   "execution_count": 118,
   "id": "197e44fc",
   "metadata": {},
   "outputs": [
    {
     "name": "stdout",
     "output_type": "stream",
     "text": [
      "32 operators have been imported by TPOT.\n"
     ]
    },
    {
     "data": {
      "application/vnd.jupyter.widget-view+json": {
       "model_id": "",
       "version_major": 2,
       "version_minor": 0
      },
      "text/plain": [
       "Optimization Progress:   0%|          | 0/150 [00:00<?, ?pipeline/s]"
      ]
     },
     "metadata": {},
     "output_type": "display_data"
    },
    {
     "name": "stderr",
     "output_type": "stream",
     "text": [
      "/Users/dehilinesma/opt/anaconda3/lib/python3.9/site-packages/tpot/builtins/__init__.py:36: UserWarning: Warning: optional dependency `torch` is not available. - skipping import of NN models.\n",
      "  warnings.warn(\"Warning: optional dependency `torch` is not available. - skipping import of NN models.\")\n",
      "/Users/dehilinesma/opt/anaconda3/lib/python3.9/site-packages/tpot/builtins/__init__.py:36: UserWarning: Warning: optional dependency `torch` is not available. - skipping import of NN models.\n",
      "  warnings.warn(\"Warning: optional dependency `torch` is not available. - skipping import of NN models.\")\n",
      "/Users/dehilinesma/opt/anaconda3/lib/python3.9/site-packages/tpot/builtins/__init__.py:36: UserWarning: Warning: optional dependency `torch` is not available. - skipping import of NN models.\n",
      "  warnings.warn(\"Warning: optional dependency `torch` is not available. - skipping import of NN models.\")\n",
      "/Users/dehilinesma/opt/anaconda3/lib/python3.9/site-packages/tpot/builtins/__init__.py:36: UserWarning: Warning: optional dependency `torch` is not available. - skipping import of NN models.\n",
      "  warnings.warn(\"Warning: optional dependency `torch` is not available. - skipping import of NN models.\")\n",
      "/Users/dehilinesma/opt/anaconda3/lib/python3.9/site-packages/tpot/builtins/__init__.py:36: UserWarning: Warning: optional dependency `torch` is not available. - skipping import of NN models.\n",
      "  warnings.warn(\"Warning: optional dependency `torch` is not available. - skipping import of NN models.\")\n",
      "/Users/dehilinesma/opt/anaconda3/lib/python3.9/site-packages/tpot/builtins/__init__.py:36: UserWarning: Warning: optional dependency `torch` is not available. - skipping import of NN models.\n",
      "  warnings.warn(\"Warning: optional dependency `torch` is not available. - skipping import of NN models.\")\n",
      "/Users/dehilinesma/opt/anaconda3/lib/python3.9/site-packages/tpot/builtins/__init__.py:36: UserWarning: Warning: optional dependency `torch` is not available. - skipping import of NN models.\n",
      "  warnings.warn(\"Warning: optional dependency `torch` is not available. - skipping import of NN models.\")\n",
      "/Users/dehilinesma/opt/anaconda3/lib/python3.9/site-packages/tpot/builtins/__init__.py:36: UserWarning: Warning: optional dependency `torch` is not available. - skipping import of NN models.\n",
      "  warnings.warn(\"Warning: optional dependency `torch` is not available. - skipping import of NN models.\")\n",
      "/Users/dehilinesma/opt/anaconda3/lib/python3.9/site-packages/tpot/builtins/__init__.py:36: UserWarning: Warning: optional dependency `torch` is not available. - skipping import of NN models.\n",
      "  warnings.warn(\"Warning: optional dependency `torch` is not available. - skipping import of NN models.\")\n"
     ]
    },
    {
     "name": "stdout",
     "output_type": "stream",
     "text": [
      "_pre_test decorator: _random_mutation_operator: num_test=0 '(slice(None, None, None), 0)' is an invalid key.\n",
      "_pre_test decorator: _random_mutation_operator: num_test=0 Solver lbfgs supports only 'l2' or 'none' penalties, got l1 penalty..\n",
      "\n",
      "Generation 1 - Current Pareto front scores:\n",
      "\n",
      "-1\t0.6525793665570397\tExtraTreesClassifier(input_matrix, ExtraTreesClassifier__bootstrap=False, ExtraTreesClassifier__criterion=gini, ExtraTreesClassifier__max_features=0.7000000000000001, ExtraTreesClassifier__min_samples_leaf=4, ExtraTreesClassifier__min_samples_split=4, ExtraTreesClassifier__n_estimators=100)\n",
      "\n",
      "Generation 2 - Current Pareto front scores:\n",
      "\n",
      "-1\t0.6525793665570397\tExtraTreesClassifier(input_matrix, ExtraTreesClassifier__bootstrap=False, ExtraTreesClassifier__criterion=gini, ExtraTreesClassifier__max_features=0.7000000000000001, ExtraTreesClassifier__min_samples_leaf=4, ExtraTreesClassifier__min_samples_split=4, ExtraTreesClassifier__n_estimators=100)\n"
     ]
    },
    {
     "data": {
      "text/plain": [
       "TPOTClassifier(generations=2, mutation_rate=0.2, n_jobs=-1, population_size=50,\n",
       "               scoring='balanced_accuracy', verbosity=3)"
      ]
     },
     "execution_count": 118,
     "metadata": {},
     "output_type": "execute_result"
    }
   ],
   "source": [
    "model = TPOTClassifier(generations=2,\n",
    "                       mutation_rate=0.2, \n",
    "                       population_size=50, \n",
    "                       cv=5, scoring='balanced_accuracy', \n",
    "                       verbosity=3, \n",
    "                       n_jobs=-1)\n",
    "model.fit(X_train, np.ravel(y_train))"
   ]
  },
  {
   "cell_type": "code",
   "execution_count": 119,
   "id": "a562d072",
   "metadata": {},
   "outputs": [
    {
     "name": "stdout",
     "output_type": "stream",
     "text": [
      "[[1193 2376]\n",
      " [ 131 3469]]\n",
      "              precision    recall  f1-score   support\n",
      "\n",
      " Non Default       0.90      0.33      0.49      3569\n",
      "     Default       0.59      0.96      0.73      3600\n",
      "\n",
      "    accuracy                           0.65      7169\n",
      "   macro avg       0.75      0.65      0.61      7169\n",
      "weighted avg       0.75      0.65      0.61      7169\n",
      "\n"
     ]
    }
   ],
   "source": [
    "# Create predictions of probability for loan status using test data\n",
    "preds4 = model.predict_proba(X_test)\n",
    "# Create a dataframe for the probabilities of default\n",
    "\n",
    "preds_df4 = pd.DataFrame(preds4[:, 1], columns = ['prob_default'])\n",
    "true_df = y_test\n",
    "\n",
    "# Concatenate and print the two data frames for comparison\n",
    "preds_df4 = pd.concat([true_df.reset_index(drop = True), preds_df4], axis = 1)\n",
    "\n",
    "# Reassign loan status based on the threshold\n",
    "preds_df4['loan_status_predicted'] = preds_df4['prob_default'].apply(lambda x: 1 if x > 0.4 else 0)\n",
    "preds_df4['predicted_status']= preds_df4['prob_default'].apply(lambda x: 'Non Default' if x > 0.4 else 'Default')\n",
    "# Print the confusion matrix\n",
    "print(confusion_matrix(y_test,preds_df4['loan_status_predicted']))\n",
    "\n",
    "# Print the classification report\n",
    "target_names = ['Non Default','Default']\n",
    "print(classification_report(y_test, preds_df4['loan_status_predicted'], target_names=target_names))"
   ]
  },
  {
   "cell_type": "code",
   "execution_count": 120,
   "id": "28c3c441",
   "metadata": {},
   "outputs": [
    {
     "name": "stdout",
     "output_type": "stream",
     "text": [
      "The accuracy of the TPOT is: 67.3272625385262 %\n"
     ]
    },
    {
     "data": {
      "image/png": "[encoded data removed]",
      "text/plain": [
       "<Figure size 432x288 with 1 Axes>"
      ]
     },
     "metadata": {
      "needs_background": "light"
     },
     "output_type": "display_data"
    },
    {
     "data": {
      "text/plain": [
       "0.737444195386196"
      ]
     },
     "execution_count": 120,
     "metadata": {},
     "output_type": "execute_result"
    }
   ],
   "source": [
    "# Print the accuracy score the model\n",
    "score4= model.score(X_test, y_test)\n",
    "print('The accuracy of the TPOT is:', score4 * 100, '%')\n",
    "\n",
    "# Plot the ROC curve of the probabilities of default\n",
    "prob_default4 = preds4[:, 1]\n",
    "v=fallout_tpot, sensitivity_tpot, thresholds_tpot = metrics.roc_curve(y_test, prob_default4)\n",
    "plt.plot(fallout_tpot, sensitivity_tpot, color = 'darkorange')\n",
    "plt.plot([0, 1], [0, 1], linestyle='--')\n",
    "plt.show()\n",
    "\n",
    "# Compute the AUC and store it in a variable\n",
    "auc4 = roc_auc_score(y_test, prob_default4)\n",
    "auc4\n"
   ]
  },
  {
   "cell_type": "markdown",
   "id": "6a324680",
   "metadata": {},
   "source": [
    "## Comparing \n"
   ]
  },
  {
   "cell_type": "markdown",
   "id": "1424dc4e",
   "metadata": {},
   "source": [
    "### Classification report"
   ]
  },
  {
   "cell_type": "code",
   "execution_count": 121,
   "id": "b2ce8a8f",
   "metadata": {},
   "outputs": [
    {
     "name": "stdout",
     "output_type": "stream",
     "text": [
      "              precision    recall  f1-score   support\n",
      "\n",
      " Non Default       0.72      0.24      0.36      3569\n",
      "     Default       0.55      0.91      0.68      3600\n",
      "\n",
      "    accuracy                           0.58      7169\n",
      "   macro avg       0.64      0.57      0.52      7169\n",
      "weighted avg       0.63      0.58      0.52      7169\n",
      "\n",
      "              precision    recall  f1-score   support\n",
      "\n",
      " Non Default       0.85      0.25      0.39      3569\n",
      "     Default       0.56      0.95      0.71      3600\n",
      "\n",
      "    accuracy                           0.61      7169\n",
      "   macro avg       0.71      0.60      0.55      7169\n",
      "weighted avg       0.70      0.61      0.55      7169\n",
      "\n",
      "              precision    recall  f1-score   support\n",
      "\n",
      " Non Default       0.87      0.43      0.57      3569\n",
      "     Default       0.62      0.94      0.75      3600\n",
      "\n",
      "    accuracy                           0.68      7169\n",
      "   macro avg       0.75      0.68      0.66      7169\n",
      "weighted avg       0.75      0.68      0.66      7169\n",
      "\n",
      "              precision    recall  f1-score   support\n",
      "\n",
      " Non Default       0.90      0.33      0.49      3569\n",
      "     Default       0.59      0.96      0.73      3600\n",
      "\n",
      "    accuracy                           0.65      7169\n",
      "   macro avg       0.75      0.65      0.61      7169\n",
      "weighted avg       0.75      0.65      0.61      7169\n",
      "\n"
     ]
    }
   ],
   "source": [
    "from sklearn.metrics import precision_recall_fscore_support\n",
    "\n",
    "# Print the logistic regression classification report\n",
    "target_names = ['Non Default','Default']\n",
    "print(classification_report(y_test, preds_df['loan_status_predicted'], target_names=target_names))\n",
    "\n",
    "# Print the gradient boosted tree classification report\n",
    "print(classification_report(y_test, preds_df2['loan_status_predicted'], target_names=target_names))\n",
    "\n",
    "# Print the Random Forest classification report\n",
    "print(classification_report(y_test, preds_df3['loan_status_predicted'], target_names=target_names))\n",
    "\n",
    "# Print the Extra Tree (TPOT) classification report\n",
    "print(classification_report(y_test, preds_df4['loan_status_predicted'], target_names=target_names))\n",
    "\n",
    "\n",
    "\n"
   ]
  },
  {
   "cell_type": "code",
   "execution_count": 122,
   "id": "0800d8a8",
   "metadata": {},
   "outputs": [],
   "source": [
    "Models= ['Logistic Regression', 'Gardian boosted tree', 'Random Forest', 'TPOT']\n",
    "Accuracy= [score, score2, score3, score4]\n",
    "AUC= [auc1, auc2, auc3, auc4]\n"
   ]
  },
  {
   "cell_type": "code",
   "execution_count": 123,
   "id": "81b7fe87",
   "metadata": {},
   "outputs": [],
   "source": [
    "Comparison= pd.DataFrame(zip(Models, Accuracy, AUC), columns= ['Models','Accuracy', 'AUC'])"
   ]
  },
  {
   "cell_type": "code",
   "execution_count": 124,
   "id": "e63930c1",
   "metadata": {},
   "outputs": [
    {
     "data": {
      "text/html": [
       "<div>\n",
       "<style scoped>\n",
       "    .dataframe tbody tr th:only-of-type {\n",
       "        vertical-align: middle;\n",
       "    }\n",
       "\n",
       "    .dataframe tbody tr th {\n",
       "        vertical-align: top;\n",
       "    }\n",
       "\n",
       "    .dataframe thead th {\n",
       "        text-align: right;\n",
       "    }\n",
       "</style>\n",
       "<table border=\"1\" class=\"dataframe\">\n",
       "  <thead>\n",
       "    <tr style=\"text-align: right;\">\n",
       "      <th></th>\n",
       "      <th>Accuracy</th>\n",
       "      <th>AUC</th>\n",
       "    </tr>\n",
       "    <tr>\n",
       "      <th>Models</th>\n",
       "      <th></th>\n",
       "      <th></th>\n",
       "    </tr>\n",
       "  </thead>\n",
       "  <tbody>\n",
       "    <tr>\n",
       "      <th>Logistic Regression</th>\n",
       "      <td>0.577347</td>\n",
       "      <td>0.618945</td>\n",
       "    </tr>\n",
       "    <tr>\n",
       "      <th>Gardian boosted tree</th>\n",
       "      <td>0.623797</td>\n",
       "      <td>0.688455</td>\n",
       "    </tr>\n",
       "    <tr>\n",
       "      <th>Random Forest</th>\n",
       "      <td>0.671084</td>\n",
       "      <td>0.742778</td>\n",
       "    </tr>\n",
       "    <tr>\n",
       "      <th>TPOT</th>\n",
       "      <td>0.673273</td>\n",
       "      <td>0.737444</td>\n",
       "    </tr>\n",
       "  </tbody>\n",
       "</table>\n",
       "</div>"
      ],
      "text/plain": [
       "                      Accuracy       AUC\n",
       "Models                                  \n",
       "Logistic Regression   0.577347  0.618945\n",
       "Gardian boosted tree  0.623797  0.688455\n",
       "Random Forest         0.671084  0.742778\n",
       "TPOT                  0.673273  0.737444"
      ]
     },
     "execution_count": 124,
     "metadata": {},
     "output_type": "execute_result"
    }
   ],
   "source": [
    "Comparison.set_index('Models')"
   ]
  },
  {
   "cell_type": "code",
   "execution_count": 125,
   "id": "0b6bbc85",
   "metadata": {},
   "outputs": [],
   "source": [
    "#Comparison.to_csv('/Users/dehilinesma/Downloads/Final Project- Risk Analysis/comparison_models.csv')"
   ]
  },
  {
   "cell_type": "code",
   "execution_count": 126,
   "id": "cd3cd0bc",
   "metadata": {},
   "outputs": [],
   "source": [
    "Models= ['Logistic Regression', 'Gardian boosted tree', 'Random Forest', 'TPOT']\n",
    "fallout= [w[0], x[0], c[0], v[0]]\n",
    "sensitivity= [w[1], x[1], c[1], v[1]]"
   ]
  },
  {
   "cell_type": "code",
   "execution_count": 127,
   "id": "8fd0acd3",
   "metadata": {},
   "outputs": [],
   "source": [
    "AUC= pd.DataFrame(zip(Models, fallout, sensitivity), columns= ['Models','Fallout', 'Sensitivity']).set_index('Models')"
   ]
  },
  {
   "cell_type": "code",
   "execution_count": 128,
   "id": "215b4578",
   "metadata": {},
   "outputs": [],
   "source": [
    "#AUC.to_csv('/Users/dehilinesma/Downloads/Final Project- Risk Analysis/auc_models.csv')"
   ]
  },
  {
   "cell_type": "markdown",
   "id": "1846cf62",
   "metadata": {},
   "source": [
    "### Printing AUC diffrences"
   ]
  },
  {
   "cell_type": "code",
   "execution_count": 129,
   "id": "8fad216b",
   "metadata": {},
   "outputs": [
    {
     "data": {
      "image/png": "[encoded data removed]",
      "text/plain": [
       "<Figure size 432x288 with 1 Axes>"
      ]
     },
     "metadata": {
      "needs_background": "light"
     },
     "output_type": "display_data"
    }
   ],
   "source": [
    "# ROC chart components\n",
    "fallout, sensitivity, thresholds = metrics.roc_curve(y_test, preds[:,1])\n",
    "fallout_xgb, sensitivity_xgb, thresholds_xgb = metrics.roc_curve(y_test, preds2[:,1])\n",
    "fallout_rfc, sensitivity_rfc, thresholds_rfc = metrics.roc_curve(y_test, preds3[:,1])\n",
    "fallout_tpot, sensitivity_tpot, thresholds_tpot = metrics.roc_curve(y_test, preds4[:,1])\n",
    "\n",
    "# ROC Chart with both\n",
    "plt.plot(fallout, sensitivity, color = 'blue', label='%s' % 'Logistic Regression')\n",
    "plt.plot(fallout_xgb, sensitivity_xgb, color = 'brown', label='%s' % 'XGB')\n",
    "plt.plot(fallout_rfc, sensitivity_rfc, color = 'green', label='%s' % 'RFC')\n",
    "plt.plot(fallout_tpot, sensitivity_tpot, color = 'red', label='%s' % 'TPOT')\n",
    "plt.plot([0, 1], [0, 1], linestyle='--', label='%s' % 'Random Prediction')\n",
    "plt.title(\"ROC Chart for LR and GBT on the Probability of Default\")\n",
    "plt.xlabel('Fall-out')\n",
    "plt.ylabel('Sensitivity')\n",
    "plt.legend()\n",
    "plt.show()"
   ]
  },
  {
   "cell_type": "markdown",
   "id": "34c62990",
   "metadata": {},
   "source": [
    "### Checking Calibration "
   ]
  },
  {
   "cell_type": "code",
   "execution_count": 130,
   "id": "efd98b77",
   "metadata": {},
   "outputs": [],
   "source": [
    "from sklearn.calibration import calibration_curve\n",
    "a=calibration_curve(y_test, preds[:,1], n_bins = 20)\n",
    "frac_of_pos_lr=a[0]\n",
    "mean_pred_val_lr=a[1]\n",
    "\n",
    "\n",
    "\n",
    "\n",
    "b=calibration_curve(y_test, preds2[:,1], n_bins = 20)\n",
    "frac_of_pos_XGB= b[0]\n",
    "mean_pred_val_XGB= b[1]\n",
    "\n",
    "\n",
    "\n",
    "p=calibration_curve(y_test, preds3[:,1], n_bins = 20)\n",
    "frac_of_pos_RFC=p[0]\n",
    "mean_pred_val_RFC=p[1]\n",
    "\n",
    "\n",
    "\n",
    "d=calibration_curve(y_test, preds4[:,1], n_bins = 20)\n",
    "frac_of_pos_TPOT=d[0]\n",
    "mean_pred_val_TPOT=d[1]\n"
   ]
  },
  {
   "cell_type": "code",
   "execution_count": 131,
   "id": "362b1b12",
   "metadata": {},
   "outputs": [],
   "source": [
    "Models= ['Logistic Regression', 'Gardian boosted tree', 'Random Forest', 'TPOT']\n",
    "frac= [a[0], b[0], p[0], d[0]]\n",
    "mean_pred= [a[1], b[1], p[1], d[1]]"
   ]
  },
  {
   "cell_type": "code",
   "execution_count": 132,
   "id": "ed47b170",
   "metadata": {},
   "outputs": [],
   "source": [
    "calibration= pd.DataFrame(zip(Models, frac, mean_pred), columns= ['Models','frac_of_pos', 'mean_pred']).set_index('Models')"
   ]
  },
  {
   "cell_type": "code",
   "execution_count": 133,
   "id": "7d89d280",
   "metadata": {},
   "outputs": [
    {
     "data": {
      "text/html": [
       "<div>\n",
       "<style scoped>\n",
       "    .dataframe tbody tr th:only-of-type {\n",
       "        vertical-align: middle;\n",
       "    }\n",
       "\n",
       "    .dataframe tbody tr th {\n",
       "        vertical-align: top;\n",
       "    }\n",
       "\n",
       "    .dataframe thead th {\n",
       "        text-align: right;\n",
       "    }\n",
       "</style>\n",
       "<table border=\"1\" class=\"dataframe\">\n",
       "  <thead>\n",
       "    <tr style=\"text-align: right;\">\n",
       "      <th></th>\n",
       "      <th>frac_of_pos</th>\n",
       "      <th>mean_pred</th>\n",
       "    </tr>\n",
       "    <tr>\n",
       "      <th>Models</th>\n",
       "      <th></th>\n",
       "      <th></th>\n",
       "    </tr>\n",
       "  </thead>\n",
       "  <tbody>\n",
       "    <tr>\n",
       "      <th>Logistic Regression</th>\n",
       "      <td>[0.8333333333333334, 0.16666666666666666, 0.15...</td>\n",
       "      <td>[0.01480587227722624, 0.08027352856397078, 0.1...</td>\n",
       "    </tr>\n",
       "    <tr>\n",
       "      <th>Gardian boosted tree</th>\n",
       "      <td>[0.0, 0.0, 0.0, 0.043478260869565216, 0.1875, ...</td>\n",
       "      <td>[0.0022810687230917937, 0.07563416659832001, 0...</td>\n",
       "    </tr>\n",
       "    <tr>\n",
       "      <th>Random Forest</th>\n",
       "      <td>[0.0, 0.0, 0.03225806451612903, 0.017391304347...</td>\n",
       "      <td>[0.011244867487868557, 0.07437673130193904, 0....</td>\n",
       "    </tr>\n",
       "    <tr>\n",
       "      <th>TPOT</th>\n",
       "      <td>[0.0, 0.0, 0.0, 0.0, 0.12121212121212122, 0.08...</td>\n",
       "      <td>[0.010919273355584463, 0.07507567220343715, 0....</td>\n",
       "    </tr>\n",
       "  </tbody>\n",
       "</table>\n",
       "</div>"
      ],
      "text/plain": [
       "                                                            frac_of_pos  \\\n",
       "Models                                                                    \n",
       "Logistic Regression   [0.8333333333333334, 0.16666666666666666, 0.15...   \n",
       "Gardian boosted tree  [0.0, 0.0, 0.0, 0.043478260869565216, 0.1875, ...   \n",
       "Random Forest         [0.0, 0.0, 0.03225806451612903, 0.017391304347...   \n",
       "TPOT                  [0.0, 0.0, 0.0, 0.0, 0.12121212121212122, 0.08...   \n",
       "\n",
       "                                                              mean_pred  \n",
       "Models                                                                   \n",
       "Logistic Regression   [0.01480587227722624, 0.08027352856397078, 0.1...  \n",
       "Gardian boosted tree  [0.0022810687230917937, 0.07563416659832001, 0...  \n",
       "Random Forest         [0.011244867487868557, 0.07437673130193904, 0....  \n",
       "TPOT                  [0.010919273355584463, 0.07507567220343715, 0....  "
      ]
     },
     "execution_count": 133,
     "metadata": {},
     "output_type": "execute_result"
    }
   ],
   "source": [
    "calibration"
   ]
  },
  {
   "cell_type": "code",
   "execution_count": 134,
   "id": "1883e5d1",
   "metadata": {},
   "outputs": [
    {
     "data": {
      "image/png": "[encoded data removed]",
      "text/plain": [
       "<Figure size 432x288 with 1 Axes>"
      ]
     },
     "metadata": {
      "needs_background": "light"
     },
     "output_type": "display_data"
    }
   ],
   "source": [
    "# Add the calibration curve for the gradient boosted tree\n",
    "plt.plot([0, 1], [0, 1], 'k:', label='Perfectly calibrated') \n",
    "\n",
    "plt.plot(mean_pred_val_RFC, frac_of_pos_RFC,\n",
    "         's-', label='%s' % 'Random Forest Classifier')\n",
    "plt.plot(mean_pred_val_TPOT, frac_of_pos_TPOT,\n",
    "         's-', label='%s' % 'TPOT')\n",
    "plt.plot(mean_pred_val_lr, frac_of_pos_lr,\n",
    "         's-', label='%s' % 'Logistic Regression')\n",
    "plt.plot(mean_pred_val_XGB, frac_of_pos_XGB,\n",
    "         's-', label='%s' % 'Gradient Boosted Tree')\n",
    "\n",
    "plt.ylabel('Fraction of positives')\n",
    "plt.xlabel('Average Predicted Probability')\n",
    "plt.legend()\n",
    "plt.title('Calibration Curve')\n",
    "plt.show()\n"
   ]
  },
  {
   "cell_type": "markdown",
   "id": "f0d1d1cf",
   "metadata": {},
   "source": [
    "## Modelling : We take our best model and use it for our strategy "
   ]
  },
  {
   "cell_type": "code",
   "execution_count": 135,
   "id": "44994ed2",
   "metadata": {},
   "outputs": [
    {
     "data": {
      "text/html": [
       "<div>\n",
       "<style scoped>\n",
       "    .dataframe tbody tr th:only-of-type {\n",
       "        vertical-align: middle;\n",
       "    }\n",
       "\n",
       "    .dataframe tbody tr th {\n",
       "        vertical-align: top;\n",
       "    }\n",
       "\n",
       "    .dataframe thead th {\n",
       "        text-align: right;\n",
       "    }\n",
       "</style>\n",
       "<table border=\"1\" class=\"dataframe\">\n",
       "  <thead>\n",
       "    <tr style=\"text-align: right;\">\n",
       "      <th></th>\n",
       "      <th>Models</th>\n",
       "      <th>Accuracy</th>\n",
       "      <th>AUC</th>\n",
       "    </tr>\n",
       "  </thead>\n",
       "  <tbody>\n",
       "  </tbody>\n",
       "</table>\n",
       "</div>"
      ],
      "text/plain": [
       "Empty DataFrame\n",
       "Columns: [Models, Accuracy, AUC]\n",
       "Index: []"
      ]
     },
     "execution_count": 135,
     "metadata": {},
     "output_type": "execute_result"
    }
   ],
   "source": [
    "Comparison.loc[(Comparison['Accuracy']==Comparison['Accuracy'].max() ) & (Comparison['AUC'] ==Comparison['AUC'].max())]"
   ]
  },
  {
   "cell_type": "markdown",
   "id": "c6036699",
   "metadata": {},
   "source": [
    "## Looking for a strategy \n"
   ]
  },
  {
   "cell_type": "code",
   "execution_count": 136,
   "id": "f416c695",
   "metadata": {},
   "outputs": [],
   "source": [
    "accept_rates=[1.0, 0.95, 0.9, 0.85, 0.8, 0.75, 0.7, 0.65, 0.6, 0.55, 0.5, 0.45, 0.4, 0.35, 0.3, 0.25, 0.2, 0.15, 0.1, 0.05]"
   ]
  },
  {
   "cell_type": "code",
   "execution_count": 137,
   "id": "2542f324",
   "metadata": {},
   "outputs": [],
   "source": [
    "thresholds=[]\n",
    "badrates=[]"
   ]
  },
  {
   "cell_type": "code",
   "execution_count": 138,
   "id": "1ff4f422",
   "metadata": {},
   "outputs": [],
   "source": [
    "for i in accept_rates:\n",
    "    # Calculate the threshold \n",
    "    threshold= round(np.quantile(preds_df3['prob_default'],i),3)\n",
    "    thresholds.append(threshold)\n",
    "    \n",
    "    for i in thresholds:\n",
    "        preds_df3['pred_loan_status'] = preds_df3['prob_default'].apply(lambda x: 0 if x > i else 1)\n",
    "        \n",
    "        # Apply acceptance rate threshold\n",
    "        accepted_loans= preds_df3[preds_df3['pred_loan_status'] == 1]\n",
    "        \n",
    "        # Calculating the bad rate \n",
    "        badrates.append(np.sum((accepted_loans['Loan Status'])/accepted_loans['Loan Status'].count()))\n",
    "\n",
    "  "
   ]
  },
  {
   "cell_type": "code",
   "execution_count": 139,
   "id": "a5a6e82f",
   "metadata": {},
   "outputs": [],
   "source": [
    "#creating the Strategy DataFrame\n",
    "strategy= pd.DataFrame(zip(accept_rates, thresholds, badrates), columns= ['Acceptance Rate', 'Thresholds', 'Error rate'])"
   ]
  },
  {
   "cell_type": "code",
   "execution_count": 140,
   "id": "6a277959",
   "metadata": {},
   "outputs": [],
   "source": [
    "#strategy['Num of Accepted Loans']=\n",
    "\n",
    "Num_of_Accepted_Loans=[]\n",
    "\n",
    "#Calculating the Num of Accepted Loans\n",
    "for i in accept_rates:\n",
    "    a = len(preds_df3[preds_df3['prob_default']< np.quantile(preds_df3['prob_default'], i)])\n",
    "    Num_of_Accepted_Loans.append(a)\n"
   ]
  },
  {
   "cell_type": "code",
   "execution_count": 141,
   "id": "58d54d01",
   "metadata": {},
   "outputs": [],
   "source": [
    "strategy['Num of Accepted Loans']= Num_of_Accepted_Loans"
   ]
  },
  {
   "cell_type": "code",
   "execution_count": 142,
   "id": "abf6fdc4",
   "metadata": {},
   "outputs": [],
   "source": [
    "#Adding the avg loan\n",
    "strategy['Avg Loan Amount']= avg_loan = np.mean(X_test['Current Loan Amount'])"
   ]
  },
  {
   "cell_type": "code",
   "execution_count": 143,
   "id": "002097de",
   "metadata": {},
   "outputs": [],
   "source": [
    "# Calculating the Estimated Value\n",
    "strategy['Estimated Value']= ((strategy['Num of Accepted Loans'] * (1- strategy['Error rate'])) * strategy['Avg Loan Amount']) - (strategy['Num of Accepted Loans'] * strategy['Error rate'] * strategy['Avg Loan Amount'])"
   ]
  },
  {
   "cell_type": "code",
   "execution_count": 144,
   "id": "13a310c2",
   "metadata": {},
   "outputs": [
    {
     "data": {
      "text/html": [
       "<div>\n",
       "<style scoped>\n",
       "    .dataframe tbody tr th:only-of-type {\n",
       "        vertical-align: middle;\n",
       "    }\n",
       "\n",
       "    .dataframe tbody tr th {\n",
       "        vertical-align: top;\n",
       "    }\n",
       "\n",
       "    .dataframe thead th {\n",
       "        text-align: right;\n",
       "    }\n",
       "</style>\n",
       "<table border=\"1\" class=\"dataframe\">\n",
       "  <thead>\n",
       "    <tr style=\"text-align: right;\">\n",
       "      <th></th>\n",
       "      <th>Acceptance Rate</th>\n",
       "      <th>Thresholds</th>\n",
       "      <th>Error rate</th>\n",
       "      <th>Num of Accepted Loans</th>\n",
       "      <th>Avg Loan Amount</th>\n",
       "      <th>Estimated Value</th>\n",
       "    </tr>\n",
       "  </thead>\n",
       "  <tbody>\n",
       "    <tr>\n",
       "      <th>0</th>\n",
       "      <td>1.00</td>\n",
       "      <td>0.93</td>\n",
       "      <td>0.50</td>\n",
       "      <td>7168</td>\n",
       "      <td>293707.49</td>\n",
       "      <td>-8811224.73</td>\n",
       "    </tr>\n",
       "    <tr>\n",
       "      <th>1</th>\n",
       "      <td>0.95</td>\n",
       "      <td>0.73</td>\n",
       "      <td>0.50</td>\n",
       "      <td>6777</td>\n",
       "      <td>293707.49</td>\n",
       "      <td>-8330590.12</td>\n",
       "    </tr>\n",
       "    <tr>\n",
       "      <th>2</th>\n",
       "      <td>0.90</td>\n",
       "      <td>0.69</td>\n",
       "      <td>0.49</td>\n",
       "      <td>6439</td>\n",
       "      <td>293707.49</td>\n",
       "      <td>51067788.65</td>\n",
       "    </tr>\n",
       "    <tr>\n",
       "      <th>3</th>\n",
       "      <td>0.85</td>\n",
       "      <td>0.66</td>\n",
       "      <td>0.50</td>\n",
       "      <td>6024</td>\n",
       "      <td>293707.49</td>\n",
       "      <td>-7404968.99</td>\n",
       "    </tr>\n",
       "    <tr>\n",
       "      <th>4</th>\n",
       "      <td>0.80</td>\n",
       "      <td>0.64</td>\n",
       "      <td>0.49</td>\n",
       "      <td>5676</td>\n",
       "      <td>293707.49</td>\n",
       "      <td>45016426.21</td>\n",
       "    </tr>\n",
       "    <tr>\n",
       "      <th>5</th>\n",
       "      <td>0.75</td>\n",
       "      <td>0.62</td>\n",
       "      <td>0.47</td>\n",
       "      <td>5286</td>\n",
       "      <td>293707.49</td>\n",
       "      <td>85595731.92</td>\n",
       "    </tr>\n",
       "    <tr>\n",
       "      <th>6</th>\n",
       "      <td>0.70</td>\n",
       "      <td>0.60</td>\n",
       "      <td>0.50</td>\n",
       "      <td>4977</td>\n",
       "      <td>293707.49</td>\n",
       "      <td>-6117949.98</td>\n",
       "    </tr>\n",
       "    <tr>\n",
       "      <th>7</th>\n",
       "      <td>0.65</td>\n",
       "      <td>0.58</td>\n",
       "      <td>0.49</td>\n",
       "      <td>4631</td>\n",
       "      <td>293707.49</td>\n",
       "      <td>36728518.28</td>\n",
       "    </tr>\n",
       "    <tr>\n",
       "      <th>8</th>\n",
       "      <td>0.60</td>\n",
       "      <td>0.57</td>\n",
       "      <td>0.47</td>\n",
       "      <td>4274</td>\n",
       "      <td>293707.49</td>\n",
       "      <td>69208505.15</td>\n",
       "    </tr>\n",
       "    <tr>\n",
       "      <th>9</th>\n",
       "      <td>0.55</td>\n",
       "      <td>0.55</td>\n",
       "      <td>0.46</td>\n",
       "      <td>3851</td>\n",
       "      <td>293707.49</td>\n",
       "      <td>90648200.55</td>\n",
       "    </tr>\n",
       "    <tr>\n",
       "      <th>10</th>\n",
       "      <td>0.50</td>\n",
       "      <td>0.53</td>\n",
       "      <td>0.50</td>\n",
       "      <td>3543</td>\n",
       "      <td>293707.49</td>\n",
       "      <td>-4355213.34</td>\n",
       "    </tr>\n",
       "    <tr>\n",
       "      <th>11</th>\n",
       "      <td>0.45</td>\n",
       "      <td>0.51</td>\n",
       "      <td>0.49</td>\n",
       "      <td>3133</td>\n",
       "      <td>293707.49</td>\n",
       "      <td>24847861.75</td>\n",
       "    </tr>\n",
       "    <tr>\n",
       "      <th>12</th>\n",
       "      <td>0.40</td>\n",
       "      <td>0.50</td>\n",
       "      <td>0.47</td>\n",
       "      <td>2853</td>\n",
       "      <td>293707.49</td>\n",
       "      <td>46198377.44</td>\n",
       "    </tr>\n",
       "    <tr>\n",
       "      <th>13</th>\n",
       "      <td>0.35</td>\n",
       "      <td>0.47</td>\n",
       "      <td>0.46</td>\n",
       "      <td>2504</td>\n",
       "      <td>293707.49</td>\n",
       "      <td>58941338.40</td>\n",
       "    </tr>\n",
       "    <tr>\n",
       "      <th>14</th>\n",
       "      <td>0.30</td>\n",
       "      <td>0.44</td>\n",
       "      <td>0.45</td>\n",
       "      <td>2090</td>\n",
       "      <td>293707.49</td>\n",
       "      <td>62724403.70</td>\n",
       "    </tr>\n",
       "    <tr>\n",
       "      <th>15</th>\n",
       "      <td>0.25</td>\n",
       "      <td>0.41</td>\n",
       "      <td>0.50</td>\n",
       "      <td>1787</td>\n",
       "      <td>293707.49</td>\n",
       "      <td>-2196659.96</td>\n",
       "    </tr>\n",
       "    <tr>\n",
       "      <th>16</th>\n",
       "      <td>0.20</td>\n",
       "      <td>0.34</td>\n",
       "      <td>0.49</td>\n",
       "      <td>1429</td>\n",
       "      <td>293707.49</td>\n",
       "      <td>11333416.68</td>\n",
       "    </tr>\n",
       "    <tr>\n",
       "      <th>17</th>\n",
       "      <td>0.15</td>\n",
       "      <td>0.22</td>\n",
       "      <td>0.47</td>\n",
       "      <td>1059</td>\n",
       "      <td>293707.49</td>\n",
       "      <td>17148293.63</td>\n",
       "    </tr>\n",
       "    <tr>\n",
       "      <th>18</th>\n",
       "      <td>0.10</td>\n",
       "      <td>0.14</td>\n",
       "      <td>0.46</td>\n",
       "      <td>696</td>\n",
       "      <td>293707.49</td>\n",
       "      <td>16383055.72</td>\n",
       "    </tr>\n",
       "    <tr>\n",
       "      <th>19</th>\n",
       "      <td>0.05</td>\n",
       "      <td>0.01</td>\n",
       "      <td>0.45</td>\n",
       "      <td>286</td>\n",
       "      <td>293707.49</td>\n",
       "      <td>8583339.45</td>\n",
       "    </tr>\n",
       "  </tbody>\n",
       "</table>\n",
       "</div>"
      ],
      "text/plain": [
       "    Acceptance Rate  Thresholds  Error rate  Num of Accepted Loans  \\\n",
       "0              1.00        0.93        0.50                   7168   \n",
       "1              0.95        0.73        0.50                   6777   \n",
       "2              0.90        0.69        0.49                   6439   \n",
       "3              0.85        0.66        0.50                   6024   \n",
       "4              0.80        0.64        0.49                   5676   \n",
       "5              0.75        0.62        0.47                   5286   \n",
       "6              0.70        0.60        0.50                   4977   \n",
       "7              0.65        0.58        0.49                   4631   \n",
       "8              0.60        0.57        0.47                   4274   \n",
       "9              0.55        0.55        0.46                   3851   \n",
       "10             0.50        0.53        0.50                   3543   \n",
       "11             0.45        0.51        0.49                   3133   \n",
       "12             0.40        0.50        0.47                   2853   \n",
       "13             0.35        0.47        0.46                   2504   \n",
       "14             0.30        0.44        0.45                   2090   \n",
       "15             0.25        0.41        0.50                   1787   \n",
       "16             0.20        0.34        0.49                   1429   \n",
       "17             0.15        0.22        0.47                   1059   \n",
       "18             0.10        0.14        0.46                    696   \n",
       "19             0.05        0.01        0.45                    286   \n",
       "\n",
       "    Avg Loan Amount  Estimated Value  \n",
       "0         293707.49      -8811224.73  \n",
       "1         293707.49      -8330590.12  \n",
       "2         293707.49      51067788.65  \n",
       "3         293707.49      -7404968.99  \n",
       "4         293707.49      45016426.21  \n",
       "5         293707.49      85595731.92  \n",
       "6         293707.49      -6117949.98  \n",
       "7         293707.49      36728518.28  \n",
       "8         293707.49      69208505.15  \n",
       "9         293707.49      90648200.55  \n",
       "10        293707.49      -4355213.34  \n",
       "11        293707.49      24847861.75  \n",
       "12        293707.49      46198377.44  \n",
       "13        293707.49      58941338.40  \n",
       "14        293707.49      62724403.70  \n",
       "15        293707.49      -2196659.96  \n",
       "16        293707.49      11333416.68  \n",
       "17        293707.49      17148293.63  \n",
       "18        293707.49      16383055.72  \n",
       "19        293707.49       8583339.45  "
      ]
     },
     "execution_count": 144,
     "metadata": {},
     "output_type": "execute_result"
    }
   ],
   "source": [
    "round(strategy,2)"
   ]
  },
  {
   "cell_type": "code",
   "execution_count": 145,
   "id": "476cb432",
   "metadata": {},
   "outputs": [],
   "source": [
    "#strategy.to_excel('/Users/dehilinesma/Downloads/Final Project- Risk Analysis/strategy.xlsx')"
   ]
  },
  {
   "cell_type": "code",
   "execution_count": 146,
   "id": "69caef03",
   "metadata": {},
   "outputs": [
    {
     "data": {
      "text/html": [
       "<div>\n",
       "<style scoped>\n",
       "    .dataframe tbody tr th:only-of-type {\n",
       "        vertical-align: middle;\n",
       "    }\n",
       "\n",
       "    .dataframe tbody tr th {\n",
       "        vertical-align: top;\n",
       "    }\n",
       "\n",
       "    .dataframe thead th {\n",
       "        text-align: right;\n",
       "    }\n",
       "</style>\n",
       "<table border=\"1\" class=\"dataframe\">\n",
       "  <thead>\n",
       "    <tr style=\"text-align: right;\">\n",
       "      <th></th>\n",
       "      <th>Acceptance Rate</th>\n",
       "      <th>Thresholds</th>\n",
       "      <th>Error rate</th>\n",
       "      <th>Num of Accepted Loans</th>\n",
       "      <th>Avg Loan Amount</th>\n",
       "      <th>Estimated Value</th>\n",
       "    </tr>\n",
       "  </thead>\n",
       "  <tbody>\n",
       "    <tr>\n",
       "      <th>9</th>\n",
       "      <td>0.55</td>\n",
       "      <td>0.547</td>\n",
       "      <td>0.459928</td>\n",
       "      <td>3851</td>\n",
       "      <td>293707.490863</td>\n",
       "      <td>9.064820e+07</td>\n",
       "    </tr>\n",
       "  </tbody>\n",
       "</table>\n",
       "</div>"
      ],
      "text/plain": [
       "   Acceptance Rate  Thresholds  Error rate  Num of Accepted Loans  \\\n",
       "9             0.55       0.547    0.459928                   3851   \n",
       "\n",
       "   Avg Loan Amount  Estimated Value  \n",
       "9    293707.490863     9.064820e+07  "
      ]
     },
     "execution_count": 146,
     "metadata": {},
     "output_type": "execute_result"
    }
   ],
   "source": [
    "# Print the row with the max estimated value\n",
    "best= strategy.loc[strategy['Estimated Value'] == strategy['Estimated Value'].max()]\n",
    "best"
   ]
  },
  {
   "cell_type": "code",
   "execution_count": 147,
   "id": "1cf087da",
   "metadata": {},
   "outputs": [],
   "source": [
    "a=best['Thresholds'][9]"
   ]
  },
  {
   "cell_type": "code",
   "execution_count": 149,
   "id": "4a09ab45",
   "metadata": {},
   "outputs": [
    {
     "data": {
      "text/plain": [
       "<matplotlib.lines.Line2D at 0x7f81ed748e50>"
      ]
     },
     "execution_count": 149,
     "metadata": {},
     "output_type": "execute_result"
    },
    {
     "data": {
      "image/png": "[encoded data removed]",
      "text/plain": [
       "<Figure size 432x288 with 1 Axes>"
      ]
     },
     "metadata": {
      "needs_background": "light"
     },
     "output_type": "display_data"
    }
   ],
   "source": [
    "fig, (ax1) = plt.subplots(1, 1)\n",
    "ax1.hist(preds_df3['prob_default'], color = 'blue', bins = 40)\n",
    "ax1.set_title('Probability of default')\n",
    "ax1.axvline(x=0.553, color='r', linestyle='dashed', linewidth=2)\n",
    "\n"
   ]
  },
  {
   "cell_type": "code",
   "execution_count": null,
   "id": "64ef2948",
   "metadata": {},
   "outputs": [],
   "source": []
  },
  {
   "cell_type": "code",
   "execution_count": null,
   "id": "55d9506c",
   "metadata": {},
   "outputs": [],
   "source": []
  }
 ],
 "metadata": {
  "kernelspec": {
   "display_name": "Python 3 (ipykernel)",
   "language": "python",
   "name": "python3"
  },
  "language_info": {
   "codemirror_mode": {
    "name": "ipython",
    "version": 3
   },
   "file_extension": ".py",
   "mimetype": "text/x-python",
   "name": "python",
   "nbconvert_exporter": "python",
   "pygments_lexer": "ipython3",
   "version": "3.9.7"
  }
 },
 "nbformat": 4,
 "nbformat_minor": 5
}
